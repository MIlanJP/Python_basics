{
 "cells": [
  {
   "cell_type": "code",
   "execution_count": 4,
   "id": "2199a5f3",
   "metadata": {},
   "outputs": [
    {
     "data": {
      "text/plain": [
       "'Milan'"
      ]
     },
     "execution_count": 4,
     "metadata": {},
     "output_type": "execute_result"
    }
   ],
   "source": [
    "name='Milan'\n",
    "name"
   ]
  },
  {
   "cell_type": "code",
   "execution_count": 1,
   "id": "aa0917fe",
   "metadata": {},
   "outputs": [
    {
     "data": {
      "text/plain": [
       "3"
      ]
     },
     "execution_count": 1,
     "metadata": {},
     "output_type": "execute_result"
    }
   ],
   "source": [
    "a=1\n",
    "b=2\n",
    "c=a+b\n",
    "c"
   ]
  },
  {
   "cell_type": "code",
   "execution_count": 3,
   "id": "4ba09b2b",
   "metadata": {},
   "outputs": [
    {
     "name": "stdout",
     "output_type": "stream",
     "text": [
      "10 4.9 milan False\n"
     ]
    }
   ],
   "source": [
    "price=10\n",
    "rating=4.9\n",
    "name=\"milan\"\n",
    "present=False\n",
    "print(price,rating,name,present)"
   ]
  },
  {
   "cell_type": "code",
   "execution_count": 6,
   "id": "14c382f1",
   "metadata": {},
   "outputs": [
    {
     "name": "stdout",
     "output_type": "stream",
     "text": [
      "What is your name?Milan\n",
      "What is your fav colorRed\n",
      "Milan likes Red color\n"
     ]
    }
   ],
   "source": [
    "name=input(\"What is your name?\")\n",
    "color=input(\"What is your fav color\")\n",
    "print(name +' likes ' + color +' color')\n"
   ]
  },
  {
   "cell_type": "code",
   "execution_count": 9,
   "id": "78c22a64",
   "metadata": {},
   "outputs": [
    {
     "name": "stdout",
     "output_type": "stream",
     "text": [
      "Your Year of Birth 1995\n",
      "<class 'str'>\n",
      "26\n"
     ]
    }
   ],
   "source": [
    "birth_year=input(\"Your Year of Birth \")\n",
    "print(type(birth_year))\n",
    "age=2021-int(birth_year)\n",
    "print(age)"
   ]
  },
  {
   "cell_type": "code",
   "execution_count": 12,
   "id": "fc4a9ae6",
   "metadata": {},
   "outputs": [
    {
     "name": "stdout",
     "output_type": "stream",
     "text": [
      "Enter the weight in kilogram 330\n",
      "148\n"
     ]
    }
   ],
   "source": [
    "weight_in_lbs=input(\"Enter the weight in kilogram \")\n",
    "weight_in_pounds=int(int(weight_in_lbs) * .45)\n",
    "print(weight_in_pounds)"
   ]
  },
  {
   "cell_type": "code",
   "execution_count": 25,
   "id": "da16ce87",
   "metadata": {},
   "outputs": [
    {
     "name": "stdout",
     "output_type": "stream",
     "text": [
      "s\n",
      "t\n",
      "python is \n",
      "python is a wonderful course\n",
      "python is \n",
      "python is a wonderful course\n",
      "ython is a wonderful cours\n",
      "\n"
     ]
    }
   ],
   "source": [
    "course=\"python is a wonderful course\"\n",
    "print(course[-2])\n",
    "print(course[2])\n",
    "print(course[0: 10])\n",
    "print(course[0: ])\n",
    "print(course[:10])\n",
    "print(course[:])\n",
    "print(course[1:-1])\n"
   ]
  },
  {
   "cell_type": "code",
   "execution_count": null,
   "id": "7e25beee",
   "metadata": {},
   "outputs": [],
   "source": []
  }
 ],
 "metadata": {
  "kernelspec": {
   "display_name": "Python 3",
   "language": "python",
   "name": "python3"
  },
  "language_info": {
   "codemirror_mode": {
    "name": "ipython",
    "version": 3
   },
   "file_extension": ".py",
   "mimetype": "text/x-python",
   "name": "python",
   "nbconvert_exporter": "python",
   "pygments_lexer": "ipython3",
   "version": "3.8.8"
  }
 },
 "nbformat": 4,
 "nbformat_minor": 5
}
