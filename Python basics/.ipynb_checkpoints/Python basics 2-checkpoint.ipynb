{
 "cells": [
  {
   "cell_type": "markdown",
   "id": "023eacd8",
   "metadata": {},
   "source": [
    "# Loops and iteration\n",
    "\n",
    "In python we have only two loops statements they are :\n",
    "1.\tfor loop\n",
    "2.\twhile loop\n",
    "Note : Switch statement is not there in python unlike java and C langauges\n",
    "\n",
    "# For Loops\n",
    "For loops acts as iterator in python  the for loop in python is used to iterate through an iterable objects like\n",
    "List,tuple,set,etc..\n",
    "# While Loops\n",
    "While loops are similar to if statements where as it executes on cycles if the conditions are true\n",
    "\n"
   ]
  },
  {
   "cell_type": "code",
   "execution_count": 1,
   "id": "9a4d85ab",
   "metadata": {},
   "outputs": [],
   "source": [
    "#  for item in object:\n",
    "#     statements to do stuff"
   ]
  },
  {
   "cell_type": "markdown",
   "id": "0863026d",
   "metadata": {},
   "source": [
    "The name item is left to the coder to use appropriate names that will make sense and will be able to understand the code while revisiting the code"
   ]
  },
  {
   "cell_type": "code",
   "execution_count": 3,
   "id": "52357c3a",
   "metadata": {},
   "outputs": [],
   "source": [
    "# Lets try some simple for loop \n",
    "got_houses=[\"stark\",\"Arryn\",\"Barathon\",\"Tuloy\",\"Grayjoy\",\"Travel\",\"Pokemon\",\"Degomon\",\"Doremon\",\"Indian\",\"National\",\"Security\"]"
   ]
  },
  {
   "cell_type": "code",
   "execution_count": 7,
   "id": "13a53e91",
   "metadata": {},
   "outputs": [
    {
     "name": "stdout",
     "output_type": "stream",
     "text": [
      "names are stark\n",
      "names are Arryn\n",
      "names are Barathon\n",
      "names are Tuloy\n",
      "names are Grayjoy\n",
      "names are Travel\n",
      "names are Pokemon\n",
      "names are Degomon\n",
      "names are Doremon\n",
      "names are Indian\n",
      "names are National\n",
      "names are Security\n"
     ]
    }
   ],
   "source": [
    "for names in got_houses:\n",
    "    print(f'names are {names}')"
   ]
  },
  {
   "cell_type": "code",
   "execution_count": 8,
   "id": "c3fd0021",
   "metadata": {},
   "outputs": [
    {
     "data": {
      "text/plain": [
       "['stark',\n",
       " 'Arryn',\n",
       " 'Barathon',\n",
       " 'Tuloy',\n",
       " 'Grayjoy',\n",
       " 'Travel',\n",
       " 'Pokemon',\n",
       " 'Degomon',\n",
       " 'Doremon',\n",
       " 'Indian',\n",
       " 'National',\n",
       " 'Security']"
      ]
     },
     "execution_count": 8,
     "metadata": {},
     "output_type": "execute_result"
    }
   ],
   "source": [
    "got_houses"
   ]
  },
  {
   "cell_type": "code",
   "execution_count": 11,
   "id": "e5af9e7b",
   "metadata": {},
   "outputs": [
    {
     "name": "stdout",
     "output_type": "stream",
     "text": [
      "The names are stark and the number are 0\n",
      "The names are Arryn and the number are 1\n",
      "The names are Barathon and the number are 2\n",
      "The names are Tuloy and the number are 3\n",
      "The names are Grayjoy and the number are 4\n",
      "The names are Travel and the number are 5\n",
      "The names are Pokemon and the number are 6\n",
      "The names are Degomon and the number are 7\n",
      "The names are Doremon and the number are 8\n",
      "The names are Indian and the number are 9\n",
      "The names are National and the number are 10\n",
      "The names are Security and the number are 11\n"
     ]
    }
   ],
   "source": [
    "# Another way of for loop\n",
    "for number,names in enumerate(got_houses):\n",
    "    print(f'The names are {names} and the number are {number}')\n",
    "# If you need to make use of index also then you need to use the enumerate function to iterate through the list"
   ]
  },
  {
   "cell_type": "code",
   "execution_count": 12,
   "id": "cab9cada",
   "metadata": {},
   "outputs": [],
   "source": [
    "x=1,2"
   ]
  },
  {
   "cell_type": "code",
   "execution_count": 13,
   "id": "fd0137ad",
   "metadata": {},
   "outputs": [
    {
     "data": {
      "text/plain": [
       "(1, 2)"
      ]
     },
     "execution_count": 13,
     "metadata": {},
     "output_type": "execute_result"
    }
   ],
   "source": [
    "x"
   ]
  },
  {
   "cell_type": "code",
   "execution_count": 14,
   "id": "7e798798",
   "metadata": {},
   "outputs": [
    {
     "data": {
      "text/plain": [
       "[(0, 1), (1, 2)]"
      ]
     },
     "execution_count": 14,
     "metadata": {},
     "output_type": "execute_result"
    }
   ],
   "source": [
    "list(enumerate(x))"
   ]
  },
  {
   "cell_type": "code",
   "execution_count": 17,
   "id": "40b55e2b",
   "metadata": {},
   "outputs": [
    {
     "data": {
      "text/plain": [
       "[(0, 'stark'),\n",
       " (1, 'Arryn'),\n",
       " (2, 'Barathon'),\n",
       " (3, 'Tuloy'),\n",
       " (4, 'Grayjoy'),\n",
       " (5, 'Travel'),\n",
       " (6, 'Pokemon'),\n",
       " (7, 'Degomon'),\n",
       " (8, 'Doremon'),\n",
       " (9, 'Indian'),\n",
       " (10, 'National'),\n",
       " (11, 'Security')]"
      ]
     },
     "execution_count": 17,
     "metadata": {},
     "output_type": "execute_result"
    }
   ],
   "source": [
    "list(enumerate(got_houses))\n",
    "# Using enumerate function you can join index to the list and store it in the tuple so that it results in lists of tuples contains key and value pair"
   ]
  },
  {
   "cell_type": "code",
   "execution_count": 18,
   "id": "492b7494",
   "metadata": {},
   "outputs": [
    {
     "data": {
      "text/plain": [
       "{0: 'stark',\n",
       " 1: 'Arryn',\n",
       " 2: 'Barathon',\n",
       " 3: 'Tuloy',\n",
       " 4: 'Grayjoy',\n",
       " 5: 'Travel',\n",
       " 6: 'Pokemon',\n",
       " 7: 'Degomon',\n",
       " 8: 'Doremon',\n",
       " 9: 'Indian',\n",
       " 10: 'National',\n",
       " 11: 'Security'}"
      ]
     },
     "execution_count": 18,
     "metadata": {},
     "output_type": "execute_result"
    }
   ],
   "source": [
    "dict(list(enumerate(got_houses)))\n",
    "# Using the enumerate function you can convert the list of tuples containing the key and value pair into dictionary"
   ]
  },
  {
   "cell_type": "markdown",
   "id": "0b81517a",
   "metadata": {},
   "source": [
    "# Example 2 (for Loop)"
   ]
  },
  {
   "cell_type": "code",
   "execution_count": 22,
   "id": "961a0fe7",
   "metadata": {},
   "outputs": [],
   "source": [
    "list_of_numbers=[1,2,3,4,5,6,7,8,9]\n",
    "list_of_numbers2=[1,2,4,6,11,14,17,20]"
   ]
  },
  {
   "cell_type": "code",
   "execution_count": 23,
   "id": "c6ec1c91",
   "metadata": {},
   "outputs": [
    {
     "name": "stdout",
     "output_type": "stream",
     "text": [
      "the square of number 1 is 1\n",
      "the square of number 2 is 4\n",
      "the square of number 4 is 16\n",
      "the square of number 6 is 36\n",
      "the square of number 11 is 121\n",
      "the square of number 14 is 196\n",
      "the square of number 17 is 289\n",
      "the square of number 20 is 400\n"
     ]
    }
   ],
   "source": [
    "# Printing the square of numbers in list using for loop\n",
    "for number in list_of_numbers2:\n",
    "    print(f'the square of number {number} is {number ** 2}')"
   ]
  },
  {
   "cell_type": "code",
   "execution_count": 24,
   "id": "b42109d6",
   "metadata": {},
   "outputs": [
    {
     "data": {
      "text/plain": [
       "[1, 4, 16, 36, 121, 196, 289, 400]"
      ]
     },
     "execution_count": 24,
     "metadata": {},
     "output_type": "execute_result"
    }
   ],
   "source": [
    "#  Suppose you dont want to print during execution of for loop and you want to just append the result to a separate list then you can try these things like code below\n",
    "squared_numbers=[]\n",
    "for number in list_of_numbers2:\n",
    "    squared_numbers.append(number**2)\n",
    "squared_numbers\n",
    "    "
   ]
  },
  {
   "cell_type": "code",
   "execution_count": 26,
   "id": "8f0898e0",
   "metadata": {},
   "outputs": [
    {
     "data": {
      "text/plain": [
       "{1: 1, 2: 4, 4: 16, 6: 36, 11: 121, 14: 196, 17: 289, 20: 400}"
      ]
     },
     "execution_count": 26,
     "metadata": {},
     "output_type": "execute_result"
    }
   ],
   "source": [
    "zipped_dict=dict(zip(list_of_numbers2,squared_numbers))\n",
    "zipped_dict"
   ]
  },
  {
   "cell_type": "code",
   "execution_count": 28,
   "id": "299e0bae",
   "metadata": {},
   "outputs": [
    {
     "name": "stdout",
     "output_type": "stream",
     "text": [
      "the odd number 1 has its squared number as 1 my master prohibits me from using odd numbers for squares but its okay\n",
      "the even number 2 has its squared number as 4\n",
      "the even number 4 has its squared number as 16\n",
      "the even number 6 has its squared number as 36\n",
      "the odd number 11 has its squared number as 121 my master prohibits me from using odd numbers for squares but its okay\n",
      "the even number 14 has its squared number as 196\n",
      "the odd number 17 has its squared number as 289 my master prohibits me from using odd numbers for squares but its okay\n",
      "the even number 20 has its squared number as 400\n"
     ]
    }
   ],
   "source": [
    "for number in list_of_numbers2:\n",
    "    if number %2 ==0:\n",
    "        squared_number=number**2\n",
    "        print(f'the even number {number} has its squared number as {squared_number}')\n",
    "    else:\n",
    "        squared_number=number**2\n",
    "        print(f'the odd number {number} has its squared number as {squared_number} my master prohibits me from using odd numbers for squares but its okay')"
   ]
  },
  {
   "cell_type": "code",
   "execution_count": 29,
   "id": "e2300b41",
   "metadata": {},
   "outputs": [
    {
     "data": {
      "text/plain": [
       "[0, 1, 2, 3, 4, 5, 6, 7, 8, 9]"
      ]
     },
     "execution_count": 29,
     "metadata": {},
     "output_type": "execute_result"
    }
   ],
   "source": [
    "# Range function\n",
    "list(range(10))"
   ]
  },
  {
   "cell_type": "code",
   "execution_count": 33,
   "id": "e75e602a",
   "metadata": {},
   "outputs": [
    {
     "data": {
      "text/plain": [
       "[10, 9, 8, 7, 6, 5, 4, 3, 2]"
      ]
     },
     "execution_count": 33,
     "metadata": {},
     "output_type": "execute_result"
    }
   ],
   "source": [
    "list(range(10,1,-1))\n",
    "# Range to get numbers in reverse direction"
   ]
  },
  {
   "cell_type": "code",
   "execution_count": 35,
   "id": "d45600df",
   "metadata": {},
   "outputs": [
    {
     "data": {
      "text/plain": [
       "[100,\n",
       " 95,\n",
       " 90,\n",
       " 85,\n",
       " 80,\n",
       " 75,\n",
       " 70,\n",
       " 65,\n",
       " 60,\n",
       " 55,\n",
       " 50,\n",
       " 45,\n",
       " 40,\n",
       " 35,\n",
       " 30,\n",
       " 25,\n",
       " 20,\n",
       " 15,\n",
       " 10,\n",
       " 5]"
      ]
     },
     "execution_count": 35,
     "metadata": {},
     "output_type": "execute_result"
    }
   ],
   "source": [
    "list(range(100,0,-5))\n",
    "# getting list in reverse from 100 to 0 in reverse in 5 step jumps"
   ]
  },
  {
   "cell_type": "code",
   "execution_count": 42,
   "id": "9158f537",
   "metadata": {},
   "outputs": [
    {
     "data": {
      "text/plain": [
       "[(0, 'a'),\n",
       " (1, 'b'),\n",
       " (2, 'c'),\n",
       " (3, 'd'),\n",
       " (4, 'e'),\n",
       " (5, 'f'),\n",
       " (6, 'g'),\n",
       " (7, 'h'),\n",
       " (8, 'i'),\n",
       " (9, 'j'),\n",
       " (10, 'k'),\n",
       " (11, 'l'),\n",
       " (12, 'm'),\n",
       " (13, 'n'),\n",
       " (14, 'o'),\n",
       " (15, 'p'),\n",
       " (16, 'q'),\n",
       " (17, 'r'),\n",
       " (18, 's'),\n",
       " (19, 't'),\n",
       " (20, 'u'),\n",
       " (21, 'v'),\n",
       " (22, 'w'),\n",
       " (23, 'x'),\n",
       " (24, 'y'),\n",
       " (25, 'z')]"
      ]
     },
     "execution_count": 42,
     "metadata": {},
     "output_type": "execute_result"
    }
   ],
   "source": [
    "import string\n",
    "list(enumerate(string.ascii_lowercase))"
   ]
  },
  {
   "cell_type": "code",
   "execution_count": 44,
   "id": "a4764479",
   "metadata": {},
   "outputs": [
    {
     "name": "stdout",
     "output_type": "stream",
     "text": [
      "The number 0 has a squared number 0\n",
      "The number 2 has a squared number 4\n",
      "The number 4 has a squared number 16\n",
      "The number 6 has a squared number 36\n",
      "The number 8 has a squared number 64\n"
     ]
    }
   ],
   "source": [
    "for number in range(0,10,2):\n",
    "    squared_number=number**2\n",
    "    print(f'The number {number} has a squared number {squared_number}')"
   ]
  },
  {
   "cell_type": "code",
   "execution_count": 46,
   "id": "76922bc8",
   "metadata": {},
   "outputs": [
    {
     "name": "stdout",
     "output_type": "stream",
     "text": [
      "2 4 6 8 10 12 14 16 18 20 "
     ]
    }
   ],
   "source": [
    "for i in range(2,21,2):\n",
    "    print(i,end=\" \")"
   ]
  },
  {
   "cell_type": "code",
   "execution_count": 47,
   "id": "525fb8a0",
   "metadata": {},
   "outputs": [
    {
     "name": "stdout",
     "output_type": "stream",
     "text": [
      "[1, 2, 4, 6, 11, 14, 17, 20]\n"
     ]
    }
   ],
   "source": [
    "print(list_of_numbers2)"
   ]
  },
  {
   "cell_type": "code",
   "execution_count": 52,
   "id": "a5870127",
   "metadata": {},
   "outputs": [
    {
     "name": "stdout",
     "output_type": "stream",
     "text": [
      "the sums of squares update 1\n",
      "the sums of squares update 5\n",
      "the sums of squares update 21\n",
      "the sums of squares update 57\n",
      "the sums of squares update 178\n",
      "the sums of squares update 374\n",
      "the sums of squares update 663\n",
      "the sums of squares update 1063\n",
      "the final squares are 1063\n",
      "the square sum update is 1\n",
      "the square sum update is 3\n",
      "the square sum update is 6\n",
      "the square sum update is 10\n",
      "the square sum update is 15\n",
      "the square sum update is 21\n",
      "the square sum update is 28\n",
      "the square sum update is 36\n",
      "the square sum update is 45\n",
      "the square sum update is 55\n",
      "the sum of squares are 55\n"
     ]
    }
   ],
   "source": [
    "# Calculate the sum of the squares\n",
    "sum=0\n",
    "for i in list_of_numbers2:\n",
    "    sum+=i**2\n",
    "    print(f'the sums of squares update {sum}')\n",
    "print(f'the final squares are {sum}')\n",
    "# Do the same for the range from 0 to 11\n",
    "sum=0\n",
    "for i in range(1,11):\n",
    "    sum+=i\n",
    "    print(f'the square sum update is {sum}')\n",
    "print(f'the sum of squares are {sum}')\n",
    "    "
   ]
  },
  {
   "cell_type": "markdown",
   "id": "8755a425",
   "metadata": {},
   "source": [
    "# Now lets try doing iteration to all the objects in python"
   ]
  },
  {
   "cell_type": "code",
   "execution_count": 53,
   "id": "5538805a",
   "metadata": {},
   "outputs": [],
   "source": [
    "# First lets start with the string\n",
    "string1=\"Iam the one who knocks\""
   ]
  },
  {
   "cell_type": "code",
   "execution_count": 58,
   "id": "185b55be",
   "metadata": {},
   "outputs": [
    {
     "name": "stdout",
     "output_type": "stream",
     "text": [
      "Iam the one who knocks"
     ]
    }
   ],
   "source": [
    "for letter in string1:\n",
    "    print(letter,end='')\n",
    "#  the print is given without going to next line"
   ]
  },
  {
   "cell_type": "code",
   "execution_count": 59,
   "id": "07ef003b",
   "metadata": {},
   "outputs": [],
   "source": [
    "string1=\"Iam the one who knocks and my name is milan and am gonna enter the almaz placement very soon\""
   ]
  },
  {
   "cell_type": "code",
   "execution_count": 60,
   "id": "2d1e16d6",
   "metadata": {},
   "outputs": [
    {
     "name": "stdout",
     "output_type": "stream",
     "text": [
      "Iam\n",
      "the\n",
      "one\n",
      "who\n",
      "knocks\n",
      "and\n",
      "my\n",
      "name\n",
      "is\n",
      "milan\n",
      "and\n",
      "am\n",
      "gonna\n",
      "enter\n",
      "the\n",
      "almaz\n",
      "placement\n",
      "very\n",
      "soon\n"
     ]
    }
   ],
   "source": [
    "for word in string1.split():\n",
    "    print(word)\n",
    "#  using the split method uses "
   ]
  },
  {
   "cell_type": "code",
   "execution_count": 61,
   "id": "a8209c17",
   "metadata": {},
   "outputs": [
    {
     "name": "stdout",
     "output_type": "stream",
     "text": [
      "monday\n",
      "tuesday\n",
      "wednesday\n",
      "thursday\n",
      "friday\n",
      "saturday\n",
      "sunday\n"
     ]
    }
   ],
   "source": [
    "# Now doing iteration with tuples\n",
    "days=(\"monday\",\"tuesday\",\"wednesday\",\"thursday\",'friday','saturday',\"sunday\")\n",
    "for day in days:\n",
    "    print(day)"
   ]
  },
  {
   "cell_type": "code",
   "execution_count": 62,
   "id": "6a2aaa0f",
   "metadata": {},
   "outputs": [
    {
     "name": "stdout",
     "output_type": "stream",
     "text": [
      "India Ganga New Delhi\n",
      "Australia Rovers Canberra\n",
      "United States Missouri Washington DC\n",
      "England Thames London\n"
     ]
    }
   ],
   "source": [
    "country_city_river_list = [('India','New Delhi','Ganga'),('Australia','Canberra','Rovers'),('United States','Washington DC','Missouri'),('England','London','Thames')]\n",
    "\n",
    "for country,city,river in country_city_river_list:\n",
    "    print(country,river,city)"
   ]
  },
  {
   "cell_type": "code",
   "execution_count": 92,
   "id": "180c91d3",
   "metadata": {},
   "outputs": [
    {
     "name": "stdout",
     "output_type": "stream",
     "text": [
      "('India', 'New Delhi', 'Ganga')\n",
      "('Australia', 'Canberra', 'Rovers')\n",
      "('United States', 'Washington DC', 'Missouri')\n",
      "('England', 'London', 'Thames')\n"
     ]
    }
   ],
   "source": [
    "country_city_river_list = [('India','New Delhi','Ganga'),('Australia','Canberra','Rovers'),('United States','Washington DC','Missouri'),('England','London','Thames')]\n",
    "\n",
    "for country in country_city_river_list:\n",
    "    print(country)"
   ]
  },
  {
   "cell_type": "code",
   "execution_count": 64,
   "id": "051454f6",
   "metadata": {},
   "outputs": [],
   "source": [
    "country_city={'India': 'New Delhi', 'Australia': 'Canberra', 'United States': 'Washington DC', 'England': 'London'}\n"
   ]
  },
  {
   "cell_type": "code",
   "execution_count": 66,
   "id": "34ee352e",
   "metadata": {},
   "outputs": [
    {
     "name": "stdout",
     "output_type": "stream",
     "text": [
      "India\n",
      "Australia\n",
      "United States\n",
      "England\n"
     ]
    }
   ],
   "source": [
    "for item in country_city:\n",
    "    print(item)"
   ]
  },
  {
   "cell_type": "code",
   "execution_count": 67,
   "id": "cd172efb",
   "metadata": {},
   "outputs": [
    {
     "data": {
      "text/plain": [
       "dict_items([('India', 'New Delhi'), ('Australia', 'Canberra'), ('United States', 'Washington DC'), ('England', 'London')])"
      ]
     },
     "execution_count": 67,
     "metadata": {},
     "output_type": "execute_result"
    }
   ],
   "source": [
    "country_city.items()"
   ]
  },
  {
   "cell_type": "code",
   "execution_count": 70,
   "id": "c2cdabb5",
   "metadata": {},
   "outputs": [
    {
     "name": "stdout",
     "output_type": "stream",
     "text": [
      "India New Delhi\n",
      "Australia Canberra\n",
      "United States Washington DC\n",
      "England London\n"
     ]
    }
   ],
   "source": [
    "for country,city in country_city.items():\n",
    "    print(country,city)"
   ]
  },
  {
   "cell_type": "code",
   "execution_count": 73,
   "id": "882c3aa5",
   "metadata": {},
   "outputs": [
    {
     "name": "stdout",
     "output_type": "stream",
     "text": [
      "1\n",
      "2\n",
      "3\n"
     ]
    }
   ],
   "source": [
    "for i in {1,2,3}:\n",
    "    print(i)"
   ]
  },
  {
   "cell_type": "markdown",
   "id": "d3f8e900",
   "metadata": {},
   "source": [
    "# While loops"
   ]
  },
  {
   "cell_type": "code",
   "execution_count": 74,
   "id": "ff072672",
   "metadata": {},
   "outputs": [
    {
     "name": "stdout",
     "output_type": "stream",
     "text": [
      " X is currently 0\n",
      "X is still less than 10\n",
      " X is currently 1\n",
      "X is still less than 10\n",
      " X is currently 2\n",
      "X is still less than 10\n",
      " X is currently 3\n",
      "X is still less than 10\n",
      " X is currently 4\n",
      "X is still less than 10\n",
      " X is currently 5\n",
      "X is still less than 10\n",
      " X is currently 6\n",
      "X is still less than 10\n",
      " X is currently 7\n",
      "X is still less than 10\n",
      " X is currently 8\n",
      "X is still less than 10\n",
      " X is currently 9\n",
      "X is still less than 10\n"
     ]
    }
   ],
   "source": [
    "x=0\n",
    "while x < 10:\n",
    "    print(\" X is currently\",x)\n",
    "    print(\"X is still less than 10\")\n",
    "    x+=1"
   ]
  },
  {
   "cell_type": "code",
   "execution_count": 84,
   "id": "005b6f06",
   "metadata": {},
   "outputs": [
    {
     "name": "stdout",
     "output_type": "stream",
     "text": [
      "x is currently  0\n",
      "x is still less than 10, adding 1 to it \n",
      "x is currently  1\n",
      "x is still less than 10, adding 1 to it \n",
      "x is currently  2\n",
      "x is still less than 10, adding 1 to it \n",
      "X == 3\n"
     ]
    }
   ],
   "source": [
    "#  Break continue pass\n",
    "x=0\n",
    "\n",
    "while x <10:\n",
    "    print(\"x is currently \",x)\n",
    "    print(\"x is still less than 10, adding 1 to it \")\n",
    "    x+=1\n",
    "    if x==3:\n",
    "        print(\"X == 3\")\n",
    "        break\n",
    "    else:\n",
    "        print(\"continueing\")\n",
    "        continue\n",
    "    "
   ]
  },
  {
   "cell_type": "code",
   "execution_count": 89,
   "id": "3abf78a7",
   "metadata": {},
   "outputs": [
    {
     "name": "stdout",
     "output_type": "stream",
     "text": [
      "x is currently  0\n",
      "x is still less than 10, adding 1 to it \n",
      "end of while\n",
      "x is currently  1\n",
      "x is still less than 10, adding 1 to it \n",
      "end of while\n",
      "x is currently  2\n",
      "x is still less than 10, adding 1 to it \n",
      "X == 3\n",
      "x is currently  3\n",
      "x is still less than 10, adding 1 to it \n",
      "end of while\n",
      "x is currently  4\n",
      "x is still less than 10, adding 1 to it \n",
      "end of while\n",
      "x is currently  5\n",
      "x is still less than 10, adding 1 to it \n",
      "end of while\n",
      "x is currently  6\n",
      "x is still less than 10, adding 1 to it \n",
      "end of while\n",
      "x is currently  7\n",
      "x is still less than 10, adding 1 to it \n",
      "end of while\n",
      "x is currently  8\n",
      "x is still less than 10, adding 1 to it \n",
      "end of while\n",
      "x is currently  9\n",
      "x is still less than 10, adding 1 to it \n",
      "end of while\n",
      "continuiing\n"
     ]
    }
   ],
   "source": [
    "#  Break continue pass\n",
    "x=0\n",
    "\n",
    "while x <10:\n",
    "    print(\"x is currently \",x)\n",
    "    print(\"x is still less than 10, adding 1 to it \")\n",
    "    x+=1\n",
    "    if x==3:\n",
    "        print(\"X == 3\")\n",
    "        continue\n",
    "        print(\"HRRYYY\")\n",
    "    if True:\n",
    "        pass\n",
    "        print(\"end of while\")  \n",
    "else:\n",
    "    print(\"continuiing\")\n"
   ]
  },
  {
   "cell_type": "code",
   "execution_count": 82,
   "id": "272f63ec",
   "metadata": {},
   "outputs": [],
   "source": [
    "#  WE use pass because if we dont want to write any code in any statements at that time if we dont write code we get error from loop or conditon statement so in this condition we use pass keyword"
   ]
  },
  {
   "cell_type": "markdown",
   "id": "38a1980b",
   "metadata": {},
   "source": [
    "# LOOPS AND ITERATIONS CONCLUSIONS\n",
    "A.\tFOR LOOP\n",
    "1.\tFor loop iterating list\n",
    "2.\tFor loop using enumerate and getting index and element from the list, In this you get the list of tuple containing the key value pair\n",
    "3.\tHaving a list of number and print its square in output using for loop\n",
    "4.\tCreating an empty list and then appending it in each iteration of for loop and finally printing the list \n",
    "5.\tFor loop with condition printing even and squares and odd and its squares separately\n",
    "6.\tRange function simple example\n",
    "7.\tReverse example in range\n",
    "8.\tRange function using steps (jump) both in forward and reverse direction\n",
    "9.\tUsing for loop to calculate the sum of the number in the list and also the squares\n",
    "10.\tTaking a string and iterating the letters in string and printing using for loop\n",
    "11.\tTaking a word in sentence and iterating through the words in sentence using for loop\n",
    "12.\tTaking a tuple of days in a week and printing the day using for loop\n",
    "13.\tTaking the list which contains a tuple consisting of country capital and rivers and printing the country city and rivers in for loop by unpacking them\n",
    "14.\tHaving a list of country and its capital as keys and values respectively and using the methods dict.items() for iterating using for loop\n",
    "\n",
    "B.\tWHILE LOOP\n",
    "1.\tSimple while loop taking x as 0 and incrementing in each iteration of while loop while loop runs until the statement x< 10 gets false\n",
    "2.\tSimple while loop taking the statement till x<10 but breaking the loop in while statement using if condition where x==3 then break this BREAK keyword stop the while loop iteration it also works for FOR loop\n",
    "3.\tElse statement can also be used with the while loop if break is used then while loop cancels and also the else part gets cancelled and doesn’t execute\n",
    "4.\tContinue makes us to skip the iteration and make us move to the next iteration\n"
   ]
  },
  {
   "cell_type": "code",
   "execution_count": null,
   "id": "cbac1ce7",
   "metadata": {},
   "outputs": [],
   "source": []
  },
  {
   "cell_type": "code",
   "execution_count": null,
   "id": "947aeee8",
   "metadata": {},
   "outputs": [],
   "source": []
  }
 ],
 "metadata": {
  "kernelspec": {
   "display_name": "Python 3",
   "language": "python",
   "name": "python3"
  },
  "language_info": {
   "codemirror_mode": {
    "name": "ipython",
    "version": 3
   },
   "file_extension": ".py",
   "mimetype": "text/x-python",
   "name": "python",
   "nbconvert_exporter": "python",
   "pygments_lexer": "ipython3",
   "version": "3.8.8"
  },
  "nbTranslate": {
   "displayLangs": [
    "*"
   ],
   "hotkey": "alt-t",
   "langInMainMenu": true,
   "sourceLang": "en",
   "targetLang": "fr",
   "useGoogleTranslate": true
  },
  "varInspector": {
   "cols": {
    "lenName": 16,
    "lenType": 16,
    "lenVar": 40
   },
   "kernels_config": {
    "python": {
     "delete_cmd_postfix": "",
     "delete_cmd_prefix": "del ",
     "library": "var_list.py",
     "varRefreshCmd": "print(var_dic_list())"
    },
    "r": {
     "delete_cmd_postfix": ") ",
     "delete_cmd_prefix": "rm(",
     "library": "var_list.r",
     "varRefreshCmd": "cat(var_dic_list()) "
    }
   },
   "types_to_exclude": [
    "module",
    "function",
    "builtin_function_or_method",
    "instance",
    "_Feature"
   ],
   "window_display": false
  }
 },
 "nbformat": 4,
 "nbformat_minor": 5
}
