{
 "cells": [
  {
   "cell_type": "markdown",
   "id": "b5a81453",
   "metadata": {},
   "source": [
    "# Advantages of numpy vs lists"
   ]
  },
  {
   "cell_type": "code",
   "execution_count": 34,
   "id": "d52011ce",
   "metadata": {},
   "outputs": [
    {
     "name": "stdout",
     "output_type": "stream",
     "text": [
      "Size of list 28000\n",
      "Size of numpy array 4000\n"
     ]
    }
   ],
   "source": [
    "# Numpy vs list Memory Comparision\n",
    "import numpy as np\n",
    "import sys\n",
    "l=range(1000)\n",
    "print(\"Size of list\",sys.getsizeof(1)*len(l))\n",
    "\n",
    "n=np.arange(1000)\n",
    "print(\"Size of numpy array\",n.size * n.itemsize)"
   ]
  },
  {
   "cell_type": "code",
   "execution_count": 11,
   "id": "adac28e6",
   "metadata": {},
   "outputs": [
    {
     "name": "stdout",
     "output_type": "stream",
     "text": [
      "0.4311079978942871 \n",
      " 0.0\n"
     ]
    }
   ],
   "source": [
    "# Numpy vs list speed comparision\n",
    "import time \n",
    "def using_list():\n",
    "    t1=time.time()\n",
    "    X=range(1000000)\n",
    "    Y=range(1000000)\n",
    "    z=[X[i]+Y[i] for i in range(len(X))]\n",
    "    return time.time()-t1\n",
    "\n",
    "\n",
    "def using_numpy():\n",
    "    t1=time.time()\n",
    "    X=np.arange(1000000)\n",
    "    Y=np.arange(1000000)\n",
    "    z=X+Y\n",
    "    return time.time()-t1\n",
    "\n",
    "list_time=using_list()\n",
    "numpy_time=using_numpy()\n",
    "print(list_time,\"\\n\",numpy_time)\n",
    "\n"
   ]
  },
  {
   "cell_type": "code",
   "execution_count": 18,
   "id": "983efaea",
   "metadata": {},
   "outputs": [],
   "source": [
    "a=np.array([\n",
    "    [[1,2],[3,4]]\n",
    "    ,[[5,6],[7,8]],\n",
    "    [[11,12],[13,14]],\n",
    "    [[15,16],[17,18]]\n",
    "        \n",
    "])"
   ]
  },
  {
   "cell_type": "code",
   "execution_count": 15,
   "id": "8bccb792",
   "metadata": {},
   "outputs": [
    {
     "data": {
      "text/plain": [
       "array([[[ 1,  2],\n",
       "        [ 3,  4]],\n",
       "\n",
       "       [[ 5,  6],\n",
       "        [ 7,  8]],\n",
       "\n",
       "       [[11, 12],\n",
       "        [13, 14]],\n",
       "\n",
       "       [[15, 16],\n",
       "        [17, 18]]])"
      ]
     },
     "execution_count": 15,
     "metadata": {},
     "output_type": "execute_result"
    }
   ],
   "source": [
    "a"
   ]
  },
  {
   "cell_type": "code",
   "execution_count": 16,
   "id": "9434ea6f",
   "metadata": {},
   "outputs": [
    {
     "data": {
      "text/plain": [
       "3"
      ]
     },
     "execution_count": 16,
     "metadata": {},
     "output_type": "execute_result"
    }
   ],
   "source": [
    "a.ndim"
   ]
  },
  {
   "cell_type": "markdown",
   "id": "a8b430cb",
   "metadata": {},
   "source": [
    "# Array Inspection methods\n",
    "\n",
    "Numpy has following attributes\n",
    "1. ndarray.shape\n",
    "2. ndarray.ndim\n",
    "3. ndarray.size\n",
    "4. ndarray.dtype\n",
    "5. ndarray.astype\n",
    "\n",
    "\n"
   ]
  },
  {
   "cell_type": "markdown",
   "id": "fdacf76f",
   "metadata": {},
   "source": [
    "\n",
    "1. ndarray.shape: \n",
    "### This returns a tuple consisting of array dimensional and can be used to resize the array\n"
   ]
  },
  {
   "cell_type": "code",
   "execution_count": 21,
   "id": "247b5472",
   "metadata": {},
   "outputs": [
    {
     "name": "stdout",
     "output_type": "stream",
     "text": [
      "[[1 2 3]\n",
      " [4 5 6]]\n",
      "(2, 3)\n"
     ]
    }
   ],
   "source": [
    "alma_array=np.array([[1,2,3],[4,5,6]])\n",
    "print(alma_array)\n",
    "print(alma_array.shape)"
   ]
  },
  {
   "cell_type": "code",
   "execution_count": 24,
   "id": "2b2cebf8",
   "metadata": {},
   "outputs": [
    {
     "name": "stdout",
     "output_type": "stream",
     "text": [
      "[[1 2 3 4]\n",
      " [5 6 7 8]] \n",
      " (2, 4)\n"
     ]
    }
   ],
   "source": [
    "alma_array=np.array([[1,2,3,4],[5,6,7,8]])\n",
    "print(alma_array,\"\\n\",alma_array.shape)"
   ]
  },
  {
   "cell_type": "code",
   "execution_count": 33,
   "id": "5c0e8abd",
   "metadata": {},
   "outputs": [
    {
     "name": "stdout",
     "output_type": "stream",
     "text": [
      "(2, 4, 2, 2) \n",
      " 4 \n",
      " [[[[1 2]\n",
      "   [3 4]]\n",
      "\n",
      "  [[1 2]\n",
      "   [3 4]]\n",
      "\n",
      "  [[1 2]\n",
      "   [3 4]]\n",
      "\n",
      "  [[1 2]\n",
      "   [3 4]]]\n",
      "\n",
      "\n",
      " [[[1 2]\n",
      "   [3 4]]\n",
      "\n",
      "  [[1 2]\n",
      "   [3 4]]\n",
      "\n",
      "  [[1 2]\n",
      "   [3 4]]\n",
      "\n",
      "  [[1 2]\n",
      "   [3 4]]]]\n"
     ]
    }
   ],
   "source": [
    "alma_array=np.array([[[[1,2],[3,4]],[[1,2],[3,4]],[[1,2],[3,4]],[[1,2],[3,4]]],[[[1,2],[3,4]],[[1,2],[3,4]],[[1,2],[3,4]],[[1,2],[3,4]]]])\n",
    "print(alma_array.shape,\"\\n\",alma_array.ndim,\"\\n\",alma_array)"
   ]
  },
  {
   "cell_type": "code",
   "execution_count": 42,
   "id": "8bd755b7",
   "metadata": {},
   "outputs": [
    {
     "ename": "SyntaxError",
     "evalue": "unexpected EOF while parsing (<ipython-input-42-8bdc5094ba29>, line 8)",
     "output_type": "error",
     "traceback": [
      "\u001b[1;36m  File \u001b[1;32m\"<ipython-input-42-8bdc5094ba29>\"\u001b[1;36m, line \u001b[1;32m8\u001b[0m\n\u001b[1;33m    \u001b[0m\n\u001b[1;37m    ^\u001b[0m\n\u001b[1;31mSyntaxError\u001b[0m\u001b[1;31m:\u001b[0m unexpected EOF while parsing\n"
     ]
    }
   ],
   "source": [
    "ls=[1,2,3]\n",
    "narray=np.array([1,2,3])\n",
    "try :\n",
    "    ls=ls+4\n",
    "    print(ls)\n",
    "except(TypeError):\n",
    "    print(\"List doesn't support ls + 4\"      \n",
    "          \n"
   ]
  },
  {
   "cell_type": "code",
   "execution_count": 43,
   "id": "7c5f12a6",
   "metadata": {},
   "outputs": [
    {
     "name": "stdout",
     "output_type": "stream",
     "text": [
      "[5 6 7]\n"
     ]
    }
   ],
   "source": [
    "narray=np.array([1,2,3])\n",
    "try :\n",
    "    narray=narray+4\n",
    "    print(narray)\n",
    "except (TypeError):\n",
    "    print(\"numpy does not supprt addition\")"
   ]
  },
  {
   "cell_type": "code",
   "execution_count": 51,
   "id": "5eb30d7e",
   "metadata": {},
   "outputs": [
    {
     "data": {
      "text/plain": [
       "array([[      0,       0,       0],\n",
       "       [      0,       0,       0],\n",
       "       [      0,       0,       0],\n",
       "       [      0,    1792,       0],\n",
       "       [      0, 3342433,       0]])"
      ]
     },
     "execution_count": 51,
     "metadata": {},
     "output_type": "execute_result"
    }
   ],
   "source": [
    "# Different ways of creating \n",
    "# Uninitialized\n",
    "# Creating a  uninitialized array with specified shape\n",
    "unitialized_array=np.empty([5,3],dtype=int)\n",
    "unitialized_array"
   ]
  },
  {
   "cell_type": "code",
   "execution_count": 53,
   "id": "12ba593f",
   "metadata": {},
   "outputs": [
    {
     "data": {
      "text/plain": [
       "array([[0., 0., 0.],\n",
       "       [0., 0., 0.],\n",
       "       [0., 0., 0.]])"
      ]
     },
     "execution_count": 53,
     "metadata": {},
     "output_type": "execute_result"
    }
   ],
   "source": [
    "zero_array=np.zeros((3,3))\n",
    "zero_array"
   ]
  },
  {
   "cell_type": "code",
   "execution_count": 56,
   "id": "04844ade",
   "metadata": {},
   "outputs": [
    {
     "data": {
      "text/plain": [
       "array([[0, 0, 0],\n",
       "       [0, 0, 0],\n",
       "       [0, 0, 0],\n",
       "       [0, 0, 0]])"
      ]
     },
     "execution_count": 56,
     "metadata": {},
     "output_type": "execute_result"
    }
   ],
   "source": [
    "int_zero_array=np.zeros((4,3),dtype=int)\n",
    "int_zero_array"
   ]
  },
  {
   "cell_type": "code",
   "execution_count": 63,
   "id": "39a40814",
   "metadata": {},
   "outputs": [
    {
     "data": {
      "text/plain": [
       "array([[1., 1., 1.],\n",
       "       [1., 1., 1.],\n",
       "       [1., 1., 1.]])"
      ]
     },
     "execution_count": 63,
     "metadata": {},
     "output_type": "execute_result"
    }
   ],
   "source": [
    "one_array=np.ones((3,3))\n",
    "one_array"
   ]
  },
  {
   "cell_type": "code",
   "execution_count": 61,
   "id": "4e8365e9",
   "metadata": {},
   "outputs": [
    {
     "data": {
      "text/plain": [
       "array([[1, 1, 1, 1],\n",
       "       [1, 1, 1, 1],\n",
       "       [1, 1, 1, 1]])"
      ]
     },
     "execution_count": 61,
     "metadata": {},
     "output_type": "execute_result"
    }
   ],
   "source": [
    "int_one_array=np.ones((3,4),dtype=int)\n",
    "int_one_array"
   ]
  },
  {
   "cell_type": "code",
   "execution_count": 65,
   "id": "50952f80",
   "metadata": {},
   "outputs": [
    {
     "data": {
      "text/plain": [
       "array([[1, 1],\n",
       "       [1, 1],\n",
       "       [1, 1],\n",
       "       [1, 1],\n",
       "       [1, 1],\n",
       "       [1, 1]])"
      ]
     },
     "execution_count": 65,
     "metadata": {},
     "output_type": "execute_result"
    }
   ],
   "source": [
    "int_one_array.shape=(6,2)\n",
    "int_one_array"
   ]
  },
  {
   "cell_type": "code",
   "execution_count": 66,
   "id": "2b26ebdc",
   "metadata": {},
   "outputs": [
    {
     "data": {
      "text/plain": [
       "array([ 0,  1,  2,  3,  4,  5,  6,  7,  8,  9, 10, 11])"
      ]
     },
     "execution_count": 66,
     "metadata": {},
     "output_type": "execute_result"
    }
   ],
   "source": [
    "array_with_ranges=np.arange(12)\n",
    "array_with_ranges"
   ]
  },
  {
   "cell_type": "code",
   "execution_count": 68,
   "id": "7bb2ce8f",
   "metadata": {},
   "outputs": [
    {
     "data": {
      "text/plain": [
       "array([10, 12, 14, 16, 18, 20, 22, 24])"
      ]
     },
     "execution_count": 68,
     "metadata": {},
     "output_type": "execute_result"
    }
   ],
   "source": [
    "another_array_with_range=np.arange(10,25,2)\n",
    "another_array_with_range"
   ]
  },
  {
   "cell_type": "code",
   "execution_count": 69,
   "id": "5f445479",
   "metadata": {},
   "outputs": [
    {
     "data": {
      "text/plain": [
       "array([[10, 12],\n",
       "       [14, 16],\n",
       "       [18, 20],\n",
       "       [22, 24]])"
      ]
     },
     "execution_count": 69,
     "metadata": {},
     "output_type": "execute_result"
    }
   ],
   "source": [
    "another_array_with_range.shape=(4,2)\n",
    "another_array_with_range"
   ]
  },
  {
   "cell_type": "code",
   "execution_count": 74,
   "id": "3fd35078",
   "metadata": {},
   "outputs": [
    {
     "data": {
      "text/plain": [
       "array([[0.10714336, 0.55543109, 0.01926964, 0.0259995 ],\n",
       "       [0.30856307, 0.60969424, 0.75301205, 0.68031899],\n",
       "       [0.49577061, 0.56076202, 0.94655598, 0.07190927]])"
      ]
     },
     "execution_count": 74,
     "metadata": {},
     "output_type": "execute_result"
    }
   ],
   "source": [
    "# Array from random numbers\n",
    "random_numbers=np.random.random((3,4))\n",
    "random_numbers"
   ]
  },
  {
   "cell_type": "code",
   "execution_count": 80,
   "id": "45f98880",
   "metadata": {},
   "outputs": [
    {
     "data": {
      "text/plain": [
       "array([[[[0, 3, 2, 0, 1, 4, 4, 1, 1],\n",
       "         [2, 3, 2, 1, 3, 1, 4, 2, 0],\n",
       "         [3, 1, 3, 2, 4, 4, 0, 3, 1],\n",
       "         [4, 4, 4, 3, 4, 0, 2, 0, 3],\n",
       "         [1, 2, 4, 4, 2, 0, 4, 1, 4]],\n",
       "\n",
       "        [[2, 4, 3, 2, 1, 2, 1, 2, 2],\n",
       "         [4, 0, 1, 3, 4, 0, 1, 1, 3],\n",
       "         [0, 4, 1, 1, 1, 0, 1, 3, 3],\n",
       "         [1, 1, 1, 2, 0, 0, 4, 1, 3],\n",
       "         [2, 1, 0, 1, 1, 4, 4, 3, 3]],\n",
       "\n",
       "        [[0, 0, 1, 0, 3, 4, 1, 4, 1],\n",
       "         [0, 3, 3, 1, 0, 1, 4, 1, 4],\n",
       "         [3, 4, 3, 2, 0, 0, 0, 1, 4],\n",
       "         [1, 4, 2, 3, 1, 2, 4, 1, 0],\n",
       "         [2, 0, 1, 0, 3, 3, 3, 1, 0]],\n",
       "\n",
       "        [[0, 2, 1, 0, 2, 0, 4, 2, 0],\n",
       "         [3, 0, 0, 1, 3, 3, 1, 1, 3],\n",
       "         [0, 1, 0, 4, 1, 3, 2, 2, 3],\n",
       "         [1, 4, 1, 4, 2, 4, 1, 4, 1],\n",
       "         [3, 1, 1, 0, 4, 1, 4, 3, 0]],\n",
       "\n",
       "        [[0, 1, 2, 1, 1, 1, 2, 1, 2],\n",
       "         [3, 4, 4, 1, 3, 3, 2, 2, 4],\n",
       "         [3, 3, 0, 4, 4, 3, 4, 3, 4],\n",
       "         [4, 0, 1, 2, 2, 2, 4, 1, 1],\n",
       "         [1, 4, 4, 4, 4, 2, 4, 1, 3]],\n",
       "\n",
       "        [[3, 2, 4, 0, 0, 2, 2, 4, 0],\n",
       "         [0, 1, 2, 2, 2, 2, 3, 1, 0],\n",
       "         [3, 1, 2, 2, 0, 3, 4, 3, 3],\n",
       "         [4, 4, 1, 4, 3, 4, 1, 2, 1],\n",
       "         [2, 1, 4, 3, 0, 2, 2, 2, 0]]],\n",
       "\n",
       "\n",
       "       [[[2, 2, 0, 0, 4, 1, 0, 2, 4],\n",
       "         [4, 1, 2, 1, 1, 2, 2, 4, 4],\n",
       "         [1, 1, 0, 3, 0, 3, 0, 2, 3],\n",
       "         [2, 0, 4, 1, 3, 3, 1, 0, 3],\n",
       "         [2, 0, 0, 2, 1, 1, 3, 3, 4]],\n",
       "\n",
       "        [[1, 0, 2, 1, 3, 0, 4, 2, 1],\n",
       "         [4, 2, 4, 2, 4, 2, 3, 1, 4],\n",
       "         [3, 0, 4, 0, 0, 1, 3, 3, 3],\n",
       "         [1, 0, 2, 2, 3, 4, 3, 1, 4],\n",
       "         [4, 1, 3, 4, 1, 0, 0, 0, 1]],\n",
       "\n",
       "        [[1, 4, 0, 4, 2, 4, 0, 1, 3],\n",
       "         [1, 0, 3, 2, 2, 3, 2, 0, 4],\n",
       "         [0, 2, 0, 2, 3, 3, 4, 1, 4],\n",
       "         [3, 2, 0, 3, 2, 1, 0, 0, 4],\n",
       "         [3, 4, 2, 4, 2, 3, 1, 4, 2]],\n",
       "\n",
       "        [[1, 0, 3, 2, 4, 1, 3, 1, 4],\n",
       "         [2, 2, 0, 2, 0, 2, 1, 4, 1],\n",
       "         [0, 4, 4, 2, 1, 0, 3, 2, 2],\n",
       "         [3, 0, 1, 1, 3, 1, 0, 4, 3],\n",
       "         [3, 1, 3, 4, 1, 0, 2, 2, 1]],\n",
       "\n",
       "        [[1, 0, 4, 4, 4, 0, 4, 4, 2],\n",
       "         [2, 4, 4, 2, 3, 3, 1, 4, 3],\n",
       "         [2, 2, 3, 4, 1, 4, 2, 4, 4],\n",
       "         [4, 2, 3, 0, 3, 4, 1, 2, 2],\n",
       "         [2, 3, 0, 0, 4, 4, 4, 2, 4]],\n",
       "\n",
       "        [[0, 0, 1, 0, 4, 1, 2, 3, 1],\n",
       "         [3, 1, 3, 1, 0, 1, 3, 4, 4],\n",
       "         [2, 2, 2, 4, 2, 0, 0, 4, 0],\n",
       "         [4, 2, 0, 2, 3, 3, 2, 2, 3],\n",
       "         [0, 4, 1, 0, 4, 3, 1, 1, 1]]],\n",
       "\n",
       "\n",
       "       [[[0, 0, 0, 0, 3, 4, 2, 2, 3],\n",
       "         [0, 0, 1, 3, 1, 1, 0, 2, 3],\n",
       "         [2, 1, 1, 4, 4, 1, 4, 0, 1],\n",
       "         [1, 4, 3, 1, 2, 4, 2, 4, 0],\n",
       "         [0, 4, 0, 2, 4, 4, 4, 0, 3]],\n",
       "\n",
       "        [[4, 4, 2, 1, 0, 2, 2, 2, 2],\n",
       "         [1, 4, 4, 3, 3, 1, 4, 1, 4],\n",
       "         [3, 2, 4, 1, 2, 3, 0, 3, 0],\n",
       "         [2, 3, 3, 3, 1, 0, 0, 3, 1],\n",
       "         [1, 4, 4, 0, 0, 3, 3, 3, 4]],\n",
       "\n",
       "        [[0, 4, 0, 3, 1, 2, 1, 0, 1],\n",
       "         [4, 3, 4, 0, 4, 2, 4, 1, 3],\n",
       "         [0, 0, 2, 1, 1, 0, 0, 2, 1],\n",
       "         [4, 2, 1, 2, 3, 3, 2, 1, 2],\n",
       "         [0, 3, 2, 1, 4, 0, 3, 2, 1]],\n",
       "\n",
       "        [[3, 0, 4, 4, 0, 3, 2, 3, 0],\n",
       "         [1, 0, 2, 2, 4, 4, 1, 3, 4],\n",
       "         [4, 0, 0, 4, 0, 1, 1, 2, 2],\n",
       "         [2, 3, 0, 0, 2, 4, 0, 3, 0],\n",
       "         [2, 3, 2, 4, 1, 4, 3, 1, 1]],\n",
       "\n",
       "        [[4, 3, 0, 3, 3, 4, 0, 1, 0],\n",
       "         [0, 1, 0, 2, 0, 1, 3, 4, 1],\n",
       "         [3, 4, 2, 3, 3, 3, 1, 1, 0],\n",
       "         [0, 4, 0, 2, 0, 1, 0, 4, 4],\n",
       "         [4, 0, 4, 3, 1, 2, 1, 3, 0]],\n",
       "\n",
       "        [[3, 1, 0, 4, 1, 3, 4, 4, 1],\n",
       "         [3, 0, 2, 0, 4, 3, 0, 3, 2],\n",
       "         [3, 0, 0, 4, 3, 4, 4, 4, 1],\n",
       "         [0, 1, 4, 3, 1, 1, 1, 3, 0],\n",
       "         [2, 4, 1, 4, 1, 4, 1, 4, 1]]]])"
      ]
     },
     "execution_count": 80,
     "metadata": {},
     "output_type": "execute_result"
    }
   ],
   "source": [
    "random_int=np.random.randint(0,5,size=(3,6,5,9))\n",
    "random_int"
   ]
  },
  {
   "cell_type": "code",
   "execution_count": 81,
   "id": "9c246cd3",
   "metadata": {},
   "outputs": [
    {
     "data": {
      "text/plain": [
       "array([1., 1., 1.])"
      ]
     },
     "execution_count": 81,
     "metadata": {},
     "output_type": "execute_result"
    }
   ],
   "source": [
    "np.ones(3)"
   ]
  },
  {
   "cell_type": "code",
   "execution_count": 82,
   "id": "c003b7ac",
   "metadata": {},
   "outputs": [
    {
     "data": {
      "text/plain": [
       "array([0., 0., 0.])"
      ]
     },
     "execution_count": 82,
     "metadata": {},
     "output_type": "execute_result"
    }
   ],
   "source": [
    "np.zeros(3)"
   ]
  },
  {
   "cell_type": "code",
   "execution_count": 84,
   "id": "4592a4b2",
   "metadata": {},
   "outputs": [
    {
     "data": {
      "text/plain": [
       "array([[1., 1., 1., 1.],\n",
       "       [1., 1., 1., 1.],\n",
       "       [1., 1., 1., 1.],\n",
       "       [1., 1., 1., 1.],\n",
       "       [1., 1., 1., 1.],\n",
       "       [1., 1., 1., 1.]])"
      ]
     },
     "execution_count": 84,
     "metadata": {},
     "output_type": "execute_result"
    }
   ],
   "source": [
    "np.ones((6,4))"
   ]
  },
  {
   "cell_type": "code",
   "execution_count": 85,
   "id": "761c6624",
   "metadata": {},
   "outputs": [
    {
     "data": {
      "text/plain": [
       "array([1, 2, 3, 4])"
      ]
     },
     "execution_count": 85,
     "metadata": {},
     "output_type": "execute_result"
    }
   ],
   "source": [
    "#  You can convert any list and tuple into nd array using asarray method from numpy\n",
    "typical_list=[1,2,3,4]\n",
    "corresponding_array=np.asarray(typical_list)\n",
    "corresponding_array"
   ]
  },
  {
   "cell_type": "code",
   "execution_count": 88,
   "id": "cf75e211",
   "metadata": {},
   "outputs": [
    {
     "data": {
      "text/plain": [
       "array([1, 2, 5, 6])"
      ]
     },
     "execution_count": 88,
     "metadata": {},
     "output_type": "execute_result"
    }
   ],
   "source": [
    "typical_tuple=(1,2,5,6)\n",
    "corresponding_tup=np.asarray(typical_tuple)\n",
    "corresponding_tup"
   ]
  },
  {
   "cell_type": "markdown",
   "id": "d10d17ff",
   "metadata": {},
   "source": [
    "# Indexing and slicing\n",
    "\n",
    "Contents of ndarray objects can be accessed and modified by indexing and slicing Lets see how to extract specific values and array from the nd arrays\n"
   ]
  },
  {
   "cell_type": "code",
   "execution_count": 101,
   "id": "c1d88dde",
   "metadata": {},
   "outputs": [
    {
     "name": "stdout",
     "output_type": "stream",
     "text": [
      "[0 1 2 3 4 5 6 7 8 9] 5\n",
      "[0 2 4 6 8]\n"
     ]
    }
   ],
   "source": [
    "# SLicing 1 d arrays\n",
    "a=np.arange(10)\n",
    "print(a,a[5])\n",
    "print(a[::2])"
   ]
  },
  {
   "cell_type": "code",
   "execution_count": 92,
   "id": "f7f7d3fa",
   "metadata": {},
   "outputs": [
    {
     "data": {
      "text/plain": [
       "array([2, 3, 4])"
      ]
     },
     "execution_count": 92,
     "metadata": {},
     "output_type": "execute_result"
    }
   ],
   "source": [
    "a[2:5]"
   ]
  },
  {
   "cell_type": "code",
   "execution_count": 93,
   "id": "dca7feaf",
   "metadata": {},
   "outputs": [
    {
     "data": {
      "text/plain": [
       "array([0.88940909, 0.46961208, 0.14453361, 0.89136923, 0.62796873])"
      ]
     },
     "execution_count": 93,
     "metadata": {},
     "output_type": "execute_result"
    }
   ],
   "source": [
    "np.random.random(5)"
   ]
  },
  {
   "cell_type": "code",
   "execution_count": 96,
   "id": "58da0890",
   "metadata": {},
   "outputs": [
    {
     "data": {
      "text/plain": [
       "array([[0.59201412, 0.74205483, 0.72714503, 0.46425043, 0.48654677],\n",
       "       [0.31791918, 0.34501543, 0.10960949, 0.90889331, 0.18113279],\n",
       "       [0.83200284, 0.59715819, 0.67545572, 0.8183705 , 0.68177429],\n",
       "       [0.7451006 , 0.80250179, 0.52985312, 0.22075188, 0.4495361 ],\n",
       "       [0.89922941, 0.74517088, 0.57737075, 0.34519752, 0.61087416]])"
      ]
     },
     "execution_count": 96,
     "metadata": {},
     "output_type": "execute_result"
    }
   ],
   "source": [
    "np.random.random((5,5))\n",
    "#  you need to give the values in the form of tuple or else it will take two values and hence two values cannot be given and it will through an error"
   ]
  },
  {
   "cell_type": "code",
   "execution_count": 95,
   "id": "55b287d1",
   "metadata": {},
   "outputs": [
    {
     "ename": "TypeError",
     "evalue": "random() takes at most 1 positional argument (2 given)",
     "output_type": "error",
     "traceback": [
      "\u001b[1;31m---------------------------------------------------------------------------\u001b[0m",
      "\u001b[1;31mTypeError\u001b[0m                                 Traceback (most recent call last)",
      "\u001b[1;32m<ipython-input-95-26cb88a9c62d>\u001b[0m in \u001b[0;36m<module>\u001b[1;34m\u001b[0m\n\u001b[1;32m----> 1\u001b[1;33m \u001b[0mnp\u001b[0m\u001b[1;33m.\u001b[0m\u001b[0mrandom\u001b[0m\u001b[1;33m.\u001b[0m\u001b[0mrandom\u001b[0m\u001b[1;33m(\u001b[0m\u001b[1;36m5\u001b[0m\u001b[1;33m,\u001b[0m\u001b[1;36m5\u001b[0m\u001b[1;33m)\u001b[0m\u001b[1;33m\u001b[0m\u001b[1;33m\u001b[0m\u001b[0m\n\u001b[0m",
      "\u001b[1;32mmtrand.pyx\u001b[0m in \u001b[0;36mnumpy.random.mtrand.RandomState.random\u001b[1;34m()\u001b[0m\n",
      "\u001b[1;31mTypeError\u001b[0m: random() takes at most 1 positional argument (2 given)"
     ]
    }
   ],
   "source": [
    "np.random.random((5,5))"
   ]
  },
  {
   "cell_type": "code",
   "execution_count": 99,
   "id": "39526ad5",
   "metadata": {},
   "outputs": [
    {
     "data": {
      "text/plain": [
       "array([[1., 1., 1., 1.],\n",
       "       [1., 1., 1., 1.],\n",
       "       [1., 1., 1., 1.]])"
      ]
     },
     "execution_count": 99,
     "metadata": {},
     "output_type": "execute_result"
    }
   ],
   "source": [
    "np.ones((3,4))"
   ]
  },
  {
   "cell_type": "code",
   "execution_count": 100,
   "id": "f162dacc",
   "metadata": {},
   "outputs": [
    {
     "data": {
      "text/plain": [
       "array([[0., 0., 0., 0.],\n",
       "       [0., 0., 0., 0.],\n",
       "       [0., 0., 0., 0.]])"
      ]
     },
     "execution_count": 100,
     "metadata": {},
     "output_type": "execute_result"
    }
   ],
   "source": [
    "np.zeros((3,4))\n",
    "# even for both ones and zeros array we need to enter tuple"
   ]
  },
  {
   "cell_type": "markdown",
   "id": "5d111a79",
   "metadata": {},
   "source": [
    "# Slicing 2 d arrays"
   ]
  },
  {
   "cell_type": "code",
   "execution_count": 181,
   "id": "86f144d1",
   "metadata": {},
   "outputs": [
    {
     "data": {
      "text/plain": [
       "array([[1, 2, 3],\n",
       "       [4, 5, 6]])"
      ]
     },
     "execution_count": 181,
     "metadata": {},
     "output_type": "execute_result"
    }
   ],
   "source": [
    "a=np.array([[1,2,3],[4,5,6]])\n",
    "a"
   ]
  },
  {
   "cell_type": "code",
   "execution_count": 182,
   "id": "34b12e35",
   "metadata": {},
   "outputs": [
    {
     "data": {
      "text/plain": [
       "array([1, 2, 3, 4, 5, 6])"
      ]
     },
     "execution_count": 182,
     "metadata": {},
     "output_type": "execute_result"
    }
   ],
   "source": [
    "a.flatten()"
   ]
  },
  {
   "cell_type": "code",
   "execution_count": 111,
   "id": "c521c5e9",
   "metadata": {},
   "outputs": [
    {
     "data": {
      "text/plain": [
       "array([4, 5, 6])"
      ]
     },
     "execution_count": 111,
     "metadata": {},
     "output_type": "execute_result"
    }
   ],
   "source": [
    "a[1,:]"
   ]
  },
  {
   "cell_type": "code",
   "execution_count": 183,
   "id": "0b484d0f",
   "metadata": {},
   "outputs": [
    {
     "data": {
      "text/plain": [
       "array([1, 4, 2, 5, 3, 6])"
      ]
     },
     "execution_count": 183,
     "metadata": {},
     "output_type": "execute_result"
    }
   ],
   "source": [
    "a.flatten(order=\"F\")"
   ]
  },
  {
   "cell_type": "code",
   "execution_count": 184,
   "id": "4b140c2a",
   "metadata": {},
   "outputs": [
    {
     "data": {
      "text/plain": [
       "array([1, 2, 3, 4, 5, 6])"
      ]
     },
     "execution_count": 184,
     "metadata": {},
     "output_type": "execute_result"
    }
   ],
   "source": [
    "a.flatten(order=\"C\")"
   ]
  },
  {
   "cell_type": "code",
   "execution_count": 112,
   "id": "cf920056",
   "metadata": {},
   "outputs": [
    {
     "data": {
      "text/plain": [
       "array([[1, 2, 3],\n",
       "       [4, 5, 6],\n",
       "       [7, 8, 9]])"
      ]
     },
     "execution_count": 112,
     "metadata": {},
     "output_type": "execute_result"
    }
   ],
   "source": [
    "b=np.array([[1,2,3],[4,5,6],[7,8,9]])\n",
    "b"
   ]
  },
  {
   "cell_type": "code",
   "execution_count": 118,
   "id": "f0c6a5a7",
   "metadata": {},
   "outputs": [
    {
     "data": {
      "text/plain": [
       "array([[2, 3]])"
      ]
     },
     "execution_count": 118,
     "metadata": {},
     "output_type": "execute_result"
    }
   ],
   "source": [
    "b[:1,1:]"
   ]
  },
  {
   "cell_type": "code",
   "execution_count": 119,
   "id": "108445e2",
   "metadata": {},
   "outputs": [
    {
     "data": {
      "text/plain": [
       "array([1, 4, 7])"
      ]
     },
     "execution_count": 119,
     "metadata": {},
     "output_type": "execute_result"
    }
   ],
   "source": [
    "b[:,0]"
   ]
  },
  {
   "cell_type": "markdown",
   "id": "b43140c0",
   "metadata": {},
   "source": [
    "# Slicing 3d arrays"
   ]
  },
  {
   "cell_type": "code",
   "execution_count": 125,
   "id": "4e6027ae",
   "metadata": {},
   "outputs": [
    {
     "name": "stdout",
     "output_type": "stream",
     "text": [
      "(3, 3, 3) \n",
      " [[[1 2 3]\n",
      "  [4 5 6]\n",
      "  [7 8 9]]\n",
      "\n",
      " [[1 2 3]\n",
      "  [4 5 6]\n",
      "  [7 8 9]]\n",
      "\n",
      " [[1 2 3]\n",
      "  [4 5 6]\n",
      "  [1 2 3]]]\n"
     ]
    }
   ],
   "source": [
    "a=np.array([[[1,2,3],[4,5,6],[7,8,9]]\n",
    "            ,[[1,2,3],[4,5,6],[7,8,9]],\n",
    "            [[1,2,3],[4,5,6],[1,2,3]]])\n",
    "print(a.shape,'\\n',a)"
   ]
  },
  {
   "cell_type": "code",
   "execution_count": 134,
   "id": "56d5dc2c",
   "metadata": {},
   "outputs": [
    {
     "data": {
      "text/plain": [
       "array([[[2, 3],\n",
       "        [5, 6]],\n",
       "\n",
       "       [[2, 3],\n",
       "        [5, 6]]])"
      ]
     },
     "execution_count": 134,
     "metadata": {},
     "output_type": "execute_result"
    }
   ],
   "source": [
    "a[0:2,:2,1:]"
   ]
  },
  {
   "cell_type": "code",
   "execution_count": 141,
   "id": "63357e39",
   "metadata": {},
   "outputs": [
    {
     "name": "stdout",
     "output_type": "stream",
     "text": [
      "(8, 4)\n"
     ]
    },
    {
     "data": {
      "text/plain": [
       "array([[23, 14, 21, 27],\n",
       "       [23, 12, 31, 36],\n",
       "       [37, 23, 12, 13],\n",
       "       [32, 14, 24, 11],\n",
       "       [33, 38, 18, 27],\n",
       "       [11, 30, 42, 37],\n",
       "       [42, 23, 12, 19],\n",
       "       [41, 11, 39, 34]])"
      ]
     },
     "execution_count": 141,
     "metadata": {},
     "output_type": "execute_result"
    }
   ],
   "source": [
    "# a=np.array([1,2,3],[4,5,6])\n",
    "arravalli=np.random.randint(10,45,(8,4))\n",
    "print(arravalli.shape)\n",
    "arravalli"
   ]
  },
  {
   "cell_type": "code",
   "execution_count": 143,
   "id": "294d87b7",
   "metadata": {},
   "outputs": [
    {
     "name": "stdout",
     "output_type": "stream",
     "text": [
      "(4, 8)\n"
     ]
    },
    {
     "data": {
      "text/plain": [
       "array([[23, 23, 37, 32, 33, 11, 42, 41],\n",
       "       [14, 12, 23, 14, 38, 30, 23, 11],\n",
       "       [21, 31, 12, 24, 18, 42, 12, 39],\n",
       "       [27, 36, 13, 11, 27, 37, 19, 34]])"
      ]
     },
     "execution_count": 143,
     "metadata": {},
     "output_type": "execute_result"
    }
   ],
   "source": [
    "# Transpose of aravalli\n",
    "nilgiri=np.transpose(arravalli)\n",
    "print(nilgiri.shape)\n",
    "nilgiri"
   ]
  },
  {
   "cell_type": "code",
   "execution_count": 145,
   "id": "df71e489",
   "metadata": {},
   "outputs": [
    {
     "name": "stdout",
     "output_type": "stream",
     "text": [
      "[[[ 1  2  3]\n",
      "  [ 4  5  6]\n",
      "  [ 7  8  9]]\n",
      "\n",
      " [[10 11 12]\n",
      "  [14 13 15]\n",
      "  [ 7 15 18]]]\n"
     ]
    },
    {
     "data": {
      "text/plain": [
       "(2, 3, 3)"
      ]
     },
     "execution_count": 145,
     "metadata": {},
     "output_type": "execute_result"
    }
   ],
   "source": [
    "random_3d=np.array([[[1,2,3],[4,5,6],[7,8,9]],[[10,11,12],[14,13,15],[7,15,18]]])\n",
    "print(random_3d)\n",
    "random_3d.shape"
   ]
  },
  {
   "cell_type": "code",
   "execution_count": 147,
   "id": "e310bc71",
   "metadata": {},
   "outputs": [
    {
     "data": {
      "text/plain": [
       "array([[[ 1, 10],\n",
       "        [ 4, 14],\n",
       "        [ 7,  7]],\n",
       "\n",
       "       [[ 2, 11],\n",
       "        [ 5, 13],\n",
       "        [ 8, 15]],\n",
       "\n",
       "       [[ 3, 12],\n",
       "        [ 6, 15],\n",
       "        [ 9, 18]]])"
      ]
     },
     "execution_count": 147,
     "metadata": {},
     "output_type": "execute_result"
    }
   ],
   "source": [
    "random_3d.transpose()\n"
   ]
  },
  {
   "cell_type": "code",
   "execution_count": 148,
   "id": "6de291b7",
   "metadata": {},
   "outputs": [
    {
     "data": {
      "text/plain": [
       "(3, 3, 2)"
      ]
     },
     "execution_count": 148,
     "metadata": {},
     "output_type": "execute_result"
    }
   ],
   "source": [
    "random_3d.transpose().shape"
   ]
  },
  {
   "cell_type": "code",
   "execution_count": 154,
   "id": "23643a34",
   "metadata": {},
   "outputs": [
    {
     "name": "stdout",
     "output_type": "stream",
     "text": [
      "(3, 4, 5)\n"
     ]
    },
    {
     "data": {
      "text/plain": [
       "array([[[17, 12, 32, 30, 22],\n",
       "        [11, 18, 32, 17, 23],\n",
       "        [12, 17, 21, 15, 22],\n",
       "        [27, 22, 23, 15, 34]],\n",
       "\n",
       "       [[27, 25, 31, 24, 32],\n",
       "        [24, 27, 15, 11, 32],\n",
       "        [19, 31, 13, 19, 13],\n",
       "        [26, 29, 18, 16, 13]],\n",
       "\n",
       "       [[26, 12, 33, 21, 12],\n",
       "        [16, 20, 31, 33, 33],\n",
       "        [20, 10, 28, 10, 30],\n",
       "        [33, 24, 31, 15, 26]]])"
      ]
     },
     "execution_count": 154,
     "metadata": {},
     "output_type": "execute_result"
    }
   ],
   "source": [
    "a=np.random.randint(10,35,(3,4,5))\n",
    "print(a.shape)\n",
    "a"
   ]
  },
  {
   "cell_type": "code",
   "execution_count": 155,
   "id": "db0c500f",
   "metadata": {},
   "outputs": [
    {
     "data": {
      "text/plain": [
       "array([[[17, 27, 26],\n",
       "        [11, 24, 16],\n",
       "        [12, 19, 20],\n",
       "        [27, 26, 33]],\n",
       "\n",
       "       [[12, 25, 12],\n",
       "        [18, 27, 20],\n",
       "        [17, 31, 10],\n",
       "        [22, 29, 24]],\n",
       "\n",
       "       [[32, 31, 33],\n",
       "        [32, 15, 31],\n",
       "        [21, 13, 28],\n",
       "        [23, 18, 31]],\n",
       "\n",
       "       [[30, 24, 21],\n",
       "        [17, 11, 33],\n",
       "        [15, 19, 10],\n",
       "        [15, 16, 15]],\n",
       "\n",
       "       [[22, 32, 12],\n",
       "        [23, 32, 33],\n",
       "        [22, 13, 30],\n",
       "        [34, 13, 26]]])"
      ]
     },
     "execution_count": 155,
     "metadata": {},
     "output_type": "execute_result"
    }
   ],
   "source": [
    "a.transpose()"
   ]
  },
  {
   "cell_type": "code",
   "execution_count": 161,
   "id": "1f08b2c6",
   "metadata": {},
   "outputs": [
    {
     "data": {
      "text/plain": [
       "array([[ 1,  2,  3,  4,  5,  6],\n",
       "       [ 7,  8,  9, 10, 11, 12],\n",
       "       [14, 13, 15,  7, 15, 18]])"
      ]
     },
     "execution_count": 161,
     "metadata": {},
     "output_type": "execute_result"
    }
   ],
   "source": [
    "random_3d.reshape(3,6)"
   ]
  },
  {
   "cell_type": "code",
   "execution_count": 213,
   "id": "2584c8ea",
   "metadata": {},
   "outputs": [
    {
     "name": "stdout",
     "output_type": "stream",
     "text": [
      "[[27  5 14 15 10 34]\n",
      " [43  7 22 24 27 43]\n",
      " [38 44 45 20 26 47]\n",
      " [19 28 25 45 44 23]\n",
      " [18  6 11 18 20 38]] [34 43 47 45 38]\n"
     ]
    }
   ],
   "source": [
    "a=np.random.randint(5,50,(5,6))\n",
    "print(a, a.max(axis=1))\n"
   ]
  },
  {
   "cell_type": "code",
   "execution_count": 215,
   "id": "f39d2c77",
   "metadata": {},
   "outputs": [
    {
     "data": {
      "text/plain": [
       "array([105, 166, 220, 184, 111])"
      ]
     },
     "execution_count": 215,
     "metadata": {},
     "output_type": "execute_result"
    }
   ],
   "source": [
    "a.sum(axis=1)"
   ]
  },
  {
   "cell_type": "code",
   "execution_count": 217,
   "id": "104bdbf3",
   "metadata": {},
   "outputs": [
    {
     "data": {
      "text/plain": [
       "array([[ 5, 10, 14, 15, 27, 34],\n",
       "       [ 7, 22, 24, 27, 43, 43],\n",
       "       [20, 26, 38, 44, 45, 47],\n",
       "       [19, 23, 25, 28, 44, 45],\n",
       "       [ 6, 11, 18, 18, 20, 38]])"
      ]
     },
     "execution_count": 217,
     "metadata": {},
     "output_type": "execute_result"
    }
   ],
   "source": [
    "a.sort(axis=1)\n",
    "a"
   ]
  },
  {
   "cell_type": "code",
   "execution_count": 177,
   "id": "af4e9d60",
   "metadata": {},
   "outputs": [
    {
     "data": {
      "text/plain": [
       "array([[[ 0,  1,  2,  3],\n",
       "        [ 4,  5,  6,  7]],\n",
       "\n",
       "       [[ 8,  9, 10, 11],\n",
       "        [12, 13, 14, 15]],\n",
       "\n",
       "       [[16, 17, 18, 19],\n",
       "        [20, 21, 22, 23]]])"
      ]
     },
     "execution_count": 177,
     "metadata": {},
     "output_type": "execute_result"
    }
   ],
   "source": [
    "a=a.reshape(3,2,4)\n",
    "a\n"
   ]
  },
  {
   "cell_type": "code",
   "execution_count": 173,
   "id": "427197ee",
   "metadata": {},
   "outputs": [
    {
     "data": {
      "text/plain": [
       "(3, 2, 4)"
      ]
     },
     "execution_count": 173,
     "metadata": {},
     "output_type": "execute_result"
    }
   ],
   "source": [
    "a.shape"
   ]
  },
  {
   "cell_type": "code",
   "execution_count": 178,
   "id": "58f3ebcb",
   "metadata": {},
   "outputs": [
    {
     "data": {
      "text/plain": [
       "array([ 0,  1,  2,  3,  4,  5,  6,  7,  8,  9, 10, 11, 12, 13, 14, 15, 16,\n",
       "       17, 18, 19, 20, 21, 22, 23])"
      ]
     },
     "execution_count": 178,
     "metadata": {},
     "output_type": "execute_result"
    }
   ],
   "source": [
    "a.flatten()"
   ]
  },
  {
   "cell_type": "code",
   "execution_count": 179,
   "id": "6feca393",
   "metadata": {},
   "outputs": [
    {
     "data": {
      "text/plain": [
       "array([ 0,  1,  2,  3,  4,  5,  6,  7,  8,  9, 10, 11, 12, 13, 14, 15, 16,\n",
       "       17, 18, 19, 20, 21, 22, 23])"
      ]
     },
     "execution_count": 179,
     "metadata": {},
     "output_type": "execute_result"
    }
   ],
   "source": [
    "a.flatten(order=\"C\")"
   ]
  },
  {
   "cell_type": "code",
   "execution_count": 180,
   "id": "e3b9c85e",
   "metadata": {},
   "outputs": [
    {
     "data": {
      "text/plain": [
       "array([ 0,  8, 16,  4, 12, 20,  1,  9, 17,  5, 13, 21,  2, 10, 18,  6, 14,\n",
       "       22,  3, 11, 19,  7, 15, 23])"
      ]
     },
     "execution_count": 180,
     "metadata": {},
     "output_type": "execute_result"
    }
   ],
   "source": [
    "a.flatten(order=\"F\")"
   ]
  },
  {
   "cell_type": "code",
   "execution_count": 197,
   "id": "76af1a6e",
   "metadata": {},
   "outputs": [
    {
     "data": {
      "text/plain": [
       "array([1, 2])"
      ]
     },
     "execution_count": 197,
     "metadata": {},
     "output_type": "execute_result"
    }
   ],
   "source": [
    "np.array((1,2))"
   ]
  },
  {
   "cell_type": "code",
   "execution_count": 198,
   "id": "c7fcc3b2",
   "metadata": {},
   "outputs": [
    {
     "data": {
      "text/plain": [
       "array({1, 2, 3, 5, 6, 8}, dtype=object)"
      ]
     },
     "execution_count": 198,
     "metadata": {},
     "output_type": "execute_result"
    }
   ],
   "source": [
    "np.array({1,2,3,6,5,8})"
   ]
  },
  {
   "cell_type": "code",
   "execution_count": 188,
   "id": "fe5bbbdb",
   "metadata": {},
   "outputs": [
    {
     "data": {
      "text/plain": [
       "array({1, 2, 3, 5, 6, 8}, dtype=object)"
      ]
     },
     "execution_count": 188,
     "metadata": {},
     "output_type": "execute_result"
    }
   ],
   "source": [
    "a"
   ]
  },
  {
   "cell_type": "code",
   "execution_count": 191,
   "id": "6cf5754e",
   "metadata": {},
   "outputs": [
    {
     "data": {
      "text/plain": [
       "dtype('O')"
      ]
     },
     "execution_count": 191,
     "metadata": {},
     "output_type": "execute_result"
    }
   ],
   "source": [
    "a.dtype"
   ]
  },
  {
   "cell_type": "code",
   "execution_count": 201,
   "id": "35351cdd",
   "metadata": {},
   "outputs": [],
   "source": [
    "a=np.array([1,2,3])\n",
    "b=np.array([4])"
   ]
  },
  {
   "cell_type": "code",
   "execution_count": 202,
   "id": "892b0869",
   "metadata": {},
   "outputs": [
    {
     "data": {
      "text/plain": [
       "array([-3, -2, -1])"
      ]
     },
     "execution_count": 202,
     "metadata": {},
     "output_type": "execute_result"
    }
   ],
   "source": [
    "a-b"
   ]
  },
  {
   "cell_type": "code",
   "execution_count": 222,
   "id": "4dd9d146",
   "metadata": {},
   "outputs": [
    {
     "data": {
      "text/plain": [
       "array([10, 20, 30], dtype=int8)"
      ]
     },
     "execution_count": 222,
     "metadata": {},
     "output_type": "execute_result"
    }
   ],
   "source": [
    "dt=np.dtype([('age',np.int8)])\n",
    "a=np.array([(10),(20),(30)],dtype=dt)\n",
    "a[\"age\"]"
   ]
  },
  {
   "cell_type": "code",
   "execution_count": null,
   "id": "e1713ba3",
   "metadata": {},
   "outputs": [],
   "source": []
  }
 ],
 "metadata": {
  "kernelspec": {
   "display_name": "Python 3",
   "language": "python",
   "name": "python3"
  },
  "language_info": {
   "codemirror_mode": {
    "name": "ipython",
    "version": 3
   },
   "file_extension": ".py",
   "mimetype": "text/x-python",
   "name": "python",
   "nbconvert_exporter": "python",
   "pygments_lexer": "ipython3",
   "version": "3.8.8"
  },
  "nbTranslate": {
   "displayLangs": [
    "*"
   ],
   "hotkey": "alt-t",
   "langInMainMenu": true,
   "sourceLang": "en",
   "targetLang": "fr",
   "useGoogleTranslate": true
  },
  "varInspector": {
   "cols": {
    "lenName": 16,
    "lenType": 16,
    "lenVar": 40
   },
   "kernels_config": {
    "python": {
     "delete_cmd_postfix": "",
     "delete_cmd_prefix": "del ",
     "library": "var_list.py",
     "varRefreshCmd": "print(var_dic_list())"
    },
    "r": {
     "delete_cmd_postfix": ") ",
     "delete_cmd_prefix": "rm(",
     "library": "var_list.r",
     "varRefreshCmd": "cat(var_dic_list()) "
    }
   },
   "types_to_exclude": [
    "module",
    "function",
    "builtin_function_or_method",
    "instance",
    "_Feature"
   ],
   "window_display": false
  }
 },
 "nbformat": 4,
 "nbformat_minor": 5
}
