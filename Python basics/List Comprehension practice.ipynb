{
 "cells": [
  {
   "cell_type": "code",
   "execution_count": 1,
   "id": "61af5e4b",
   "metadata": {},
   "outputs": [],
   "source": [
    "list_of_numbers=[1,2,4,6,11,14,17,20]"
   ]
  },
  {
   "cell_type": "code",
   "execution_count": 3,
   "id": "ea388f7f",
   "metadata": {},
   "outputs": [
    {
     "data": {
      "text/plain": [
       "[1, 4, 16, 36, 121, 196, 289, 400]"
      ]
     },
     "execution_count": 3,
     "metadata": {},
     "output_type": "execute_result"
    }
   ],
   "source": [
    "x=[x**2 for x in list_of_numbers]\n",
    "x"
   ]
  },
  {
   "cell_type": "code",
   "execution_count": 4,
   "id": "8e75a7b1",
   "metadata": {},
   "outputs": [
    {
     "data": {
      "text/plain": [
       "[4, 16, 36, 196, 400]"
      ]
     },
     "execution_count": 4,
     "metadata": {},
     "output_type": "execute_result"
    }
   ],
   "source": [
    "x1=[x**2 for x in list_of_numbers if x %2 ==0]\n",
    "x1"
   ]
  },
  {
   "cell_type": "code",
   "execution_count": 6,
   "id": "c1830a37",
   "metadata": {},
   "outputs": [
    {
     "data": {
      "text/plain": [
       "[1, 121, 289]"
      ]
     },
     "execution_count": 6,
     "metadata": {},
     "output_type": "execute_result"
    }
   ],
   "source": [
    "x2=[x**2 for x in list_of_numbers if x%2!=0]\n",
    "x2"
   ]
  },
  {
   "cell_type": "code",
   "execution_count": 8,
   "id": "c3351212",
   "metadata": {},
   "outputs": [
    {
     "data": {
      "text/plain": [
       "[1, 4, 16, 36, 1331, 196, 4913, 400]"
      ]
     },
     "execution_count": 8,
     "metadata": {},
     "output_type": "execute_result"
    }
   ],
   "source": [
    "x3=[x**2 if x % 2 ==0 else x **3 for x in list_of_numbers]\n",
    "x3"
   ]
  },
  {
   "cell_type": "code",
   "execution_count": 13,
   "id": "a2c97cd1",
   "metadata": {},
   "outputs": [
    {
     "data": {
      "text/plain": [
       "[[0, 0],\n",
       " [0, 1],\n",
       " [0, 2],\n",
       " [1, 0],\n",
       " [1, 1],\n",
       " [1, 2],\n",
       " [2, 0],\n",
       " [2, 1],\n",
       " [2, 2],\n",
       " [3, 0],\n",
       " [3, 1],\n",
       " [3, 2],\n",
       " [4, 0],\n",
       " [4, 1],\n",
       " [4, 2],\n",
       " [5, 0],\n",
       " [5, 1],\n",
       " [5, 2],\n",
       " [6, 0],\n",
       " [6, 1],\n",
       " [6, 2],\n",
       " [7, 0],\n",
       " [7, 1],\n",
       " [7, 2],\n",
       " [8, 0],\n",
       " [8, 1],\n",
       " [8, 2],\n",
       " [9, 0],\n",
       " [9, 1],\n",
       " [9, 2]]"
      ]
     },
     "execution_count": 13,
     "metadata": {},
     "output_type": "execute_result"
    }
   ],
   "source": [
    "#  Nested list comprehension\n",
    "x4=[[x,y] for x in range (10) for y in range(3)]\n",
    "# x5=[x+y for x in range (10) for y in range(3)]\n",
    "# print(x4 )\n",
    "x4"
   ]
  },
  {
   "cell_type": "code",
   "execution_count": 18,
   "id": "6f31c1c0",
   "metadata": {},
   "outputs": [],
   "source": [
    "x6=[]\n",
    "for x in range(10):\n",
    "    for y in range(3):\n",
    "        x6.append([x,y])\n"
   ]
  },
  {
   "cell_type": "code",
   "execution_count": 19,
   "id": "eb04c8db",
   "metadata": {},
   "outputs": [
    {
     "data": {
      "text/plain": [
       "True"
      ]
     },
     "execution_count": 19,
     "metadata": {},
     "output_type": "execute_result"
    }
   ],
   "source": [
    "x4==x6"
   ]
  },
  {
   "cell_type": "code",
   "execution_count": 20,
   "id": "cc1314e3",
   "metadata": {},
   "outputs": [],
   "source": [
    "# So while writing the list comprehension the first for loop is the outer for loop followed by the second loop is tge inner for loop 3 rd for loop is the second innerloop"
   ]
  },
  {
   "cell_type": "markdown",
   "id": "85926383",
   "metadata": {},
   "source": [
    "# String Comprehension"
   ]
  },
  {
   "cell_type": "code",
   "execution_count": 21,
   "id": "291ee7cc",
   "metadata": {},
   "outputs": [],
   "source": [
    "heisenberg_quote = \"It ceases to exist without me. No, you clearly don't know who you're talking to, so let me clue you in. I am not in danger, Skyler. I am the danger.\""
   ]
  },
  {
   "cell_type": "code",
   "execution_count": 22,
   "id": "01d1d199",
   "metadata": {},
   "outputs": [
    {
     "data": {
      "text/plain": [
       "['It',\n",
       " 'ceases',\n",
       " 'to',\n",
       " 'exist',\n",
       " 'without',\n",
       " 'me.',\n",
       " 'No,',\n",
       " 'you',\n",
       " 'clearly',\n",
       " \"don't\",\n",
       " 'know',\n",
       " 'who',\n",
       " \"you're\",\n",
       " 'talking',\n",
       " 'to,',\n",
       " 'so',\n",
       " 'let',\n",
       " 'me',\n",
       " 'clue',\n",
       " 'you',\n",
       " 'in.',\n",
       " 'I',\n",
       " 'am',\n",
       " 'not',\n",
       " 'in',\n",
       " 'danger,',\n",
       " 'Skyler.',\n",
       " 'I',\n",
       " 'am',\n",
       " 'the',\n",
       " 'danger.']"
      ]
     },
     "execution_count": 22,
     "metadata": {},
     "output_type": "execute_result"
    }
   ],
   "source": [
    "words_in_sentence=heisenberg_quote.split()\n",
    "words_in_sentence"
   ]
  },
  {
   "cell_type": "code",
   "execution_count": 23,
   "id": "6357b55b",
   "metadata": {},
   "outputs": [
    {
     "data": {
      "text/plain": [
       "['I',\n",
       " 'c',\n",
       " 't',\n",
       " 'e',\n",
       " 'w',\n",
       " 'm',\n",
       " 'N',\n",
       " 'y',\n",
       " 'c',\n",
       " 'd',\n",
       " 'k',\n",
       " 'w',\n",
       " 'y',\n",
       " 't',\n",
       " 't',\n",
       " 's',\n",
       " 'l',\n",
       " 'm',\n",
       " 'c',\n",
       " 'y',\n",
       " 'i',\n",
       " 'I',\n",
       " 'a',\n",
       " 'n',\n",
       " 'i',\n",
       " 'd',\n",
       " 'S',\n",
       " 'I',\n",
       " 'a',\n",
       " 't',\n",
       " 'd']"
      ]
     },
     "execution_count": 23,
     "metadata": {},
     "output_type": "execute_result"
    }
   ],
   "source": [
    "x=[word[0] for word in words_in_sentence]\n",
    "x"
   ]
  },
  {
   "cell_type": "code",
   "execution_count": 26,
   "id": "6becc72e",
   "metadata": {},
   "outputs": [
    {
     "data": {
      "text/plain": [
       "['A', 'l', 'p', 'h', 'a', 'b', 'e', 't', ' ', 'I', 'n', 'c', '.']"
      ]
     },
     "execution_count": 26,
     "metadata": {},
     "output_type": "execute_result"
    }
   ],
   "source": [
    "my_string = 'Alphabet Inc.'\n",
    "x=[x for x in my_string]\n",
    "x"
   ]
  },
  {
   "cell_type": "markdown",
   "id": "f35ef6ea",
   "metadata": {},
   "source": [
    "# List comprehension"
   ]
  },
  {
   "cell_type": "code",
   "execution_count": 27,
   "id": "e005fd45",
   "metadata": {},
   "outputs": [
    {
     "data": {
      "text/plain": [
       "('Monday', 'Tuesday', 'Wednesday', 'Thursday', 'Friday', 'Saturday', 'Sunday')"
      ]
     },
     "execution_count": 27,
     "metadata": {},
     "output_type": "execute_result"
    }
   ],
   "source": [
    "days=(\"Monday\" ,\"Tuesday\",\"Wednesday\",\"Thursday\",\"Friday\",\"Saturday\",\"Sunday\")\n",
    "days"
   ]
  },
  {
   "cell_type": "code",
   "execution_count": 28,
   "id": "d87b0a86",
   "metadata": {},
   "outputs": [
    {
     "data": {
      "text/plain": [
       "['Mon', 'Tues', 'Wednes', 'Thurs', 'Fri', 'Satur', 'Sun']"
      ]
     },
     "execution_count": 28,
     "metadata": {},
     "output_type": "execute_result"
    }
   ],
   "source": [
    "without_days=[day[:-3] for day in days]\n",
    "without_days"
   ]
  },
  {
   "cell_type": "code",
   "execution_count": 29,
   "id": "0662389f",
   "metadata": {},
   "outputs": [
    {
     "data": {
      "text/plain": [
       "('Monday', 'Tuesday', 'Wednesday', 'Thursday', 'Friday', 'Saturday', 'Sunday')"
      ]
     },
     "execution_count": 29,
     "metadata": {},
     "output_type": "execute_result"
    }
   ],
   "source": [
    "x=tuple(day for day in days)\n",
    "x"
   ]
  },
  {
   "cell_type": "markdown",
   "id": "955564e0",
   "metadata": {},
   "source": [
    "# Set comprehension"
   ]
  },
  {
   "cell_type": "code",
   "execution_count": 30,
   "id": "1fc43bb0",
   "metadata": {},
   "outputs": [
    {
     "data": {
      "text/plain": [
       "['It',\n",
       " 'ceases',\n",
       " 'to',\n",
       " 'exist',\n",
       " 'without',\n",
       " 'me.',\n",
       " 'No,',\n",
       " 'you',\n",
       " 'clearly',\n",
       " \"don't\",\n",
       " 'know',\n",
       " 'who',\n",
       " \"you're\",\n",
       " 'talking',\n",
       " 'to,',\n",
       " 'so',\n",
       " 'let',\n",
       " 'me',\n",
       " 'clue',\n",
       " 'you',\n",
       " 'in.',\n",
       " 'I',\n",
       " 'am',\n",
       " 'not',\n",
       " 'in',\n",
       " 'danger,',\n",
       " 'Skyler.',\n",
       " 'I',\n",
       " 'am',\n",
       " 'the',\n",
       " 'danger.']"
      ]
     },
     "execution_count": 30,
     "metadata": {},
     "output_type": "execute_result"
    }
   ],
   "source": [
    "words_in_sentence"
   ]
  },
  {
   "cell_type": "code",
   "execution_count": 34,
   "id": "1aa5c8b2",
   "metadata": {},
   "outputs": [
    {
     "data": {
      "text/plain": [
       "{'I',\n",
       " 'N',\n",
       " 'S',\n",
       " 'a',\n",
       " 'c',\n",
       " 'd',\n",
       " 'e',\n",
       " 'i',\n",
       " 'k',\n",
       " 'l',\n",
       " 'm',\n",
       " 'n',\n",
       " 's',\n",
       " 't',\n",
       " 'w',\n",
       " 'y'}"
      ]
     },
     "execution_count": 34,
     "metadata": {},
     "output_type": "execute_result"
    }
   ],
   "source": [
    "set_first_letter={x[0] for x in words_in_sentence}\n",
    "set_first_letter"
   ]
  },
  {
   "cell_type": "markdown",
   "id": "dbdd0cb8",
   "metadata": {},
   "source": [
    "# Dict comprehension"
   ]
  },
  {
   "cell_type": "code",
   "execution_count": 35,
   "id": "c047e46f",
   "metadata": {},
   "outputs": [],
   "source": [
    "country_city_list = [('India','New Delhi'),('Australia','Canberra'),('United States','Washington DC'),('England','London')]"
   ]
  },
  {
   "cell_type": "code",
   "execution_count": 37,
   "id": "b493646d",
   "metadata": {},
   "outputs": [
    {
     "data": {
      "text/plain": [
       "{'India': 'New Delhi',\n",
       " 'Australia': 'Canberra',\n",
       " 'United States': 'Washington DC',\n",
       " 'England': 'London'}"
      ]
     },
     "execution_count": 37,
     "metadata": {},
     "output_type": "execute_result"
    }
   ],
   "source": [
    "country_city_dict=dict(country_city_list)\n",
    "country_city_dict"
   ]
  },
  {
   "cell_type": "code",
   "execution_count": 41,
   "id": "cfb2857d",
   "metadata": {},
   "outputs": [
    {
     "data": {
      "text/plain": [
       "{'New Delhi': 'India',\n",
       " 'Canberra': 'Australia',\n",
       " 'Washington DC': 'United States',\n",
       " 'London': 'England'}"
      ]
     },
     "execution_count": 41,
     "metadata": {},
     "output_type": "execute_result"
    }
   ],
   "source": [
    "flipped={city:country for country,city in country_city_dict.items()}\n",
    "flipped"
   ]
  },
  {
   "cell_type": "code",
   "execution_count": 42,
   "id": "fee4bad7",
   "metadata": {},
   "outputs": [
    {
     "data": {
      "text/plain": [
       "{'New Delhi': 'India', 'Canberra': 'Australia'}"
      ]
     },
     "execution_count": 42,
     "metadata": {},
     "output_type": "execute_result"
    }
   ],
   "source": [
    "flipped2={city:country for country,city in country_city_dict.items() if country[0] not in [\"E\",\"U\"] }\n",
    "flipped2"
   ]
  },
  {
   "cell_type": "code",
   "execution_count": 43,
   "id": "175f4a74",
   "metadata": {},
   "outputs": [
    {
     "data": {
      "text/plain": [
       "{'New': 'Ind', 'Can': 'Aus', 'Was': 'Uni', 'Lon': 'Eng'}"
      ]
     },
     "execution_count": 43,
     "metadata": {},
     "output_type": "execute_result"
    }
   ],
   "source": [
    "flipped3={city[:3]:country[:3] for country,city in country_city_dict.items()}\n",
    "flipped3"
   ]
  },
  {
   "cell_type": "code",
   "execution_count": null,
   "id": "896422f5",
   "metadata": {},
   "outputs": [],
   "source": []
  }
 ],
 "metadata": {
  "kernelspec": {
   "display_name": "Python 3",
   "language": "python",
   "name": "python3"
  },
  "language_info": {
   "codemirror_mode": {
    "name": "ipython",
    "version": 3
   },
   "file_extension": ".py",
   "mimetype": "text/x-python",
   "name": "python",
   "nbconvert_exporter": "python",
   "pygments_lexer": "ipython3",
   "version": "3.8.8"
  },
  "nbTranslate": {
   "displayLangs": [
    "*"
   ],
   "hotkey": "alt-t",
   "langInMainMenu": true,
   "sourceLang": "en",
   "targetLang": "fr",
   "useGoogleTranslate": true
  },
  "varInspector": {
   "cols": {
    "lenName": 16,
    "lenType": 16,
    "lenVar": 40
   },
   "kernels_config": {
    "python": {
     "delete_cmd_postfix": "",
     "delete_cmd_prefix": "del ",
     "library": "var_list.py",
     "varRefreshCmd": "print(var_dic_list())"
    },
    "r": {
     "delete_cmd_postfix": ") ",
     "delete_cmd_prefix": "rm(",
     "library": "var_list.r",
     "varRefreshCmd": "cat(var_dic_list()) "
    }
   },
   "types_to_exclude": [
    "module",
    "function",
    "builtin_function_or_method",
    "instance",
    "_Feature"
   ],
   "window_display": false
  }
 },
 "nbformat": 4,
 "nbformat_minor": 5
}
