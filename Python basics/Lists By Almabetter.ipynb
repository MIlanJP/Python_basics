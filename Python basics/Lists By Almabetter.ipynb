{
 "cells": [
  {
   "cell_type": "code",
   "execution_count": 11,
   "id": "c68021e7",
   "metadata": {},
   "outputs": [],
   "source": [
    "a=[[]]*3"
   ]
  },
  {
   "cell_type": "code",
   "execution_count": 12,
   "id": "de421183",
   "metadata": {},
   "outputs": [
    {
     "data": {
      "text/plain": [
       "[[], [], []]"
      ]
     },
     "execution_count": 12,
     "metadata": {},
     "output_type": "execute_result"
    }
   ],
   "source": [
    "a"
   ]
  },
  {
   "cell_type": "code",
   "execution_count": 4,
   "id": "e2e485e7",
   "metadata": {},
   "outputs": [],
   "source": [
    "a[1]=5"
   ]
  },
  {
   "cell_type": "code",
   "execution_count": 13,
   "id": "d9a15cf5",
   "metadata": {},
   "outputs": [
    {
     "data": {
      "text/plain": [
       "[[], [], []]"
      ]
     },
     "execution_count": 13,
     "metadata": {},
     "output_type": "execute_result"
    }
   ],
   "source": [
    "a"
   ]
  },
  {
   "cell_type": "code",
   "execution_count": 14,
   "id": "836d40ca",
   "metadata": {},
   "outputs": [
    {
     "data": {
      "text/plain": [
       "[[5], [5], [5]]"
      ]
     },
     "execution_count": 14,
     "metadata": {},
     "output_type": "execute_result"
    }
   ],
   "source": [
    "a[1].append(5)\n",
    "a"
   ]
  },
  {
   "cell_type": "code",
   "execution_count": 1,
   "id": "6f8aab50",
   "metadata": {},
   "outputs": [],
   "source": [
    "# Create a tuple\n",
    "my_tuple = (1,'a',3)"
   ]
  },
  {
   "cell_type": "code",
   "execution_count": 2,
   "id": "c730ddd1",
   "metadata": {},
   "outputs": [
    {
     "name": "stdout",
     "output_type": "stream",
     "text": [
      "(1, 'a', 3)\n"
     ]
    }
   ],
   "source": [
    "print(my_tuple)\n"
   ]
  },
  {
   "cell_type": "code",
   "execution_count": 3,
   "id": "8cfc5445",
   "metadata": {},
   "outputs": [
    {
     "data": {
      "text/plain": [
       "tuple"
      ]
     },
     "execution_count": 3,
     "metadata": {},
     "output_type": "execute_result"
    }
   ],
   "source": [
    "type(my_tuple)\n"
   ]
  },
  {
   "cell_type": "code",
   "execution_count": 4,
   "id": "cd291ae2",
   "metadata": {},
   "outputs": [
    {
     "data": {
      "text/plain": [
       "('one', 2, 4.53, 'asbc')"
      ]
     },
     "execution_count": 4,
     "metadata": {},
     "output_type": "execute_result"
    }
   ],
   "source": [
    "# Can also mix object types \n",
    "another_tuple = ('one',2, 4.53, 'asbc')\n",
    "\n",
    "# Show\n",
    "another_tuple"
   ]
  },
  {
   "cell_type": "code",
   "execution_count": 5,
   "id": "228bf038",
   "metadata": {},
   "outputs": [],
   "source": [
    "my_list = [1]\n"
   ]
  },
  {
   "cell_type": "code",
   "execution_count": 6,
   "id": "7789d7e8",
   "metadata": {},
   "outputs": [
    {
     "data": {
      "text/plain": [
       "list"
      ]
     },
     "execution_count": 6,
     "metadata": {},
     "output_type": "execute_result"
    }
   ],
   "source": [
    "type(my_list)\n"
   ]
  },
  {
   "cell_type": "code",
   "execution_count": 7,
   "id": "90f7e636",
   "metadata": {},
   "outputs": [],
   "source": [
    "my_tuple = (1,)\n"
   ]
  },
  {
   "cell_type": "code",
   "execution_count": 8,
   "id": "304aab14",
   "metadata": {},
   "outputs": [
    {
     "data": {
      "text/plain": [
       "tuple"
      ]
     },
     "execution_count": 8,
     "metadata": {},
     "output_type": "execute_result"
    }
   ],
   "source": [
    "type(my_tuple)"
   ]
  },
  {
   "cell_type": "code",
   "execution_count": 9,
   "id": "d2174b53",
   "metadata": {},
   "outputs": [],
   "source": [
    "my_tuple=(1,2,3,4)"
   ]
  },
  {
   "cell_type": "code",
   "execution_count": 10,
   "id": "59288a68",
   "metadata": {},
   "outputs": [
    {
     "data": {
      "text/plain": [
       "4"
      ]
     },
     "execution_count": 10,
     "metadata": {},
     "output_type": "execute_result"
    }
   ],
   "source": [
    "len(my_tuple)"
   ]
  },
  {
   "cell_type": "markdown",
   "id": "dad8429a",
   "metadata": {},
   "source": [
    "# Tuple Indexing\n",
    "1. Indexing work just like in lists\n",
    "2. A tuple index refers to the location of a element in a topic\n",
    "3. Remember the indexing begins from index 0\n",
    "4. The first element is assigned to 0 and the second element is assigned to 1 and so on goes the count"
   ]
  },
  {
   "cell_type": "code",
   "execution_count": 11,
   "id": "d7a79fb8",
   "metadata": {},
   "outputs": [
    {
     "data": {
      "text/plain": [
       "'one'"
      ]
     },
     "execution_count": 11,
     "metadata": {},
     "output_type": "execute_result"
    }
   ],
   "source": [
    "another_tuple=('one', 2, 4.53, 'asbc')\n",
    "another_tuple[0]"
   ]
  },
  {
   "cell_type": "code",
   "execution_count": 12,
   "id": "4556b8bd",
   "metadata": {},
   "outputs": [
    {
     "data": {
      "text/plain": [
       "'asbc'"
      ]
     },
     "execution_count": 12,
     "metadata": {},
     "output_type": "execute_result"
    }
   ],
   "source": [
    "another_tuple[3]"
   ]
  },
  {
   "cell_type": "code",
   "execution_count": 13,
   "id": "7c0afe46",
   "metadata": {},
   "outputs": [
    {
     "data": {
      "text/plain": [
       "'asbc'"
      ]
     },
     "execution_count": 13,
     "metadata": {},
     "output_type": "execute_result"
    }
   ],
   "source": [
    "another_tuple[-1]"
   ]
  },
  {
   "cell_type": "code",
   "execution_count": 15,
   "id": "b1e294d3",
   "metadata": {},
   "outputs": [
    {
     "data": {
      "text/plain": [
       "2"
      ]
     },
     "execution_count": 15,
     "metadata": {},
     "output_type": "execute_result"
    }
   ],
   "source": [
    "another_tuple[-3]"
   ]
  },
  {
   "cell_type": "markdown",
   "id": "3856135d",
   "metadata": {},
   "source": [
    "# Tuple Slicing\n",
    "1. We can use a : to perform slicing which grabs everything up to a designated point\n",
    "2. The starting index is specified on the left bar of : and ending point is specified on right side of the : \n",
    "3. Remember the element in the right side is not included"
   ]
  },
  {
   "cell_type": "code",
   "execution_count": 16,
   "id": "893c7727",
   "metadata": {},
   "outputs": [
    {
     "name": "stdout",
     "output_type": "stream",
     "text": [
      "('one', 2, 4.53, 'asbc')\n"
     ]
    }
   ],
   "source": [
    "# Print our list\n",
    "print(another_tuple)"
   ]
  },
  {
   "cell_type": "code",
   "execution_count": 17,
   "id": "3835ac18",
   "metadata": {},
   "outputs": [
    {
     "data": {
      "text/plain": [
       "(2, 4.53)"
      ]
     },
     "execution_count": 17,
     "metadata": {},
     "output_type": "execute_result"
    }
   ],
   "source": [
    "another_tuple[1:3]"
   ]
  },
  {
   "cell_type": "code",
   "execution_count": 18,
   "id": "79ec9ad2",
   "metadata": {},
   "outputs": [
    {
     "data": {
      "text/plain": [
       "('one', 2, 4.53, 'asbc')"
      ]
     },
     "execution_count": 18,
     "metadata": {},
     "output_type": "execute_result"
    }
   ],
   "source": [
    "another_tuple[:6]"
   ]
  },
  {
   "cell_type": "code",
   "execution_count": 20,
   "id": "104abe6a",
   "metadata": {},
   "outputs": [
    {
     "data": {
      "text/plain": [
       "('one', 2, 4.53, 'asbc')"
      ]
     },
     "execution_count": 20,
     "metadata": {},
     "output_type": "execute_result"
    }
   ],
   "source": [
    "another_tuple"
   ]
  },
  {
   "cell_type": "code",
   "execution_count": 21,
   "id": "670f2e12",
   "metadata": {},
   "outputs": [
    {
     "data": {
      "text/plain": [
       "('one', 2, 4.53, 'asbc')"
      ]
     },
     "execution_count": 21,
     "metadata": {},
     "output_type": "execute_result"
    }
   ],
   "source": [
    "another_tuple[-4:]"
   ]
  },
  {
   "cell_type": "code",
   "execution_count": 22,
   "id": "1ba427b8",
   "metadata": {},
   "outputs": [
    {
     "ename": "IndexError",
     "evalue": "tuple index out of range",
     "output_type": "error",
     "traceback": [
      "\u001b[1;31m---------------------------------------------------------------------------\u001b[0m",
      "\u001b[1;31mIndexError\u001b[0m                                Traceback (most recent call last)",
      "\u001b[1;32m<ipython-input-22-3d51a942c11d>\u001b[0m in \u001b[0;36m<module>\u001b[1;34m\u001b[0m\n\u001b[1;32m----> 1\u001b[1;33m \u001b[0manother_tuple\u001b[0m\u001b[1;33m[\u001b[0m\u001b[1;36m5\u001b[0m\u001b[1;33m]\u001b[0m\u001b[1;33m\u001b[0m\u001b[1;33m\u001b[0m\u001b[0m\n\u001b[0m",
      "\u001b[1;31mIndexError\u001b[0m: tuple index out of range"
     ]
    }
   ],
   "source": [
    "another_tuple[5]"
   ]
  },
  {
   "cell_type": "code",
   "execution_count": 23,
   "id": "f8b507b7",
   "metadata": {},
   "outputs": [
    {
     "data": {
      "text/plain": [
       "4"
      ]
     },
     "execution_count": 23,
     "metadata": {},
     "output_type": "execute_result"
    }
   ],
   "source": [
    "len(another_tuple)"
   ]
  },
  {
   "cell_type": "code",
   "execution_count": 24,
   "id": "72df6919",
   "metadata": {},
   "outputs": [
    {
     "ename": "TypeError",
     "evalue": "'<' not supported between instances of 'int' and 'str'",
     "output_type": "error",
     "traceback": [
      "\u001b[1;31m---------------------------------------------------------------------------\u001b[0m",
      "\u001b[1;31mTypeError\u001b[0m                                 Traceback (most recent call last)",
      "\u001b[1;32m<ipython-input-24-869d3bbb568b>\u001b[0m in \u001b[0;36m<module>\u001b[1;34m\u001b[0m\n\u001b[1;32m----> 1\u001b[1;33m \u001b[0msorted\u001b[0m\u001b[1;33m(\u001b[0m\u001b[0manother_tuple\u001b[0m\u001b[1;33m)\u001b[0m\u001b[1;33m\u001b[0m\u001b[1;33m\u001b[0m\u001b[0m\n\u001b[0m",
      "\u001b[1;31mTypeError\u001b[0m: '<' not supported between instances of 'int' and 'str'"
     ]
    }
   ],
   "source": [
    "sorted(another_tuple)"
   ]
  },
  {
   "cell_type": "markdown",
   "id": "354367d8",
   "metadata": {},
   "source": [
    "# Tuples methods"
   ]
  },
  {
   "cell_type": "code",
   "execution_count": 34,
   "id": "a0436954",
   "metadata": {},
   "outputs": [],
   "source": [
    "my_tuple=(4,8,9,7,7,8,5,9,51,2,3,6,5,4,7,8,9,6,2)"
   ]
  },
  {
   "cell_type": "code",
   "execution_count": 36,
   "id": "95f747aa",
   "metadata": {},
   "outputs": [
    {
     "data": {
      "text/plain": [
       "3"
      ]
     },
     "execution_count": 36,
     "metadata": {},
     "output_type": "execute_result"
    }
   ],
   "source": [
    "my_tuple.index(7)\n",
    "# index() function is used to find the index of the value provided as an argument"
   ]
  },
  {
   "cell_type": "code",
   "execution_count": 38,
   "id": "f66ba8db",
   "metadata": {},
   "outputs": [
    {
     "data": {
      "text/plain": [
       "3"
      ]
     },
     "execution_count": 38,
     "metadata": {},
     "output_type": "execute_result"
    }
   ],
   "source": [
    "my_tuple.count(7)\n",
    "# The count() method is used to find the number of occurence of the value provided"
   ]
  },
  {
   "cell_type": "code",
   "execution_count": 39,
   "id": "610af6f1",
   "metadata": {},
   "outputs": [
    {
     "name": "stdout",
     "output_type": "stream",
     "text": [
      "(4, 8, 9, 7, 7, 8, 5, 9, 51, 2, 3, 6, 5, 4, 7, 8, 9, 6, 2)\n"
     ]
    }
   ],
   "source": [
    "print(my_tuple)"
   ]
  },
  {
   "cell_type": "code",
   "execution_count": 40,
   "id": "e50336f4",
   "metadata": {},
   "outputs": [
    {
     "data": {
      "text/plain": [
       "4"
      ]
     },
     "execution_count": 40,
     "metadata": {},
     "output_type": "execute_result"
    }
   ],
   "source": [
    "my_tuple[0]"
   ]
  },
  {
   "cell_type": "code",
   "execution_count": 42,
   "id": "11b41202",
   "metadata": {},
   "outputs": [
    {
     "ename": "TypeError",
     "evalue": "'tuple' object does not support item assignment",
     "output_type": "error",
     "traceback": [
      "\u001b[1;31m---------------------------------------------------------------------------\u001b[0m",
      "\u001b[1;31mTypeError\u001b[0m                                 Traceback (most recent call last)",
      "\u001b[1;32m<ipython-input-42-26807e8f843b>\u001b[0m in \u001b[0;36m<module>\u001b[1;34m\u001b[0m\n\u001b[1;32m----> 1\u001b[1;33m \u001b[0mmy_tuple\u001b[0m\u001b[1;33m[\u001b[0m\u001b[1;36m0\u001b[0m\u001b[1;33m]\u001b[0m\u001b[1;33m=\u001b[0m\u001b[1;34m\"45\"\u001b[0m\u001b[1;33m\u001b[0m\u001b[1;33m\u001b[0m\u001b[0m\n\u001b[0m\u001b[0;32m      2\u001b[0m \u001b[1;31m# This is proof for that the tuple is  immutable\u001b[0m\u001b[1;33m\u001b[0m\u001b[1;33m\u001b[0m\u001b[1;33m\u001b[0m\u001b[0m\n",
      "\u001b[1;31mTypeError\u001b[0m: 'tuple' object does not support item assignment"
     ]
    }
   ],
   "source": [
    "my_tuple[0]=\"45\"\n",
    "# This is proof for that the tuple is  immutable"
   ]
  },
  {
   "cell_type": "markdown",
   "id": "94d0e134",
   "metadata": {},
   "source": [
    "Because of the immutability we cant add anything into the tuple because its not growable\n",
    "tuple does not support methods like append remove pop extend"
   ]
  },
  {
   "cell_type": "code",
   "execution_count": 43,
   "id": "672b25c3",
   "metadata": {},
   "outputs": [],
   "source": [
    "city_list = ['Delhi','Patna','Cuttack','Guwahati']\n",
    "river_list = ['Yamuna','Ganga','Mahanadi','Brahmaputra']\n"
   ]
  },
  {
   "cell_type": "code",
   "execution_count": 47,
   "id": "380bbfde",
   "metadata": {},
   "outputs": [
    {
     "data": {
      "text/plain": [
       "[('Delhi', 'Yamuna'),\n",
       " ('Patna', 'Ganga'),\n",
       " ('Cuttack', 'Mahanadi'),\n",
       " ('Guwahati', 'Brahmaputra')]"
      ]
     },
     "execution_count": 47,
     "metadata": {},
     "output_type": "execute_result"
    }
   ],
   "source": [
    "city_rivers=list(zip(city_list,river_list))\n",
    "city_rivers"
   ]
  },
  {
   "cell_type": "markdown",
   "id": "9cfafc5c",
   "metadata": {},
   "source": [
    "# Sets\n",
    "1. Sets are unordered collections of unique elements "
   ]
  },
  {
   "cell_type": "code",
   "execution_count": 48,
   "id": "65e45248",
   "metadata": {},
   "outputs": [
    {
     "data": {
      "text/plain": [
       "dict"
      ]
     },
     "execution_count": 48,
     "metadata": {},
     "output_type": "execute_result"
    }
   ],
   "source": [
    "s={}\n",
    "type(s)"
   ]
  },
  {
   "cell_type": "code",
   "execution_count": 49,
   "id": "c014c0b9",
   "metadata": {},
   "outputs": [
    {
     "data": {
      "text/plain": [
       "set"
      ]
     },
     "execution_count": 49,
     "metadata": {},
     "output_type": "execute_result"
    }
   ],
   "source": [
    "my_set=set()\n",
    "type(my_set)"
   ]
  },
  {
   "cell_type": "code",
   "execution_count": 66,
   "id": "ffe07a63",
   "metadata": {},
   "outputs": [
    {
     "data": {
      "text/plain": [
       "{1, 2, 3, 4, 5, 7, 8, 9}"
      ]
     },
     "execution_count": 66,
     "metadata": {},
     "output_type": "execute_result"
    }
   ],
   "source": [
    "my_list=[1,1,2,3,4,2,1,3,4,5,2,4,2,1,4,2,1,8,7,9,5]\n",
    "my_set=set(my_list)\n",
    "my_set\n"
   ]
  },
  {
   "cell_type": "code",
   "execution_count": 67,
   "id": "f6abca63",
   "metadata": {},
   "outputs": [
    {
     "data": {
      "text/plain": [
       "{(3, 4), 1, 2}"
      ]
     },
     "execution_count": 67,
     "metadata": {},
     "output_type": "execute_result"
    }
   ],
   "source": [
    "my_set = {1, 2, (3, 4)}\n",
    "my_set\n",
    "# Inside set a immutable data type i.e a tuple can be added"
   ]
  },
  {
   "cell_type": "code",
   "execution_count": 68,
   "id": "b4ad386b",
   "metadata": {},
   "outputs": [
    {
     "ename": "TypeError",
     "evalue": "unhashable type: 'set'",
     "output_type": "error",
     "traceback": [
      "\u001b[1;31m---------------------------------------------------------------------------\u001b[0m",
      "\u001b[1;31mTypeError\u001b[0m                                 Traceback (most recent call last)",
      "\u001b[1;32m<ipython-input-68-75711c6e5aae>\u001b[0m in \u001b[0;36m<module>\u001b[1;34m\u001b[0m\n\u001b[1;32m----> 1\u001b[1;33m \u001b[0mmy_set\u001b[0m \u001b[1;33m=\u001b[0m \u001b[1;33m{\u001b[0m\u001b[1;36m1\u001b[0m\u001b[1;33m,\u001b[0m \u001b[1;36m2\u001b[0m\u001b[1;33m,\u001b[0m \u001b[1;33m{\u001b[0m\u001b[1;36m3\u001b[0m\u001b[1;33m,\u001b[0m \u001b[1;36m4\u001b[0m\u001b[1;33m}\u001b[0m\u001b[1;33m}\u001b[0m\u001b[1;33m\u001b[0m\u001b[1;33m\u001b[0m\u001b[0m\n\u001b[0m\u001b[0;32m      2\u001b[0m \u001b[0mprint\u001b[0m\u001b[1;33m(\u001b[0m\u001b[0mmy_set\u001b[0m\u001b[1;33m)\u001b[0m\u001b[1;33m\u001b[0m\u001b[1;33m\u001b[0m\u001b[0m\n\u001b[0;32m      3\u001b[0m \u001b[0mmy_set1\u001b[0m \u001b[1;33m=\u001b[0m \u001b[1;33m{\u001b[0m\u001b[1;36m1\u001b[0m\u001b[1;33m,\u001b[0m \u001b[1;36m2\u001b[0m\u001b[1;33m,\u001b[0m \u001b[1;33m[\u001b[0m\u001b[1;36m3\u001b[0m\u001b[1;33m,\u001b[0m \u001b[1;36m4\u001b[0m\u001b[1;33m]\u001b[0m\u001b[1;33m}\u001b[0m\u001b[1;33m\u001b[0m\u001b[1;33m\u001b[0m\u001b[0m\n\u001b[0;32m      4\u001b[0m \u001b[0mprint\u001b[0m\u001b[1;33m(\u001b[0m\u001b[0mmy_set1\u001b[0m\u001b[1;33m)\u001b[0m\u001b[1;33m\u001b[0m\u001b[1;33m\u001b[0m\u001b[0m\n\u001b[0;32m      5\u001b[0m \u001b[1;33m\u001b[0m\u001b[0m\n",
      "\u001b[1;31mTypeError\u001b[0m: unhashable type: 'set'"
     ]
    }
   ],
   "source": [
    "my_set = {1, 2, {3, 4}}\n",
    "print(my_set)\n",
    "my_set1 = {1, 2, [3, 4]}\n",
    "print(my_set1)\n",
    "\n",
    "# Inside a set a mutable data type such as dict and list cannot be added"
   ]
  },
  {
   "cell_type": "code",
   "execution_count": 69,
   "id": "9c1eac5c",
   "metadata": {},
   "outputs": [
    {
     "data": {
      "text/plain": [
       "{(3, 4), 1, 2, 5}"
      ]
     },
     "execution_count": 69,
     "metadata": {},
     "output_type": "execute_result"
    }
   ],
   "source": [
    "my_set.add(5)\n",
    "my_set\n",
    "# .add() method is used to add a single element"
   ]
  },
  {
   "cell_type": "code",
   "execution_count": 70,
   "id": "64adefae",
   "metadata": {},
   "outputs": [
    {
     "data": {
      "text/plain": [
       "{(3, 4), 1, 15, 16, 18, 2, 5}"
      ]
     },
     "execution_count": 70,
     "metadata": {},
     "output_type": "execute_result"
    }
   ],
   "source": [
    "my_set.update([15,16,18])\n",
    "my_set"
   ]
  },
  {
   "cell_type": "code",
   "execution_count": 71,
   "id": "a6eab06f",
   "metadata": {},
   "outputs": [
    {
     "data": {
      "text/plain": [
       "{(3, 4), 1, 15, 16, 18, 2, 21, 23, 25, 5}"
      ]
     },
     "execution_count": 71,
     "metadata": {},
     "output_type": "execute_result"
    }
   ],
   "source": [
    "my_set.update((25,23,21))\n",
    "my_set"
   ]
  },
  {
   "cell_type": "code",
   "execution_count": 72,
   "id": "5f7b025d",
   "metadata": {},
   "outputs": [],
   "source": [
    "# The update function will take both list and tuple as an argument\n",
    "#  And .update method is used to add multiple items to existing set"
   ]
  },
  {
   "cell_type": "code",
   "execution_count": 73,
   "id": "f25247f5",
   "metadata": {},
   "outputs": [
    {
     "name": "stdout",
     "output_type": "stream",
     "text": [
      "{1, 2, 5, (3, 4), 15, 16, 18, 21, 23, 25}\n",
      "{1, 2, 5, (3, 4), 15, 16, 18, 21, 23}\n"
     ]
    }
   ],
   "source": [
    "print(my_set)\n",
    "my_set.remove(25)\n",
    "print(my_set)\n",
    "# .remove method needs a mandatory argument in it \n",
    "#  .remove method need value to be entered which has to be deleted from the set "
   ]
  },
  {
   "cell_type": "code",
   "execution_count": 75,
   "id": "54490315",
   "metadata": {},
   "outputs": [
    {
     "data": {
      "text/plain": [
       "{10, 20, 30, 40, 50, 60}"
      ]
     },
     "execution_count": 75,
     "metadata": {},
     "output_type": "execute_result"
    }
   ],
   "source": [
    "s1={10,20,30,40}\n",
    "s2={30,40,50,60}\n",
    "s1.union(s2)"
   ]
  },
  {
   "cell_type": "code",
   "execution_count": 76,
   "id": "30a9d658",
   "metadata": {},
   "outputs": [
    {
     "data": {
      "text/plain": [
       "{30, 40}"
      ]
     },
     "execution_count": 76,
     "metadata": {},
     "output_type": "execute_result"
    }
   ],
   "source": [
    "s1.intersection(s2)"
   ]
  },
  {
   "cell_type": "code",
   "execution_count": 77,
   "id": "e6ce0122",
   "metadata": {},
   "outputs": [
    {
     "data": {
      "text/plain": [
       "{10, 20, 50, 60}"
      ]
     },
     "execution_count": 77,
     "metadata": {},
     "output_type": "execute_result"
    }
   ],
   "source": [
    "s1.symmetric_difference(s2)"
   ]
  },
  {
   "cell_type": "code",
   "execution_count": 78,
   "id": "9a15ad10",
   "metadata": {},
   "outputs": [
    {
     "data": {
      "text/plain": [
       "{10, 20}"
      ]
     },
     "execution_count": 78,
     "metadata": {},
     "output_type": "execute_result"
    }
   ],
   "source": [
    "s1.difference(s2)"
   ]
  },
  {
   "cell_type": "markdown",
   "id": "64d9e71c",
   "metadata": {},
   "source": [
    "# Dictionary"
   ]
  },
  {
   "cell_type": "code",
   "execution_count": 79,
   "id": "04fd1a90",
   "metadata": {},
   "outputs": [],
   "source": [
    "marvel_dict = {'Name':'Thor','Place':'Asgard','Weapon' : 'Hammer', 1:2, 3 : 'power', 'alibies' : ['Ironman','Captain America'], 'abc' : {1:2, 4:5}}"
   ]
  },
  {
   "cell_type": "code",
   "execution_count": 81,
   "id": "cd6ddd77",
   "metadata": {},
   "outputs": [
    {
     "data": {
      "text/plain": [
       "'Asgard'"
      ]
     },
     "execution_count": 81,
     "metadata": {},
     "output_type": "execute_result"
    }
   ],
   "source": [
    "marvel_dict[\"Place\"]"
   ]
  },
  {
   "cell_type": "code",
   "execution_count": 82,
   "id": "c6b0a353",
   "metadata": {},
   "outputs": [
    {
     "data": {
      "text/plain": [
       "dict"
      ]
     },
     "execution_count": 82,
     "metadata": {},
     "output_type": "execute_result"
    }
   ],
   "source": [
    "type(marvel_dict)"
   ]
  },
  {
   "cell_type": "code",
   "execution_count": 83,
   "id": "0a5f4f0e",
   "metadata": {},
   "outputs": [
    {
     "data": {
      "text/plain": [
       "'Thor'"
      ]
     },
     "execution_count": 83,
     "metadata": {},
     "output_type": "execute_result"
    }
   ],
   "source": [
    "marvel_dict[\"Name\"]"
   ]
  },
  {
   "cell_type": "code",
   "execution_count": 84,
   "id": "579d6d9d",
   "metadata": {},
   "outputs": [
    {
     "data": {
      "text/plain": [
       "'Hammer'"
      ]
     },
     "execution_count": 84,
     "metadata": {},
     "output_type": "execute_result"
    }
   ],
   "source": [
    "marvel_dict[\"Weapon\"]"
   ]
  },
  {
   "cell_type": "code",
   "execution_count": 86,
   "id": "993716e3",
   "metadata": {},
   "outputs": [
    {
     "data": {
      "text/plain": [
       "['Ironman', 'Captain America']"
      ]
     },
     "execution_count": 86,
     "metadata": {},
     "output_type": "execute_result"
    }
   ],
   "source": [
    "marvel_dict[\"alibies\"]"
   ]
  },
  {
   "cell_type": "code",
   "execution_count": 87,
   "id": "4e548d55",
   "metadata": {},
   "outputs": [
    {
     "data": {
      "text/plain": [
       "dict"
      ]
     },
     "execution_count": 87,
     "metadata": {},
     "output_type": "execute_result"
    }
   ],
   "source": [
    "type(marvel_dict['abc'])"
   ]
  },
  {
   "cell_type": "code",
   "execution_count": 88,
   "id": "63567eed",
   "metadata": {},
   "outputs": [
    {
     "data": {
      "text/plain": [
       "['Name', 'Place', 'Weapon', 1, 3, 'alibies', 'abc']"
      ]
     },
     "execution_count": 88,
     "metadata": {},
     "output_type": "execute_result"
    }
   ],
   "source": [
    "list(marvel_dict.keys())"
   ]
  },
  {
   "cell_type": "code",
   "execution_count": 89,
   "id": "506f76d4",
   "metadata": {},
   "outputs": [
    {
     "data": {
      "text/plain": [
       "['Thor',\n",
       " 'Asgard',\n",
       " 'Hammer',\n",
       " 2,\n",
       " 'power',\n",
       " ['Ironman', 'Captain America'],\n",
       " {1: 2, 4: 5}]"
      ]
     },
     "execution_count": 89,
     "metadata": {},
     "output_type": "execute_result"
    }
   ],
   "source": [
    "list(marvel_dict.values())"
   ]
  },
  {
   "cell_type": "code",
   "execution_count": 90,
   "id": "20fc196d",
   "metadata": {},
   "outputs": [
    {
     "data": {
      "text/plain": [
       "[('Name', 'Thor'),\n",
       " ('Place', 'Asgard'),\n",
       " ('Weapon', 'Hammer'),\n",
       " (1, 2),\n",
       " (3, 'power'),\n",
       " ('alibies', ['Ironman', 'Captain America']),\n",
       " ('abc', {1: 2, 4: 5})]"
      ]
     },
     "execution_count": 90,
     "metadata": {},
     "output_type": "execute_result"
    }
   ],
   "source": [
    "list(marvel_dict.items())"
   ]
  },
  {
   "cell_type": "code",
   "execution_count": 91,
   "id": "6ca2ad19",
   "metadata": {},
   "outputs": [
    {
     "data": {
      "text/plain": [
       "'Asgard'"
      ]
     },
     "execution_count": 91,
     "metadata": {},
     "output_type": "execute_result"
    }
   ],
   "source": [
    "    marvel_dict.get(\"Place\")"
   ]
  },
  {
   "cell_type": "code",
   "execution_count": 92,
   "id": "fde79ccf",
   "metadata": {},
   "outputs": [],
   "source": [
    "marvel_dict.get(\"Random\")\n",
    "# .get method is also used to access the values using the key"
   ]
  },
  {
   "cell_type": "code",
   "execution_count": 94,
   "id": "918335df",
   "metadata": {},
   "outputs": [
    {
     "data": {
      "text/plain": [
       "'Values not found'"
      ]
     },
     "execution_count": 94,
     "metadata": {},
     "output_type": "execute_result"
    }
   ],
   "source": [
    "marvel_dict.get(\"Random\",\"Values not found\")\n",
    "# .get method have a feature of returning the message we desire to print if the entered key is not found in dict"
   ]
  },
  {
   "cell_type": "code",
   "execution_count": 95,
   "id": "77ac29e4",
   "metadata": {},
   "outputs": [
    {
     "data": {
      "text/plain": [
       "{'Name': 'Thor',\n",
       " 'Place': 'Asgard',\n",
       " 'Weapon': 'Hammer',\n",
       " 1: 2,\n",
       " 3: 'power',\n",
       " 'alibies': ['Ironman', 'Captain America'],\n",
       " 'abc': {1: 2, 4: 5}}"
      ]
     },
     "execution_count": 95,
     "metadata": {},
     "output_type": "execute_result"
    }
   ],
   "source": [
    "marvel_dict"
   ]
  },
  {
   "cell_type": "code",
   "execution_count": 96,
   "id": "5e692890",
   "metadata": {},
   "outputs": [
    {
     "data": {
      "text/plain": [
       "'Thor'"
      ]
     },
     "execution_count": 96,
     "metadata": {},
     "output_type": "execute_result"
    }
   ],
   "source": [
    "marvel_dict.pop(\"Name\")"
   ]
  },
  {
   "cell_type": "code",
   "execution_count": 97,
   "id": "3ea7310c",
   "metadata": {},
   "outputs": [
    {
     "name": "stdout",
     "output_type": "stream",
     "text": [
      "{'Place': 'Asgard', 'Weapon': 'Hammer', 1: 2, 3: 'power', 'alibies': ['Ironman', 'Captain America'], 'abc': {1: 2, 4: 5}}\n"
     ]
    },
    {
     "data": {
      "text/plain": [
       "('abc', {1: 2, 4: 5})"
      ]
     },
     "execution_count": 97,
     "metadata": {},
     "output_type": "execute_result"
    }
   ],
   "source": [
    "print(marvel_dict)\n",
    "marvel_dict.popitem()"
   ]
  },
  {
   "cell_type": "code",
   "execution_count": 98,
   "id": "e551e88f",
   "metadata": {},
   "outputs": [],
   "source": [
    "name = [\"Manjeet\", \"Nikhil\", \"Shambhavi\"]\n",
    "marks = [40, 50, 60,80]"
   ]
  },
  {
   "cell_type": "code",
   "execution_count": 100,
   "id": "775980bd",
   "metadata": {},
   "outputs": [],
   "source": [
    "mapped=zip(name,marks)"
   ]
  },
  {
   "cell_type": "code",
   "execution_count": 101,
   "id": "74f83c62",
   "metadata": {},
   "outputs": [
    {
     "data": {
      "text/plain": [
       "<zip at 0x247b2f28d00>"
      ]
     },
     "execution_count": 101,
     "metadata": {},
     "output_type": "execute_result"
    }
   ],
   "source": [
    "mapped"
   ]
  },
  {
   "cell_type": "code",
   "execution_count": 102,
   "id": "606897aa",
   "metadata": {},
   "outputs": [
    {
     "data": {
      "text/plain": [
       "{'Manjeet': 40, 'Nikhil': 50, 'Shambhavi': 60}"
      ]
     },
     "execution_count": 102,
     "metadata": {},
     "output_type": "execute_result"
    }
   ],
   "source": [
    "dict(mapped)"
   ]
  },
  {
   "cell_type": "code",
   "execution_count": 103,
   "id": "0e39f81e",
   "metadata": {},
   "outputs": [
    {
     "data": {
      "text/plain": [
       "{'a': 12, (1, 2): 45}"
      ]
     },
     "execution_count": 103,
     "metadata": {},
     "output_type": "execute_result"
    }
   ],
   "source": [
    "a={\"a\":12,(1,2):45}\n",
    "a"
   ]
  },
  {
   "cell_type": "code",
   "execution_count": 105,
   "id": "3b990e8f",
   "metadata": {},
   "outputs": [
    {
     "data": {
      "text/plain": [
       "45"
      ]
     },
     "execution_count": 105,
     "metadata": {},
     "output_type": "execute_result"
    }
   ],
   "source": [
    "a[(1.,2)]\n",
    "# tuple can be made as a key of dictionary"
   ]
  },
  {
   "cell_type": "markdown",
   "id": "bf4d1a67",
   "metadata": {},
   "source": [
    "# Understanding difference between statements and expressions\n",
    "\n",
    "1. A statement is an instruction that python intrepreter can execute, We only have seen assignment statement so far \n",
    "2. Expressions need to be evaluated"
   ]
  },
  {
   "cell_type": "markdown",
   "id": "5b24f6e9",
   "metadata": {},
   "source": [
    "Instructions that a python intrepreter can execute is called statements"
   ]
  },
  {
   "cell_type": "code",
   "execution_count": 106,
   "id": "d205d017",
   "metadata": {},
   "outputs": [
    {
     "data": {
      "text/plain": [
       "'dfdfsfdaf dfadfdfsdf dsfsdf'"
      ]
     },
     "execution_count": 106,
     "metadata": {},
     "output_type": "execute_result"
    }
   ],
   "source": [
    "# extending assignment in multiple lines\n",
    "s=\"dfdfsfdaf \\\n",
    "dfadfdfsdf \\\n",
    "dsfsdf\"\n",
    "s"
   ]
  },
  {
   "cell_type": "code",
   "execution_count": 110,
   "id": "341ce45c",
   "metadata": {},
   "outputs": [],
   "source": [
    "a=[1,2,3],(5,7),{1,2,3},9"
   ]
  },
  {
   "cell_type": "code",
   "execution_count": 111,
   "id": "23462cdf",
   "metadata": {},
   "outputs": [
    {
     "data": {
      "text/plain": [
       "tuple"
      ]
     },
     "execution_count": 111,
     "metadata": {},
     "output_type": "execute_result"
    }
   ],
   "source": [
    "type(a)"
   ]
  },
  {
   "cell_type": "code",
   "execution_count": 112,
   "id": "ff65fd82",
   "metadata": {},
   "outputs": [
    {
     "data": {
      "text/plain": [
       "([1, 2, 3], (5, 7), {1, 2, 3}, 9)"
      ]
     },
     "execution_count": 112,
     "metadata": {},
     "output_type": "execute_result"
    }
   ],
   "source": [
    "a"
   ]
  },
  {
   "cell_type": "code",
   "execution_count": 117,
   "id": "eaa23190",
   "metadata": {},
   "outputs": [],
   "source": [
    "s={1,2,3,(1,2)}"
   ]
  },
  {
   "cell_type": "code",
   "execution_count": 118,
   "id": "78ad02a3",
   "metadata": {},
   "outputs": [
    {
     "data": {
      "text/plain": [
       "{(1, 2), 1, 2, 3}"
      ]
     },
     "execution_count": 118,
     "metadata": {},
     "output_type": "execute_result"
    }
   ],
   "source": [
    "s"
   ]
  },
  {
   "cell_type": "code",
   "execution_count": 119,
   "id": "30c4aa3c",
   "metadata": {},
   "outputs": [
    {
     "ename": "TypeError",
     "evalue": "unhashable type: 'list'",
     "output_type": "error",
     "traceback": [
      "\u001b[1;31m---------------------------------------------------------------------------\u001b[0m",
      "\u001b[1;31mTypeError\u001b[0m                                 Traceback (most recent call last)",
      "\u001b[1;32m<ipython-input-119-661d5c58e898>\u001b[0m in \u001b[0;36m<module>\u001b[1;34m\u001b[0m\n\u001b[1;32m----> 1\u001b[1;33m \u001b[0ms\u001b[0m\u001b[1;33m=\u001b[0m\u001b[1;33m{\u001b[0m\u001b[1;36m1\u001b[0m\u001b[1;33m,\u001b[0m\u001b[1;36m2\u001b[0m\u001b[1;33m,\u001b[0m\u001b[1;36m3\u001b[0m\u001b[1;33m,\u001b[0m\u001b[1;33m[\u001b[0m\u001b[1;36m1\u001b[0m\u001b[1;33m,\u001b[0m\u001b[1;36m2\u001b[0m\u001b[1;33m]\u001b[0m\u001b[1;33m}\u001b[0m\u001b[1;33m\u001b[0m\u001b[1;33m\u001b[0m\u001b[0m\n\u001b[0m",
      "\u001b[1;31mTypeError\u001b[0m: unhashable type: 'list'"
     ]
    }
   ],
   "source": [
    "s={1,2,3,[1,2]}"
   ]
  },
  {
   "cell_type": "code",
   "execution_count": 120,
   "id": "26a8499b",
   "metadata": {},
   "outputs": [
    {
     "ename": "TypeError",
     "evalue": "unhashable type: 'set'",
     "output_type": "error",
     "traceback": [
      "\u001b[1;31m---------------------------------------------------------------------------\u001b[0m",
      "\u001b[1;31mTypeError\u001b[0m                                 Traceback (most recent call last)",
      "\u001b[1;32m<ipython-input-120-992f28669bcb>\u001b[0m in \u001b[0;36m<module>\u001b[1;34m\u001b[0m\n\u001b[1;32m----> 1\u001b[1;33m \u001b[0ms\u001b[0m\u001b[1;33m=\u001b[0m\u001b[1;33m{\u001b[0m\u001b[1;36m1\u001b[0m\u001b[1;33m,\u001b[0m\u001b[1;36m2\u001b[0m\u001b[1;33m,\u001b[0m\u001b[1;36m3\u001b[0m\u001b[1;33m,\u001b[0m\u001b[1;33m{\u001b[0m\u001b[1;36m1\u001b[0m\u001b[1;33m,\u001b[0m\u001b[1;36m2\u001b[0m\u001b[1;33m}\u001b[0m\u001b[1;33m}\u001b[0m\u001b[1;33m\u001b[0m\u001b[1;33m\u001b[0m\u001b[0m\n\u001b[0m",
      "\u001b[1;31mTypeError\u001b[0m: unhashable type: 'set'"
     ]
    }
   ],
   "source": [
    "s={1,2,3,{1,2}}"
   ]
  },
  {
   "cell_type": "code",
   "execution_count": 127,
   "id": "33aab4d4",
   "metadata": {},
   "outputs": [
    {
     "name": "stdout",
     "output_type": "stream",
     "text": [
      "Boom\n"
     ]
    }
   ],
   "source": [
    "if None:\n",
    "    print(\"Hey this is Milan\")\n",
    "else:\n",
    "    print(\"Boom\")"
   ]
  },
  {
   "cell_type": "code",
   "execution_count": 128,
   "id": "10ea46ef",
   "metadata": {},
   "outputs": [
    {
     "data": {
      "text/plain": [
       "{'a', 'b', 'c'}"
      ]
     },
     "execution_count": 128,
     "metadata": {},
     "output_type": "execute_result"
    }
   ],
   "source": [
    "z=set(\"abc\")\n",
    "z"
   ]
  },
  {
   "cell_type": "code",
   "execution_count": null,
   "id": "b6e2b2b2",
   "metadata": {},
   "outputs": [],
   "source": []
  }
 ],
 "metadata": {
  "kernelspec": {
   "display_name": "Python 3",
   "language": "python",
   "name": "python3"
  },
  "language_info": {
   "codemirror_mode": {
    "name": "ipython",
    "version": 3
   },
   "file_extension": ".py",
   "mimetype": "text/x-python",
   "name": "python",
   "nbconvert_exporter": "python",
   "pygments_lexer": "ipython3",
   "version": "3.8.8"
  },
  "nbTranslate": {
   "displayLangs": [
    "*"
   ],
   "hotkey": "alt-t",
   "langInMainMenu": true,
   "sourceLang": "en",
   "targetLang": "fr",
   "useGoogleTranslate": true
  },
  "varInspector": {
   "cols": {
    "lenName": 16,
    "lenType": 16,
    "lenVar": 40
   },
   "kernels_config": {
    "python": {
     "delete_cmd_postfix": "",
     "delete_cmd_prefix": "del ",
     "library": "var_list.py",
     "varRefreshCmd": "print(var_dic_list())"
    },
    "r": {
     "delete_cmd_postfix": ") ",
     "delete_cmd_prefix": "rm(",
     "library": "var_list.r",
     "varRefreshCmd": "cat(var_dic_list()) "
    }
   },
   "types_to_exclude": [
    "module",
    "function",
    "builtin_function_or_method",
    "instance",
    "_Feature"
   ],
   "window_display": false
  }
 },
 "nbformat": 4,
 "nbformat_minor": 5
}
