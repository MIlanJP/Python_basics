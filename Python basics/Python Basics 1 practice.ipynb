{
 "cells": [
  {
   "cell_type": "markdown",
   "id": "bc2767c5",
   "metadata": {},
   "source": [
    "# Identifier\n",
    "\n",
    "A name in python program is called identifiers\n",
    "\n",
    "We give name to methods functions class variables module name"
   ]
  },
  {
   "cell_type": "code",
   "execution_count": 1,
   "id": "c7d9db96",
   "metadata": {},
   "outputs": [],
   "source": [
    "a=10\n",
    "# THis is allowed"
   ]
  },
  {
   "cell_type": "code",
   "execution_count": 2,
   "id": "99c0677f",
   "metadata": {},
   "outputs": [
    {
     "ename": "SyntaxError",
     "evalue": "invalid syntax (<ipython-input-2-690f2e776a9a>, line 1)",
     "output_type": "error",
     "traceback": [
      "\u001b[1;36m  File \u001b[1;32m\"<ipython-input-2-690f2e776a9a>\"\u001b[1;36m, line \u001b[1;32m1\u001b[0m\n\u001b[1;33m    1b=12\u001b[0m\n\u001b[1;37m     ^\u001b[0m\n\u001b[1;31mSyntaxError\u001b[0m\u001b[1;31m:\u001b[0m invalid syntax\n"
     ]
    }
   ],
   "source": [
    "1b=12\n",
    "# This is not allowed"
   ]
  },
  {
   "cell_type": "code",
   "execution_count": 6,
   "id": "c4067ac5",
   "metadata": {},
   "outputs": [],
   "source": [
    "namw2=1\n",
    "n2ame=5\n",
    "_name=5\n",
    "Name=0"
   ]
  },
  {
   "cell_type": "code",
   "execution_count": 7,
   "id": "d882a9a3",
   "metadata": {},
   "outputs": [
    {
     "ename": "SyntaxError",
     "evalue": "invalid syntax (<ipython-input-7-3988ff64e86a>, line 1)",
     "output_type": "error",
     "traceback": [
      "\u001b[1;36m  File \u001b[1;32m\"<ipython-input-7-3988ff64e86a>\"\u001b[1;36m, line \u001b[1;32m1\u001b[0m\n\u001b[1;33m    n$ame=45\u001b[0m\n\u001b[1;37m     ^\u001b[0m\n\u001b[1;31mSyntaxError\u001b[0m\u001b[1;31m:\u001b[0m invalid syntax\n"
     ]
    }
   ],
   "source": [
    "n$ame=45"
   ]
  },
  {
   "cell_type": "code",
   "execution_count": 8,
   "id": "b1334b3e",
   "metadata": {},
   "outputs": [],
   "source": [
    "# identifier can start from underscore and alphabets\n",
    "# special like only underscore is allowed rather than that no other specail charactes is allowed"
   ]
  },
  {
   "cell_type": "code",
   "execution_count": null,
   "id": "6fb2986e",
   "metadata": {},
   "outputs": [],
   "source": []
  }
 ],
 "metadata": {
  "kernelspec": {
   "display_name": "Python 3",
   "language": "python",
   "name": "python3"
  },
  "language_info": {
   "codemirror_mode": {
    "name": "ipython",
    "version": 3
   },
   "file_extension": ".py",
   "mimetype": "text/x-python",
   "name": "python",
   "nbconvert_exporter": "python",
   "pygments_lexer": "ipython3",
   "version": "3.8.8"
  },
  "nbTranslate": {
   "displayLangs": [
    "*"
   ],
   "hotkey": "alt-t",
   "langInMainMenu": true,
   "sourceLang": "en",
   "targetLang": "fr",
   "useGoogleTranslate": true
  },
  "varInspector": {
   "cols": {
    "lenName": 16,
    "lenType": 16,
    "lenVar": 40
   },
   "kernels_config": {
    "python": {
     "delete_cmd_postfix": "",
     "delete_cmd_prefix": "del ",
     "library": "var_list.py",
     "varRefreshCmd": "print(var_dic_list())"
    },
    "r": {
     "delete_cmd_postfix": ") ",
     "delete_cmd_prefix": "rm(",
     "library": "var_list.r",
     "varRefreshCmd": "cat(var_dic_list()) "
    }
   },
   "types_to_exclude": [
    "module",
    "function",
    "builtin_function_or_method",
    "instance",
    "_Feature"
   ],
   "window_display": false
  }
 },
 "nbformat": 4,
 "nbformat_minor": 5
}
