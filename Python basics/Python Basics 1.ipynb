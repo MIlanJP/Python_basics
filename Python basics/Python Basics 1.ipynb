{
 "cells": [
  {
   "cell_type": "markdown",
   "id": "24e46924",
   "metadata": {},
   "source": [
    "# Identifiers"
   ]
  },
  {
   "cell_type": "markdown",
   "id": "65b7b2f5",
   "metadata": {},
   "source": [
    "## A name in python program is called identifiers \n",
    "## It can be the name of the class method function or variables or module name"
   ]
  },
  {
   "cell_type": "code",
   "execution_count": 1,
   "id": "4fad2692",
   "metadata": {},
   "outputs": [],
   "source": [
    "a=10"
   ]
  },
  {
   "cell_type": "markdown",
   "id": "9b229ced",
   "metadata": {},
   "source": [
    "Rules to define identifiers in Python:\n",
    "\n",
    " 0-9 a-z A-Z and _ are only allowed in python to use as identifiers"
   ]
  },
  {
   "cell_type": "code",
   "execution_count": 3,
   "id": "a7481c98",
   "metadata": {},
   "outputs": [
    {
     "ename": "SyntaxError",
     "evalue": "cannot assign to operator (<ipython-input-3-5f78960999c4>, line 2)",
     "output_type": "error",
     "traceback": [
      "\u001b[1;36m  File \u001b[1;32m\"<ipython-input-3-5f78960999c4>\"\u001b[1;36m, line \u001b[1;32m2\u001b[0m\n\u001b[1;33m    cas&g=10 #In this line we get error because we used $ symbol which is not be used as identifiers\u001b[0m\n\u001b[1;37m    ^\u001b[0m\n\u001b[1;31mSyntaxError\u001b[0m\u001b[1;31m:\u001b[0m cannot assign to operator\n"
     ]
    }
   ],
   "source": [
    "cash=10\n",
    "cas&g=10 #In this line we get error because we used $ symbol which is not be used as identifiers"
   ]
  },
  {
   "cell_type": "markdown",
   "id": "a165f92c",
   "metadata": {},
   "source": [
    "Rule 2 we cant use numbers at the starting of the identifier\n",
    "23name=\"Milan\" this is not allowed because there is a number at starting\n"
   ]
  },
  {
   "cell_type": "code",
   "execution_count": 1,
   "id": "0467be9c",
   "metadata": {},
   "outputs": [
    {
     "data": {
      "text/plain": [
       "'d'"
      ]
     },
     "execution_count": 1,
     "metadata": {},
     "output_type": "execute_result"
    }
   ],
   "source": [
    "s=\"durga\"\n",
    "s[0]"
   ]
  },
  {
   "cell_type": "code",
   "execution_count": 2,
   "id": "d38629c2",
   "metadata": {},
   "outputs": [
    {
     "data": {
      "text/plain": [
       "'u'"
      ]
     },
     "execution_count": 2,
     "metadata": {},
     "output_type": "execute_result"
    }
   ],
   "source": [
    "s[1]"
   ]
  },
  {
   "cell_type": "code",
   "execution_count": 3,
   "id": "ed2def7a",
   "metadata": {},
   "outputs": [
    {
     "data": {
      "text/plain": [
       "'a'"
      ]
     },
     "execution_count": 3,
     "metadata": {},
     "output_type": "execute_result"
    }
   ],
   "source": [
    "s[-1]"
   ]
  },
  {
   "cell_type": "code",
   "execution_count": 4,
   "id": "ca419e3e",
   "metadata": {},
   "outputs": [
    {
     "ename": "IndexError",
     "evalue": "string index out of range",
     "output_type": "error",
     "traceback": [
      "\u001b[1;31m---------------------------------------------------------------------------\u001b[0m",
      "\u001b[1;31mIndexError\u001b[0m                                Traceback (most recent call last)",
      "\u001b[1;32m<ipython-input-4-781c2c553580>\u001b[0m in \u001b[0;36m<module>\u001b[1;34m\u001b[0m\n\u001b[1;32m----> 1\u001b[1;33m \u001b[0ms\u001b[0m\u001b[1;33m[\u001b[0m\u001b[1;36m40\u001b[0m\u001b[1;33m]\u001b[0m \u001b[1;31m# your getting error because the index is out of range\u001b[0m\u001b[1;33m\u001b[0m\u001b[1;33m\u001b[0m\u001b[0m\n\u001b[0m",
      "\u001b[1;31mIndexError\u001b[0m: string index out of range"
     ]
    }
   ],
   "source": [
    "s[40] # your getting error because the index is out of range"
   ]
  },
  {
   "cell_type": "code",
   "execution_count": 5,
   "id": "c4dee4d5",
   "metadata": {},
   "outputs": [
    {
     "data": {
      "text/plain": [
       "'urga'"
      ]
     },
     "execution_count": 5,
     "metadata": {},
     "output_type": "execute_result"
    }
   ],
   "source": [
    "s[1:40] # how much ever number you give it only prints upto the end"
   ]
  },
  {
   "cell_type": "code",
   "execution_count": 6,
   "id": "ca9360af",
   "metadata": {},
   "outputs": [
    {
     "data": {
      "text/plain": [
       "'durgadurgadurga'"
      ]
     },
     "execution_count": 6,
     "metadata": {},
     "output_type": "execute_result"
    }
   ],
   "source": [
    "s*3"
   ]
  },
  {
   "cell_type": "code",
   "execution_count": 7,
   "id": "8d36ef8d",
   "metadata": {},
   "outputs": [
    {
     "data": {
      "text/plain": [
       "str"
      ]
     },
     "execution_count": 7,
     "metadata": {},
     "output_type": "execute_result"
    }
   ],
   "source": [
    "c='s'\n",
    "type(c)\n",
    "#In python there is nothing like char data type like in java it taken as string"
   ]
  },
  {
   "cell_type": "code",
   "execution_count": 8,
   "id": "4459b1b5",
   "metadata": {},
   "outputs": [],
   "source": [
    "#Long data type was available in 2.0 BUt in 3.0 Int is taking care of it"
   ]
  },
  {
   "cell_type": "markdown",
   "id": "86abbd06",
   "metadata": {},
   "source": [
    "# Type casting"
   ]
  },
  {
   "cell_type": "markdown",
   "id": "6e530202",
   "metadata": {},
   "source": [
    "We can convert any other type into any data type\n",
    "functions used for type casting\n",
    "\n",
    "int()\n",
    "float()\n",
    "str()\n",
    "complex()\n",
    "bool()"
   ]
  },
  {
   "cell_type": "code",
   "execution_count": 9,
   "id": "631509ac",
   "metadata": {},
   "outputs": [
    {
     "data": {
      "text/plain": [
       "12"
      ]
     },
     "execution_count": 9,
     "metadata": {},
     "output_type": "execute_result"
    }
   ],
   "source": [
    "int(12.34)"
   ]
  },
  {
   "cell_type": "code",
   "execution_count": 10,
   "id": "99aec0ed",
   "metadata": {},
   "outputs": [
    {
     "data": {
      "text/plain": [
       "1"
      ]
     },
     "execution_count": 10,
     "metadata": {},
     "output_type": "execute_result"
    }
   ],
   "source": [
    "int(True)"
   ]
  },
  {
   "cell_type": "code",
   "execution_count": 11,
   "id": "aab6f37e",
   "metadata": {},
   "outputs": [
    {
     "data": {
      "text/plain": [
       "0"
      ]
     },
     "execution_count": 11,
     "metadata": {},
     "output_type": "execute_result"
    }
   ],
   "source": [
    "int(False)"
   ]
  },
  {
   "cell_type": "code",
   "execution_count": 12,
   "id": "8429bfe8",
   "metadata": {},
   "outputs": [
    {
     "data": {
      "text/plain": [
       "10"
      ]
     },
     "execution_count": 12,
     "metadata": {},
     "output_type": "execute_result"
    }
   ],
   "source": [
    "int(\"10\")"
   ]
  },
  {
   "cell_type": "code",
   "execution_count": 13,
   "id": "bc3bd74f",
   "metadata": {},
   "outputs": [
    {
     "ename": "ValueError",
     "evalue": "invalid literal for int() with base 10: '10.5'",
     "output_type": "error",
     "traceback": [
      "\u001b[1;31m---------------------------------------------------------------------------\u001b[0m",
      "\u001b[1;31mValueError\u001b[0m                                Traceback (most recent call last)",
      "\u001b[1;32m<ipython-input-13-ebe300400c86>\u001b[0m in \u001b[0;36m<module>\u001b[1;34m\u001b[0m\n\u001b[1;32m----> 1\u001b[1;33m \u001b[0mint\u001b[0m\u001b[1;33m(\u001b[0m\u001b[1;34m\"10.5\"\u001b[0m\u001b[1;33m)\u001b[0m \u001b[1;31m# You need to enter only Numbers instead of float\u001b[0m\u001b[1;33m\u001b[0m\u001b[1;33m\u001b[0m\u001b[0m\n\u001b[0m",
      "\u001b[1;31mValueError\u001b[0m: invalid literal for int() with base 10: '10.5'"
     ]
    }
   ],
   "source": [
    "int(\"10.5\") # You need to enter only Numbers instead of float"
   ]
  },
  {
   "cell_type": "code",
   "execution_count": 14,
   "id": "756b5c39",
   "metadata": {},
   "outputs": [
    {
     "ename": "ValueError",
     "evalue": "invalid literal for int() with base 10: 'ten'",
     "output_type": "error",
     "traceback": [
      "\u001b[1;31m---------------------------------------------------------------------------\u001b[0m",
      "\u001b[1;31mValueError\u001b[0m                                Traceback (most recent call last)",
      "\u001b[1;32m<ipython-input-14-846b3cf4a083>\u001b[0m in \u001b[0;36m<module>\u001b[1;34m\u001b[0m\n\u001b[1;32m----> 1\u001b[1;33m \u001b[0mint\u001b[0m\u001b[1;33m(\u001b[0m\u001b[1;34m\"ten\"\u001b[0m\u001b[1;33m)\u001b[0m\u001b[1;33m\u001b[0m\u001b[1;33m\u001b[0m\u001b[0m\n\u001b[0m",
      "\u001b[1;31mValueError\u001b[0m: invalid literal for int() with base 10: 'ten'"
     ]
    }
   ],
   "source": [
    "int(\"ten\")"
   ]
  },
  {
   "cell_type": "code",
   "execution_count": 15,
   "id": "f191faca",
   "metadata": {},
   "outputs": [
    {
     "data": {
      "text/plain": [
       "10.0"
      ]
     },
     "execution_count": 15,
     "metadata": {},
     "output_type": "execute_result"
    }
   ],
   "source": [
    "float(10)"
   ]
  },
  {
   "cell_type": "code",
   "execution_count": 16,
   "id": "61b8caf1",
   "metadata": {},
   "outputs": [
    {
     "ename": "TypeError",
     "evalue": "can't convert complex to float",
     "output_type": "error",
     "traceback": [
      "\u001b[1;31m---------------------------------------------------------------------------\u001b[0m",
      "\u001b[1;31mTypeError\u001b[0m                                 Traceback (most recent call last)",
      "\u001b[1;32m<ipython-input-16-67ae6a6ef949>\u001b[0m in \u001b[0;36m<module>\u001b[1;34m\u001b[0m\n\u001b[1;32m----> 1\u001b[1;33m \u001b[0mfloat\u001b[0m\u001b[1;33m(\u001b[0m\u001b[1;36m10\u001b[0m\u001b[1;33m+\u001b[0m\u001b[1;36m5j\u001b[0m\u001b[1;33m)\u001b[0m\u001b[1;33m\u001b[0m\u001b[1;33m\u001b[0m\u001b[0m\n\u001b[0m\u001b[0;32m      2\u001b[0m \u001b[1;31m#Cant convert complex into float or int\u001b[0m\u001b[1;33m\u001b[0m\u001b[1;33m\u001b[0m\u001b[1;33m\u001b[0m\u001b[0m\n",
      "\u001b[1;31mTypeError\u001b[0m: can't convert complex to float"
     ]
    }
   ],
   "source": [
    "float(10+5j)\n",
    "#Cant convert complex into float or int"
   ]
  },
  {
   "cell_type": "code",
   "execution_count": 17,
   "id": "7cc4dedd",
   "metadata": {},
   "outputs": [
    {
     "data": {
      "text/plain": [
       "1.0"
      ]
     },
     "execution_count": 17,
     "metadata": {},
     "output_type": "execute_result"
    }
   ],
   "source": [
    "float(True)"
   ]
  },
  {
   "cell_type": "code",
   "execution_count": 18,
   "id": "4100570d",
   "metadata": {},
   "outputs": [
    {
     "data": {
      "text/plain": [
       "0.0"
      ]
     },
     "execution_count": 18,
     "metadata": {},
     "output_type": "execute_result"
    }
   ],
   "source": [
    "float(False)"
   ]
  },
  {
   "cell_type": "markdown",
   "id": "c4718e69",
   "metadata": {},
   "source": [
    "# Complex\n",
    "\n",
    "Its  possible to type cast from int and float to complex number But not possible to convert a complex number to int or flaot"
   ]
  },
  {
   "cell_type": "code",
   "execution_count": 19,
   "id": "87cd23bc",
   "metadata": {},
   "outputs": [
    {
     "data": {
      "text/plain": [
       "(10+0j)"
      ]
     },
     "execution_count": 19,
     "metadata": {},
     "output_type": "execute_result"
    }
   ],
   "source": [
    "complex(10)"
   ]
  },
  {
   "cell_type": "code",
   "execution_count": 27,
   "id": "06666e71",
   "metadata": {},
   "outputs": [
    {
     "data": {
      "text/plain": [
       "(10.5+0j)"
      ]
     },
     "execution_count": 27,
     "metadata": {},
     "output_type": "execute_result"
    }
   ],
   "source": [
    "complex(10.5)"
   ]
  },
  {
   "cell_type": "code",
   "execution_count": 28,
   "id": "cce1e9f7",
   "metadata": {},
   "outputs": [
    {
     "data": {
      "text/plain": [
       "(1+0j)"
      ]
     },
     "execution_count": 28,
     "metadata": {},
     "output_type": "execute_result"
    }
   ],
   "source": [
    "complex(True)"
   ]
  },
  {
   "cell_type": "code",
   "execution_count": 29,
   "id": "b74833fb",
   "metadata": {},
   "outputs": [
    {
     "data": {
      "text/plain": [
       "0j"
      ]
     },
     "execution_count": 29,
     "metadata": {},
     "output_type": "execute_result"
    }
   ],
   "source": [
    "complex(False)"
   ]
  },
  {
   "cell_type": "code",
   "execution_count": 30,
   "id": "3e9174a2",
   "metadata": {},
   "outputs": [
    {
     "data": {
      "text/plain": [
       "(10+0j)"
      ]
     },
     "execution_count": 30,
     "metadata": {},
     "output_type": "execute_result"
    }
   ],
   "source": [
    "complex(\"10\")"
   ]
  },
  {
   "cell_type": "code",
   "execution_count": 31,
   "id": "57bafdbf",
   "metadata": {},
   "outputs": [
    {
     "data": {
      "text/plain": [
       "(10.5+0j)"
      ]
     },
     "execution_count": 31,
     "metadata": {},
     "output_type": "execute_result"
    }
   ],
   "source": [
    "complex(\"10.5\")"
   ]
  },
  {
   "cell_type": "code",
   "execution_count": 32,
   "id": "79b4e8e3",
   "metadata": {},
   "outputs": [
    {
     "ename": "ValueError",
     "evalue": "complex() arg is a malformed string",
     "output_type": "error",
     "traceback": [
      "\u001b[1;31m---------------------------------------------------------------------------\u001b[0m",
      "\u001b[1;31mValueError\u001b[0m                                Traceback (most recent call last)",
      "\u001b[1;32m<ipython-input-32-b7bf9859d3d9>\u001b[0m in \u001b[0;36m<module>\u001b[1;34m\u001b[0m\n\u001b[1;32m----> 1\u001b[1;33m \u001b[0mcomplex\u001b[0m\u001b[1;33m(\u001b[0m\u001b[1;34m\"ten\"\u001b[0m\u001b[1;33m)\u001b[0m\u001b[1;33m\u001b[0m\u001b[1;33m\u001b[0m\u001b[0m\n\u001b[0m",
      "\u001b[1;31mValueError\u001b[0m: complex() arg is a malformed string"
     ]
    }
   ],
   "source": [
    "complex(\"ten\")"
   ]
  },
  {
   "cell_type": "code",
   "execution_count": 33,
   "id": "5e8902c9",
   "metadata": {},
   "outputs": [
    {
     "data": {
      "text/plain": [
       "(10-2j)"
      ]
     },
     "execution_count": 33,
     "metadata": {},
     "output_type": "execute_result"
    }
   ],
   "source": [
    "complex(10,-2)"
   ]
  },
  {
   "cell_type": "code",
   "execution_count": 35,
   "id": "01266532",
   "metadata": {},
   "outputs": [
    {
     "data": {
      "text/plain": [
       "(1+0j)"
      ]
     },
     "execution_count": 35,
     "metadata": {},
     "output_type": "execute_result"
    }
   ],
   "source": [
    "complex(True,False)"
   ]
  },
  {
   "cell_type": "markdown",
   "id": "3ecb1520",
   "metadata": {},
   "source": [
    "# Boolean"
   ]
  },
  {
   "cell_type": "code",
   "execution_count": 20,
   "id": "a51aeff1",
   "metadata": {},
   "outputs": [
    {
     "data": {
      "text/plain": [
       "False"
      ]
     },
     "execution_count": 20,
     "metadata": {},
     "output_type": "execute_result"
    }
   ],
   "source": [
    "bool(0)"
   ]
  },
  {
   "cell_type": "code",
   "execution_count": 21,
   "id": "e4655afa",
   "metadata": {},
   "outputs": [
    {
     "data": {
      "text/plain": [
       "True"
      ]
     },
     "execution_count": 21,
     "metadata": {},
     "output_type": "execute_result"
    }
   ],
   "source": [
    "bool(1)"
   ]
  },
  {
   "cell_type": "code",
   "execution_count": 22,
   "id": "ad5299a2",
   "metadata": {},
   "outputs": [
    {
     "data": {
      "text/plain": [
       "True"
      ]
     },
     "execution_count": 22,
     "metadata": {},
     "output_type": "execute_result"
    }
   ],
   "source": [
    "bool(10)"
   ]
  },
  {
   "cell_type": "code",
   "execution_count": 23,
   "id": "01b561e7",
   "metadata": {},
   "outputs": [
    {
     "data": {
      "text/plain": [
       "True"
      ]
     },
     "execution_count": 23,
     "metadata": {},
     "output_type": "execute_result"
    }
   ],
   "source": [
    "bool(10.5)"
   ]
  },
  {
   "cell_type": "code",
   "execution_count": 24,
   "id": "fea67931",
   "metadata": {},
   "outputs": [
    {
     "data": {
      "text/plain": [
       "True"
      ]
     },
     "execution_count": 24,
     "metadata": {},
     "output_type": "execute_result"
    }
   ],
   "source": [
    "bool(.015)"
   ]
  },
  {
   "cell_type": "code",
   "execution_count": 25,
   "id": "899191ba",
   "metadata": {},
   "outputs": [
    {
     "data": {
      "text/plain": [
       "False"
      ]
     },
     "execution_count": 25,
     "metadata": {},
     "output_type": "execute_result"
    }
   ],
   "source": [
    "bool(0.0)"
   ]
  },
  {
   "cell_type": "code",
   "execution_count": 26,
   "id": "8eea68c6",
   "metadata": {},
   "outputs": [
    {
     "data": {
      "text/plain": [
       "True"
      ]
     },
     "execution_count": 26,
     "metadata": {},
     "output_type": "execute_result"
    }
   ],
   "source": [
    "bool(4+0j)"
   ]
  },
  {
   "cell_type": "code",
   "execution_count": 27,
   "id": "32ca98f4",
   "metadata": {},
   "outputs": [
    {
     "data": {
      "text/plain": [
       "True"
      ]
     },
     "execution_count": 27,
     "metadata": {},
     "output_type": "execute_result"
    }
   ],
   "source": [
    "bool(0+5j)"
   ]
  },
  {
   "cell_type": "code",
   "execution_count": 28,
   "id": "7ae2bb5d",
   "metadata": {},
   "outputs": [
    {
     "data": {
      "text/plain": [
       "True"
      ]
     },
     "execution_count": 28,
     "metadata": {},
     "output_type": "execute_result"
    }
   ],
   "source": [
    "bool(\"True\")"
   ]
  },
  {
   "cell_type": "code",
   "execution_count": 29,
   "id": "ab1a29c5",
   "metadata": {},
   "outputs": [
    {
     "data": {
      "text/plain": [
       "True"
      ]
     },
     "execution_count": 29,
     "metadata": {},
     "output_type": "execute_result"
    }
   ],
   "source": [
    "bool(\"False\")"
   ]
  },
  {
   "cell_type": "code",
   "execution_count": 30,
   "id": "87b14fe5",
   "metadata": {},
   "outputs": [
    {
     "data": {
      "text/plain": [
       "False"
      ]
     },
     "execution_count": 30,
     "metadata": {},
     "output_type": "execute_result"
    }
   ],
   "source": [
    "bool(\"\")"
   ]
  },
  {
   "cell_type": "markdown",
   "id": "9ab506a5",
   "metadata": {},
   "source": [
    "# String type casting"
   ]
  },
  {
   "cell_type": "code",
   "execution_count": 31,
   "id": "4d984ddd",
   "metadata": {},
   "outputs": [
    {
     "data": {
      "text/plain": [
       "'10'"
      ]
     },
     "execution_count": 31,
     "metadata": {},
     "output_type": "execute_result"
    }
   ],
   "source": [
    "str(10)"
   ]
  },
  {
   "cell_type": "code",
   "execution_count": 32,
   "id": "983bbf44",
   "metadata": {},
   "outputs": [
    {
     "data": {
      "text/plain": [
       "'10.5'"
      ]
     },
     "execution_count": 32,
     "metadata": {},
     "output_type": "execute_result"
    }
   ],
   "source": [
    "str(10.5)"
   ]
  },
  {
   "cell_type": "code",
   "execution_count": 33,
   "id": "1a4d3870",
   "metadata": {},
   "outputs": [
    {
     "data": {
      "text/plain": [
       "'(10+8j)'"
      ]
     },
     "execution_count": 33,
     "metadata": {},
     "output_type": "execute_result"
    }
   ],
   "source": [
    "str(10+ 8j)"
   ]
  },
  {
   "cell_type": "code",
   "execution_count": 34,
   "id": "9ae48a15",
   "metadata": {},
   "outputs": [
    {
     "data": {
      "text/plain": [
       "'True'"
      ]
     },
     "execution_count": 34,
     "metadata": {},
     "output_type": "execute_result"
    }
   ],
   "source": [
    "str(True)"
   ]
  },
  {
   "cell_type": "markdown",
   "id": "013a935e",
   "metadata": {},
   "source": [
    "# Fundamental data types vs Immutability "
   ]
  },
  {
   "cell_type": "markdown",
   "id": "942ed570",
   "metadata": {},
   "source": [
    " All Fundamental Data types are immutable. i.e once we creates an object,we cannot\n",
    "perform any changes in that object. If we are trying to change then with those changes a\n",
    "new object will be created. This non-chageable behaviour is called immutability"
   ]
  },
  {
   "cell_type": "code",
   "execution_count": 35,
   "id": "a3774b76",
   "metadata": {},
   "outputs": [
    {
     "name": "stdout",
     "output_type": "stream",
     "text": [
      "140716882077776\n",
      "140716882077776\n"
     ]
    },
    {
     "data": {
      "text/plain": [
       "True"
      ]
     },
     "execution_count": 35,
     "metadata": {},
     "output_type": "execute_result"
    }
   ],
   "source": [
    "a=10\n",
    "b=10\n",
    "print(id(a))\n",
    "print(id(b))\n",
    "# Both have same content so we are accessing that content from same address\n",
    "a is b "
   ]
  },
  {
   "cell_type": "code",
   "execution_count": 36,
   "id": "9e1c04aa",
   "metadata": {},
   "outputs": [
    {
     "name": "stdout",
     "output_type": "stream",
     "text": [
      "False\n",
      "1783969921616\n",
      "1783969921264\n"
     ]
    }
   ],
   "source": [
    "a=10+5j\n",
    "b=10+5j\n",
    "print(a is b)\n",
    "print(id(a))\n",
    "print(id(b))"
   ]
  },
  {
   "cell_type": "code",
   "execution_count": 37,
   "id": "ca3588e4",
   "metadata": {},
   "outputs": [
    {
     "name": "stdout",
     "output_type": "stream",
     "text": [
      "140716881794896 140716881794896 True\n"
     ]
    }
   ],
   "source": [
    "a=True\n",
    "b=True\n",
    "print(id(a),id(b),a is b)"
   ]
  },
  {
   "cell_type": "code",
   "execution_count": 38,
   "id": "0bc77930",
   "metadata": {},
   "outputs": [
    {
     "name": "stdout",
     "output_type": "stream",
     "text": [
      "1783969151792 1783969151792 True\n"
     ]
    }
   ],
   "source": [
    "a=\"Milan\"\n",
    "b=\"Milan\"\n",
    "print(id(a),id(b),a is b)"
   ]
  },
  {
   "cell_type": "markdown",
   "id": "62b18aa9",
   "metadata": {},
   "source": [
    "# Byte data type"
   ]
  },
  {
   "cell_type": "code",
   "execution_count": 40,
   "id": "c71919c7",
   "metadata": {},
   "outputs": [
    {
     "name": "stdout",
     "output_type": "stream",
     "text": [
      "<class 'bytes'>\n",
      "10\n",
      "20\n",
      "10\n",
      "20\n",
      "30\n",
      "40\n"
     ]
    }
   ],
   "source": [
    "x=[10,20,30,40]\n",
    "b=bytes(x)\n",
    "print(type(b))\n",
    "print(b[0])\n",
    "print(b[1])\n",
    "for i in b : print(i)\n",
    "# the only limit is upto  0 to 256 \n",
    "# if your taking number more then that you will get a value error"
   ]
  },
  {
   "cell_type": "code",
   "execution_count": 65,
   "id": "6acff6d9",
   "metadata": {},
   "outputs": [
    {
     "ename": "TypeError",
     "evalue": "'bytes' object does not support item assignment",
     "output_type": "error",
     "traceback": [
      "\u001b[1;31m---------------------------------------------------------------------------\u001b[0m",
      "\u001b[1;31mTypeError\u001b[0m                                 Traceback (most recent call last)",
      "\u001b[1;32m<ipython-input-65-49c28121b49b>\u001b[0m in \u001b[0;36m<module>\u001b[1;34m\u001b[0m\n\u001b[0;32m      1\u001b[0m \u001b[0mx\u001b[0m\u001b[1;33m=\u001b[0m\u001b[1;33m[\u001b[0m\u001b[1;36m10\u001b[0m\u001b[1;33m,\u001b[0m\u001b[1;36m20\u001b[0m\u001b[1;33m,\u001b[0m\u001b[1;36m30\u001b[0m\u001b[1;33m]\u001b[0m\u001b[1;33m\u001b[0m\u001b[1;33m\u001b[0m\u001b[0m\n\u001b[0;32m      2\u001b[0m \u001b[0mb\u001b[0m\u001b[1;33m=\u001b[0m\u001b[0mbytes\u001b[0m\u001b[1;33m(\u001b[0m\u001b[0mx\u001b[0m\u001b[1;33m)\u001b[0m\u001b[1;33m\u001b[0m\u001b[1;33m\u001b[0m\u001b[0m\n\u001b[1;32m----> 3\u001b[1;33m \u001b[0mb\u001b[0m\u001b[1;33m[\u001b[0m\u001b[1;36m0\u001b[0m\u001b[1;33m]\u001b[0m\u001b[1;33m=\u001b[0m\u001b[1;36m100\u001b[0m\u001b[1;33m\u001b[0m\u001b[1;33m\u001b[0m\u001b[0m\n\u001b[0m\u001b[0;32m      4\u001b[0m \u001b[1;31m# IN the above line we are trying to change the value of the 0th index\u001b[0m\u001b[1;33m\u001b[0m\u001b[1;33m\u001b[0m\u001b[1;33m\u001b[0m\u001b[0m\n\u001b[0;32m      5\u001b[0m \u001b[1;31m# But byte is mutable so we cant change\u001b[0m\u001b[1;33m\u001b[0m\u001b[1;33m\u001b[0m\u001b[1;33m\u001b[0m\u001b[0m\n",
      "\u001b[1;31mTypeError\u001b[0m: 'bytes' object does not support item assignment"
     ]
    }
   ],
   "source": [
    "x=[10,20,30]\n",
    "b=bytes(x)\n",
    "b[0]=100\n",
    "# IN the above line we are trying to change the value of the 0th index\n",
    "# But byte is mutable so we cant change"
   ]
  },
  {
   "cell_type": "markdown",
   "id": "258828cf",
   "metadata": {},
   "source": [
    "# BytesArray data type"
   ]
  },
  {
   "cell_type": "code",
   "execution_count": 41,
   "id": "a41de542",
   "metadata": {},
   "outputs": [
    {
     "name": "stdout",
     "output_type": "stream",
     "text": [
      "10\n",
      "20\n",
      "30\n",
      "40\n",
      "<class 'bytearray'>\n",
      "10\n",
      "5\n"
     ]
    }
   ],
   "source": [
    "x=[10,20,30,40]\n",
    "b=bytearray(x)\n",
    "for i in b : print(i)\n",
    "print(type(b))\n",
    "print(b[0])\n",
    "b[0]=5\n",
    "print(b[0])\n",
    "# Hence there is no differences between byte and byte array\n",
    "# But only difference is bytesarray is mutable\n",
    "# Note Only use numbers in range (0 to 256)"
   ]
  },
  {
   "cell_type": "markdown",
   "id": "1d126c29",
   "metadata": {},
   "source": [
    "# List data type\n",
    "If we want to represent a group of values in a single entity where insertion order is maintained, duplicates growable in nature are allowed then we should go with list data type\n",
    "1. insertion order is preserved\n",
    "2. heterogenous data is allowed \n",
    "3. duplicates is allowed\n",
    "4. growable in nature\n",
    "5. values must be wrapped in between square brackets"
   ]
  },
  {
   "cell_type": "code",
   "execution_count": 42,
   "id": "a03b2ceb",
   "metadata": {},
   "outputs": [
    {
     "name": "stdout",
     "output_type": "stream",
     "text": [
      "[100, 1, 10.5, 'durga', True]\n"
     ]
    }
   ],
   "source": [
    "l=[100,1,10.5,'durga',True]\n",
    "print(l)"
   ]
  },
  {
   "cell_type": "code",
   "execution_count": 43,
   "id": "aaeda972",
   "metadata": {},
   "outputs": [
    {
     "data": {
      "text/plain": [
       "100"
      ]
     },
     "execution_count": 43,
     "metadata": {},
     "output_type": "execute_result"
    }
   ],
   "source": [
    "l[0]"
   ]
  },
  {
   "cell_type": "code",
   "execution_count": 44,
   "id": "34801a90",
   "metadata": {},
   "outputs": [
    {
     "data": {
      "text/plain": [
       "True"
      ]
     },
     "execution_count": 44,
     "metadata": {},
     "output_type": "execute_result"
    }
   ],
   "source": [
    "l[-1]"
   ]
  },
  {
   "cell_type": "code",
   "execution_count": 45,
   "id": "407a1268",
   "metadata": {},
   "outputs": [
    {
     "name": "stdout",
     "output_type": "stream",
     "text": [
      "100\n",
      "1\n",
      "10.5\n",
      "durga\n",
      "True\n"
     ]
    }
   ],
   "source": [
    "for i in l : print(i)"
   ]
  },
  {
   "cell_type": "code",
   "execution_count": 46,
   "id": "cdb5bc06",
   "metadata": {},
   "outputs": [
    {
     "name": "stdout",
     "output_type": "stream",
     "text": [
      "[10, 20, 30, 'durga']\n",
      "[20, 30, 'durga']\n",
      "[20, 30, 'durga', 20, 30, 'durga']\n"
     ]
    }
   ],
   "source": [
    "li=[10,20,30]\n",
    "li.append(\"durga\") # attaches an element at the end\n",
    "print(li)\n",
    "li.remove(10) # removes the given element\n",
    "print(li)\n",
    "print(li*2)\n",
    "# By this we can conclude the list is ordered mutable,heterogenous,"
   ]
  },
  {
   "cell_type": "markdown",
   "id": "a46896f7",
   "metadata": {},
   "source": [
    "# Tuple data type\n",
    "tuple data type is same as list it is ordered, allow duplicates, heterogenous \n",
    "but it doesn't allow mutable feature they have made it immutable"
   ]
  },
  {
   "cell_type": "code",
   "execution_count": 84,
   "id": "6479d604",
   "metadata": {},
   "outputs": [
    {
     "name": "stdout",
     "output_type": "stream",
     "text": [
      "<class 'tuple'>\n",
      "10\n"
     ]
    }
   ],
   "source": [
    "t=(10,20,30)\n",
    "print(type(t))\n",
    "print(t[0])\n",
    "# t.append(\"durga\")\n",
    "# in the above line you can append things inside tuple\n",
    "# t.remove(10)\n",
    "# Even the remove feature doesnot work\n",
    "# Note Tuple is the only the read only version of list"
   ]
  },
  {
   "cell_type": "markdown",
   "id": "b53114f5",
   "metadata": {},
   "source": [
    "# Range data type\n",
    "Range data type is just the sequence of numbers\n",
    "The elements present in range is not modifiable that means range is immutable"
   ]
  },
  {
   "cell_type": "code",
   "execution_count": 87,
   "id": "26566ec2",
   "metadata": {},
   "outputs": [
    {
     "name": "stdout",
     "output_type": "stream",
     "text": [
      "0 1 2 3 4 5 6 7 8 "
     ]
    }
   ],
   "source": [
    "for i in range(0,9): print(i,end=\" \")"
   ]
  },
  {
   "cell_type": "code",
   "execution_count": 89,
   "id": "ffd90d9c",
   "metadata": {},
   "outputs": [
    {
     "name": "stdout",
     "output_type": "stream",
     "text": [
      "10 11 12 13 14 15 16 17 18 "
     ]
    }
   ],
   "source": [
    "r=range(10,19)\n",
    "for i in r:print(i,end=\" \")"
   ]
  },
  {
   "cell_type": "code",
   "execution_count": 91,
   "id": "a519e08f",
   "metadata": {},
   "outputs": [
    {
     "name": "stdout",
     "output_type": "stream",
     "text": [
      "10 12 14 16 18 "
     ]
    }
   ],
   "source": [
    "r=range(10,20,2)\n",
    "for i in r:print(i,end=\" \")"
   ]
  },
  {
   "cell_type": "code",
   "execution_count": 95,
   "id": "492792bb",
   "metadata": {},
   "outputs": [
    {
     "name": "stdout",
     "output_type": "stream",
     "text": [
      "10\n"
     ]
    }
   ],
   "source": [
    "# ANd also we can access the data from range data type using index\n",
    "r=range(10,20)\n",
    "print(r[0])\n",
    "# r[0]=5\n",
    "#  the above line is commented because the range data type is immutable\n",
    "# print(r[20])\n",
    "# THe above line is commented because the range doesn't contain index till 20"
   ]
  },
  {
   "cell_type": "code",
   "execution_count": 96,
   "id": "1599a94d",
   "metadata": {},
   "outputs": [
    {
     "name": "stdout",
     "output_type": "stream",
     "text": [
      "<class 'list'> [20, 21, 22, 23, 24]\n"
     ]
    }
   ],
   "source": [
    "# We can create list from range\n",
    "r=range(20,25)\n",
    "li=list(r)\n",
    "print(type(li),li)"
   ]
  },
  {
   "cell_type": "markdown",
   "id": "860e743b",
   "metadata": {},
   "source": [
    "# Set data type\n",
    "If we want to represent group of values using single entity with maintaining insertion order not allowing duplicates then we need to use set data type\n",
    "\n",
    "1. insertion order not preserved\n",
    "2. duplicates not allowed\n",
    "3. heterogenous data allowed\n",
    "4. index concept is not there (not slicing also)\n",
    "5. It is mutable\n",
    "6. Growable in nature"
   ]
  },
  {
   "cell_type": "code",
   "execution_count": 101,
   "id": "11bd2ae5",
   "metadata": {},
   "outputs": [
    {
     "name": "stdout",
     "output_type": "stream",
     "text": [
      "{100, 10, 56, 90, 'garuda'}\n",
      "{10, 56, 90, 'garuda'}\n"
     ]
    }
   ],
   "source": [
    "s={100,10,56,'garuda'}\n",
    "# s[0]\n",
    "#  Commenting the above line because indexing in not valid and also slicing\n",
    "s.add(90)\n",
    "s.\n",
    "print(s)\n",
    "s.remove(100)\n",
    "print(s)"
   ]
  },
  {
   "cell_type": "markdown",
   "id": "f0be0a12",
   "metadata": {},
   "source": [
    "# Frozen data\n",
    " Its exactly same as sets except it is immutable\n",
    " We cant add or remove things means you dont have add or remove functions"
   ]
  },
  {
   "cell_type": "code",
   "execution_count": 103,
   "id": "3312bb6d",
   "metadata": {},
   "outputs": [
    {
     "name": "stdout",
     "output_type": "stream",
     "text": [
      "<class 'frozenset'>\n",
      "10\n",
      "20\n",
      "30\n"
     ]
    }
   ],
   "source": [
    "s={10,20,30}\n",
    "fs= frozenset(s)\n",
    "print(type(fs))\n",
    "# fs.add(4)\n",
    "# fs.remove(10)\n",
    "# We dont have add function or remove function in frozenset data type\n",
    "for i in fs: print(i)"
   ]
  },
  {
   "cell_type": "markdown",
   "id": "e2ca2644",
   "metadata": {},
   "source": [
    "# Dict data type\n",
    "If we want to represent a group of the values as key value pairs then we should go for dict data type\n"
   ]
  },
  {
   "cell_type": "code",
   "execution_count": 107,
   "id": "fc9b4769",
   "metadata": {},
   "outputs": [
    {
     "name": "stdout",
     "output_type": "stream",
     "text": [
      "{1: 'milan', 2: 'GOwfa', 'salary': 451}\n",
      "{1: 'milan', 2: 'GOwfa', 'salary': 451, 'age': 26}\n",
      "{}\n"
     ]
    }
   ],
   "source": [
    "d={1:\"milan\",2:\"GOwfa\",\"salary\":451}\n",
    "print(d)\n",
    "#adding values\n",
    "d[\"age\"]=26\n",
    "print(d)\n",
    "#If we want to remove eveything in data we use the below code\n",
    "d={}\n",
    "print(d)"
   ]
  },
  {
   "cell_type": "markdown",
   "id": "44d5feca",
   "metadata": {},
   "source": [
    "# Escape characters\n",
    "\n",
    "1. \\n takes cursor to next line\n",
    "2. \\t leaves one tab space \n",
    "3. \\r Carriage return\n",
    "4. \\b back space\n",
    "5. \\f form feed\n",
    "6. \\v vertical tab\n",
    "7. \\' Single quote\n",
    "8. \\\" Double quote\n",
    "9. \\\\ back slash symbol"
   ]
  },
  {
   "cell_type": "markdown",
   "id": "ebacd62b",
   "metadata": {},
   "source": [
    "# Constants\n",
    "Where as in java we had final and java script we had cons\n",
    "But in python we dont have anything like constant\n",
    "Developers have kept a protocol that writing the variables in capital lettes indicates that the \n",
    "variable should not be changed"
   ]
  },
  {
   "cell_type": "code",
   "execution_count": 108,
   "id": "b08d568a",
   "metadata": {},
   "outputs": [],
   "source": [
    "#  Constants are denoted as shown below\n",
    "MAX_VALUE=30"
   ]
  },
  {
   "cell_type": "markdown",
   "id": "4fbfcda4",
   "metadata": {},
   "source": [
    "# Operators\n",
    "Operator is a symbol that performs certain operations\n",
    "\n",
    "Python provides the following set of operators\n",
    "1. Arithmetic Operators\n",
    "2. Relational Operators or Comparision operators\n",
    "3. Logical Operators\n",
    "4. Bitwise Operators\n",
    "5. Assignment Operators\n",
    "6. Special Operaters"
   ]
  },
  {
   "cell_type": "code",
   "execution_count": 113,
   "id": "72170380",
   "metadata": {},
   "outputs": [
    {
     "name": "stdout",
     "output_type": "stream",
     "text": [
      "True\n",
      "True\n",
      "True\n",
      "False\n",
      "True\n",
      "False\n",
      "True\n"
     ]
    }
   ],
   "source": [
    "print(10<20)\n",
    "print(10<20<30)\n",
    "print(10<20<30<40)\n",
    "print(10<20<30<40>50)\n",
    "print(10==10)\n",
    "print(10!=10)\n",
    "print(False==0)"
   ]
  },
  {
   "cell_type": "code",
   "execution_count": 114,
   "id": "2181f723",
   "metadata": {},
   "outputs": [
    {
     "data": {
      "text/plain": [
       "True"
      ]
     },
     "execution_count": 114,
     "metadata": {},
     "output_type": "execute_result"
    }
   ],
   "source": [
    "\"durga\"==\"durga\""
   ]
  },
  {
   "cell_type": "code",
   "execution_count": 117,
   "id": "2435f0ea",
   "metadata": {},
   "outputs": [
    {
     "name": "stdout",
     "output_type": "stream",
     "text": [
      "False\n",
      "True\n",
      "True\n"
     ]
    }
   ],
   "source": [
    "print(True and False)\n",
    "print(True or False)\n",
    "print(not False)"
   ]
  },
  {
   "cell_type": "code",
   "execution_count": 118,
   "id": "0b031c94",
   "metadata": {},
   "outputs": [
    {
     "name": "stdout",
     "output_type": "stream",
     "text": [
      "True\n"
     ]
    }
   ],
   "source": [
    "print(False==0)"
   ]
  },
  {
   "cell_type": "code",
   "execution_count": 119,
   "id": "7ec6ddf5",
   "metadata": {},
   "outputs": [
    {
     "data": {
      "text/plain": [
       "True"
      ]
     },
     "execution_count": 119,
     "metadata": {},
     "output_type": "execute_result"
    }
   ],
   "source": [
    "1==True"
   ]
  },
  {
   "cell_type": "code",
   "execution_count": 123,
   "id": "52ccf68b",
   "metadata": {},
   "outputs": [
    {
     "data": {
      "text/plain": [
       "False"
      ]
     },
     "execution_count": 123,
     "metadata": {},
     "output_type": "execute_result"
    }
   ],
   "source": [
    "''== True"
   ]
  },
  {
   "cell_type": "code",
   "execution_count": 124,
   "id": "1bb3d4e5",
   "metadata": {},
   "outputs": [
    {
     "data": {
      "text/plain": [
       "20"
      ]
     },
     "execution_count": 124,
     "metadata": {},
     "output_type": "execute_result"
    }
   ],
   "source": [
    "10 and 20"
   ]
  },
  {
   "cell_type": "code",
   "execution_count": 49,
   "id": "85cf33cf",
   "metadata": {},
   "outputs": [
    {
     "data": {
      "text/plain": [
       "1"
      ]
     },
     "execution_count": 49,
     "metadata": {},
     "output_type": "execute_result"
    }
   ],
   "source": [
    "10 and 1"
   ]
  },
  {
   "cell_type": "code",
   "execution_count": 128,
   "id": "9992f4af",
   "metadata": {},
   "outputs": [
    {
     "data": {
      "text/plain": [
       "False"
      ]
     },
     "execution_count": 128,
     "metadata": {},
     "output_type": "execute_result"
    }
   ],
   "source": [
    "not 10"
   ]
  },
  {
   "cell_type": "code",
   "execution_count": 129,
   "id": "8cc2b658",
   "metadata": {},
   "outputs": [
    {
     "data": {
      "text/plain": [
       "True"
      ]
     },
     "execution_count": 129,
     "metadata": {},
     "output_type": "execute_result"
    }
   ],
   "source": [
    "not 0"
   ]
  },
  {
   "cell_type": "code",
   "execution_count": 130,
   "id": "97c46229",
   "metadata": {},
   "outputs": [
    {
     "data": {
      "text/plain": [
       "10"
      ]
     },
     "execution_count": 130,
     "metadata": {},
     "output_type": "execute_result"
    }
   ],
   "source": [
    "10 or 20"
   ]
  },
  {
   "cell_type": "code",
   "execution_count": 131,
   "id": "64d2e9b7",
   "metadata": {},
   "outputs": [
    {
     "data": {
      "text/plain": [
       "20"
      ]
     },
     "execution_count": 131,
     "metadata": {},
     "output_type": "execute_result"
    }
   ],
   "source": [
    "10 and 20"
   ]
  },
  {
   "cell_type": "code",
   "execution_count": 54,
   "id": "bb8668d3",
   "metadata": {},
   "outputs": [
    {
     "data": {
      "text/plain": [
       "-10"
      ]
     },
     "execution_count": 54,
     "metadata": {},
     "output_type": "execute_result"
    }
   ],
   "source": [
    "-10 or 30"
   ]
  },
  {
   "cell_type": "code",
   "execution_count": 55,
   "id": "b98eff55",
   "metadata": {},
   "outputs": [
    {
     "data": {
      "text/plain": [
       "0"
      ]
     },
     "execution_count": 55,
     "metadata": {},
     "output_type": "execute_result"
    }
   ],
   "source": [
    "0 and 8"
   ]
  },
  {
   "cell_type": "code",
   "execution_count": 56,
   "id": "5422c053",
   "metadata": {},
   "outputs": [
    {
     "data": {
      "text/plain": [
       "5"
      ]
     },
     "execution_count": 56,
     "metadata": {},
     "output_type": "execute_result"
    }
   ],
   "source": [
    "4 and 5"
   ]
  },
  {
   "cell_type": "markdown",
   "id": "a77f1df9",
   "metadata": {},
   "source": [
    "# Bit wise Operators\n",
    "We can apply these operators bit wise\n",
    "These operators are applicable only for int and boolean types\n",
    "          & | ^ ~ << >> "
   ]
  },
  {
   "cell_type": "code",
   "execution_count": 57,
   "id": "3e5bfcbb",
   "metadata": {},
   "outputs": [
    {
     "data": {
      "text/plain": [
       "4"
      ]
     },
     "execution_count": 57,
     "metadata": {},
     "output_type": "execute_result"
    }
   ],
   "source": [
    "4 & 5"
   ]
  },
  {
   "cell_type": "code",
   "execution_count": 76,
   "id": "421b97e2",
   "metadata": {},
   "outputs": [
    {
     "data": {
      "text/plain": [
       "2"
      ]
     },
     "execution_count": 76,
     "metadata": {},
     "output_type": "execute_result"
    }
   ],
   "source": [
    "2 & 6"
   ]
  },
  {
   "cell_type": "code",
   "execution_count": 79,
   "id": "6b2c8cc1",
   "metadata": {},
   "outputs": [
    {
     "data": {
      "text/plain": [
       "13"
      ]
     },
     "execution_count": 79,
     "metadata": {},
     "output_type": "execute_result"
    }
   ],
   "source": [
    "8 | 5"
   ]
  },
  {
   "cell_type": "markdown",
   "id": "e6fb0bc1",
   "metadata": {},
   "source": [
    "# Ternary Operator"
   ]
  },
  {
   "cell_type": "code",
   "execution_count": 158,
   "id": "566d64f0",
   "metadata": {},
   "outputs": [
    {
     "data": {
      "text/plain": [
       "'None'"
      ]
     },
     "execution_count": 158,
     "metadata": {},
     "output_type": "execute_result"
    }
   ],
   "source": [
    "a,b=50,50\n",
    "x= 30 if a < b else 40 if a > b else \"None\"\n",
    "x"
   ]
  },
  {
   "cell_type": "code",
   "execution_count": 162,
   "id": "1c5fcf2a",
   "metadata": {},
   "outputs": [
    {
     "name": "stdout",
     "output_type": "stream",
     "text": [
      "ENter first Number56\n",
      "ENter second Number58\n",
      "56 Is the smallest number\n"
     ]
    }
   ],
   "source": [
    "# Eg 2: Read two numbers from the keyboard and print minimum value\n",
    "a = int(input(\"ENter first Number\"))\n",
    "b = int(input(\"ENter second Number\"))\n",
    "min =a if a < b else b\n",
    "print(min, \"Is the smallest number\")"
   ]
  },
  {
   "cell_type": "code",
   "execution_count": 169,
   "id": "c690322a",
   "metadata": {},
   "outputs": [
    {
     "name": "stdout",
     "output_type": "stream",
     "text": [
      "ENter first Number9\n",
      "ENter second Number6\n",
      "ENter third Number3\n",
      "3 Is the smalled number of three numbers\n"
     ]
    }
   ],
   "source": [
    "# Q. Program for minimum of 3 numbers\n",
    "a = int(input(\"ENter first Number\"))\n",
    "b = int(input(\"ENter second Number\"))\n",
    "c = int(input(\"ENter third Number\"))\n",
    "min=a if a<b<c else b if b<c else c\n",
    "print(min,\"Is the smalled number of three numbers\")\n"
   ]
  },
  {
   "cell_type": "code",
   "execution_count": 173,
   "id": "3201a615",
   "metadata": {},
   "outputs": [
    {
     "name": "stdout",
     "output_type": "stream",
     "text": [
      "ENter first Number5\n",
      "ENter second Number63\n",
      "ENter third Number2\n",
      "63 is the Biggest number of three\n"
     ]
    }
   ],
   "source": [
    "# Q. Program for maximum of 3 numbers\n",
    "\n",
    "a = int(input(\"ENter first Number\"))\n",
    "b = int(input(\"ENter second Number\"))\n",
    "c = int(input(\"ENter third Number\"))\n",
    "max=a if a>b>c else b if b>c else c\n",
    "print(max,\"is the Biggest number of three\")"
   ]
  },
  {
   "cell_type": "markdown",
   "id": "81b977a3",
   "metadata": {},
   "source": [
    "# Specail Operators\n",
    "1. Identity Operators\n",
    "2. Membership operators\n",
    "\n",
    "We can use identity operators for address comparison.\n",
    "2 identity operators are available\n",
    "1. is\n",
    "2. is not\n"
   ]
  },
  {
   "cell_type": "code",
   "execution_count": 178,
   "id": "5cf51e5e",
   "metadata": {},
   "outputs": [
    {
     "name": "stdout",
     "output_type": "stream",
     "text": [
      "True\n",
      "False\n",
      "False\n",
      "True\n"
     ]
    }
   ],
   "source": [
    "a=10\n",
    "b=10\n",
    "print(a is b )\n",
    "c=11\n",
    "d=260\n",
    "e=260\n",
    "b1=256\n",
    "b2=256\n",
    "print(c is a)\n",
    "print(d is e)\n",
    "print(b1 is b2)"
   ]
  },
  {
   "cell_type": "code",
   "execution_count": 181,
   "id": "e7e9e4be",
   "metadata": {},
   "outputs": [
    {
     "name": "stdout",
     "output_type": "stream",
     "text": [
      "2350406037696\n",
      "2350403487424\n",
      "False\n",
      "True\n",
      "True\n"
     ]
    }
   ],
   "source": [
    "li1=[\"one\",\"two\",\"three\"]\n",
    "li2=[\"one\",\"two\",\"three\"]\n",
    "print(id(li1))\n",
    "print(id(li2))\n",
    "print(li1 is li2)\n",
    "print(li1 is not li2)\n",
    "print(li1 == li2)"
   ]
  },
  {
   "cell_type": "markdown",
   "id": "fdae6722",
   "metadata": {},
   "source": [
    "# Membership operator\n",
    "We can use Membership operators to check whether the given object present in the\n",
    "given collection.(It may be String,List,Set,Tuple or Dict)\n",
    "\n",
    "in  Returns True if the given object present in the specified Collection\n",
    "\n",
    "not in  Retruns True if the given object not present in the specified Collection\n"
   ]
  },
  {
   "cell_type": "code",
   "execution_count": 183,
   "id": "7484b4ab",
   "metadata": {},
   "outputs": [
    {
     "name": "stdout",
     "output_type": "stream",
     "text": [
      "True\n",
      "False\n",
      "True\n",
      "False\n"
     ]
    }
   ],
   "source": [
    "x=\"Hello this is Milan Talking\"\n",
    "print(\"H\" in x)\n",
    "print(\"B\" in x)\n",
    "print(\"B\"  not in x)\n",
    "print(\"H\" not in x)"
   ]
  },
  {
   "cell_type": "markdown",
   "id": "dded109e",
   "metadata": {},
   "source": [
    "# Precedence\n",
    "\n",
    " The following list describes operator precedence in Python\n",
    " \n",
    "1. ()  Parenthesis\n",
    "2. **  exponential operator\n",
    "3. ~,-  Bitwise complement operator,unary minus operator\n",
    "4. *,/,%,//  multiplication,division,modulo,floor division\n",
    "5. +,-  addition,subtraction\n",
    "6. <<,>>  Left and Right Shift\n",
    "7. &  bitwise And\n",
    "8. ^  Bitwise X-OR\n",
    "9. |  Bitwise OR\n",
    "10. >,>=,<,<=, ==, != ==>Relational or Comparison operators\n",
    "11. =,+=,-=,*=... ==>Assignment operators\n",
    "12. is , is not  Identity Operators\n",
    "13. in , not in  Membership operators\n",
    "14. not  Logical not\n",
    "15. and  Logical and\n",
    "16. or  Logical or\n",
    "\n"
   ]
  },
  {
   "cell_type": "markdown",
   "id": "8a0d987a",
   "metadata": {},
   "source": [
    "# INPUTS AND OUTPUTS"
   ]
  },
  {
   "cell_type": "code",
   "execution_count": 185,
   "id": "a4471918",
   "metadata": {},
   "outputs": [
    {
     "name": "stdout",
     "output_type": "stream",
     "text": [
      "Enter the 5 6\n",
      "5 6\n"
     ]
    }
   ],
   "source": [
    "    a,b=[ int(x) for x in input(\"Enter the \").split()]\n",
    "    print(a,b)"
   ]
  },
  {
   "cell_type": "code",
   "execution_count": 190,
   "id": "c387a260",
   "metadata": {},
   "outputs": [
    {
     "name": "stdout",
     "output_type": "stream",
     "text": [
      "ENter the5.3,6.9,5.9\n",
      "5.3 6.9 5.9\n"
     ]
    }
   ],
   "source": [
    "a,b,c=[float(x) for x in input(\"ENter the\").split(\",\")]\n",
    "print(a,b,c)"
   ]
  },
  {
   "cell_type": "code",
   "execution_count": 192,
   "id": "176d7605",
   "metadata": {},
   "outputs": [
    {
     "name": "stdout",
     "output_type": "stream",
     "text": [
      "ENter float5.6\n",
      "5.6 <class 'float'>\n"
     ]
    }
   ],
   "source": [
    "x=eval(input(\"ENter float\"))\n",
    "print(x, type(x))"
   ]
  },
  {
   "cell_type": "code",
   "execution_count": 193,
   "id": "e6e97da4",
   "metadata": {},
   "outputs": [
    {
     "name": "stdout",
     "output_type": "stream",
     "text": [
      "ENter Integer56\n",
      "56 <class 'int'>\n"
     ]
    }
   ],
   "source": [
    "x=eval(input(\"ENter Integer\"))\n",
    "print(x, type(x))"
   ]
  },
  {
   "cell_type": "code",
   "execution_count": 194,
   "id": "b4de627c",
   "metadata": {},
   "outputs": [
    {
     "name": "stdout",
     "output_type": "stream",
     "text": [
      "ENter Complex12+5j\n",
      "(12+5j) <class 'complex'>\n"
     ]
    }
   ],
   "source": [
    "x=eval(input(\"ENter Complex\"))\n",
    "print(x, type(x))"
   ]
  },
  {
   "cell_type": "code",
   "execution_count": 197,
   "id": "1c3c32bf",
   "metadata": {},
   "outputs": [
    {
     "name": "stdout",
     "output_type": "stream",
     "text": [
      "ENter list[10 , 30.5,\"durga\"]\n",
      "[10, 30.5, 'durga'] <class 'list'>\n"
     ]
    }
   ],
   "source": [
    "x=eval(input(\"ENter list\"))\n",
    "print(x, type(x))"
   ]
  },
  {
   "cell_type": "code",
   "execution_count": 203,
   "id": "290ee719",
   "metadata": {},
   "outputs": [
    {
     "name": "stdout",
     "output_type": "stream",
     "text": [
      "ENter tuple2,3,\"Milan\"\n",
      "(2, 3, 'Milan') <class 'tuple'>\n"
     ]
    }
   ],
   "source": [
    "x=eval(input(\"ENter tuple\"))\n",
    "print(x, type(x))"
   ]
  },
  {
   "cell_type": "markdown",
   "id": "201553c2",
   "metadata": {},
   "source": [
    "# Command line arguments\n"
   ]
  },
  {
   "cell_type": "code",
   "execution_count": 204,
   "id": "eaf4912f",
   "metadata": {},
   "outputs": [
    {
     "name": "stdout",
     "output_type": "stream",
     "text": [
      "[10, 10, 'C:\\\\Users\\\\Melon\\\\AppData\\\\Roaming\\\\jupyter\\\\runtime\\\\kernel-e97618ed-bf24-4092-a5c7-296b1898549f.json']\n"
     ]
    }
   ],
   "source": [
    "from sys import argv\n",
    "argv[1]=10\n",
    "print(argv)"
   ]
  },
  {
   "cell_type": "markdown",
   "id": "33a3f2ff",
   "metadata": {},
   "source": [
    "# Output statements\n"
   ]
  },
  {
   "cell_type": "code",
   "execution_count": 205,
   "id": "98ddc94b",
   "metadata": {},
   "outputs": [
    {
     "name": "stdout",
     "output_type": "stream",
     "text": [
      "Hello\n"
     ]
    }
   ],
   "source": [
    "print(\"Hello\")"
   ]
  },
  {
   "cell_type": "code",
   "execution_count": 207,
   "id": "a9a30f5b",
   "metadata": {},
   "outputs": [
    {
     "name": "stdout",
     "output_type": "stream",
     "text": [
      "Hello \n",
      " World\n"
     ]
    }
   ],
   "source": [
    "print(\"Hello \\n World\")"
   ]
  },
  {
   "cell_type": "code",
   "execution_count": 208,
   "id": "dbfa2a3a",
   "metadata": {},
   "outputs": [
    {
     "name": "stdout",
     "output_type": "stream",
     "text": [
      "Hello \t World\n"
     ]
    }
   ],
   "source": [
    "print(\"Hello \\t World\")"
   ]
  },
  {
   "cell_type": "code",
   "execution_count": 209,
   "id": "17b7a756",
   "metadata": {},
   "outputs": [
    {
     "name": "stdout",
     "output_type": "stream",
     "text": [
      "45:65:98\n"
     ]
    }
   ],
   "source": [
    "a,b,c=45,65,98\n",
    "print(a,b,c,sep=\":\")\n"
   ]
  },
  {
   "cell_type": "code",
   "execution_count": 211,
   "id": "f71d4510",
   "metadata": {},
   "outputs": [
    {
     "name": "stdout",
     "output_type": "stream",
     "text": [
      "Hello\n",
      "Durga\n",
      "Soft\n",
      "Hello Durga Soft\n"
     ]
    }
   ],
   "source": [
    "print(\"Hello\")\n",
    "print(\"Durga\")\n",
    "print(\"Soft\") \n",
    "print(\"Hello\",end=' ')\n",
    "print(\"Durga\",end=' ')\n",
    "print(\"Soft\") "
   ]
  },
  {
   "cell_type": "code",
   "execution_count": 219,
   "id": "52f3496f",
   "metadata": {},
   "outputs": [
    {
     "name": "stdout",
     "output_type": "stream",
     "text": [
      "Hello DUrga\n"
     ]
    }
   ],
   "source": [
    "s=\"DUrga\"\n",
    "n=45\n",
    "weight=88.5\n",
    "s1=\"java\"\n",
    "print(\"Hello\",s)"
   ]
  },
  {
   "cell_type": "code",
   "execution_count": 226,
   "id": "6f181932",
   "metadata": {},
   "outputs": [
    {
     "name": "stdout",
     "output_type": "stream",
     "text": [
      "Hey my nam is DUrga\n",
      "Hey my nam is DUrga and age is 45\n",
      "Hey my nam is DUrga and age is 45 and weight is 88.500000\n",
      "Hey my name is DUrga age is 45 and weight is 88.5\n",
      "Hey my name is DUrga age is 45 and weight is 88.5\n",
      "Hey my name is DUrga age is 45 and weight is 88.5\n"
     ]
    }
   ],
   "source": [
    "print(\"Hey my nam is %s\"%s)\n",
    "print(\"Hey my nam is %s and age is %i\"%(s,n))\n",
    "print(\"Hey my nam is %s and age is %i and weight is %f\"%(s,n,weight))\n",
    "print(\"Hey my name is {0} age is {1} and weight is {2}\".format(s,n,weight))\n",
    "print(\"Hey my name is {} age is {} and weight is {}\".format(s,n,weight))\n",
    "print(\"Hey my name is {name} age is {age} and weight is {weight}\".format(name=s,age=n,weight=weight))"
   ]
  },
  {
   "cell_type": "markdown",
   "id": "e6172f7e",
   "metadata": {},
   "source": [
    "# Flow Control\n",
    "1. Conditional Statements\n",
    "\n",
    "   1.1 if\n",
    "   \n",
    "   1.2 if- else\n",
    "   \n",
    "   1.3 if- elif-else\n",
    "\n",
    "2. Transfer Statements\n",
    "\n",
    "   2.1 break\n",
    "   \n",
    "   2.2 continue\n",
    "   \n",
    "   2.3 pass\n",
    "\n",
    "3. Iterative Statements\n",
    "\n",
    "   3.1 for\n",
    "   \n",
    "   3.2 while"
   ]
  },
  {
   "cell_type": "markdown",
   "id": "b3a6dc9e",
   "metadata": {},
   "source": [
    "# If Statement"
   ]
  },
  {
   "cell_type": "code",
   "execution_count": 227,
   "id": "e6cb650f",
   "metadata": {},
   "outputs": [
    {
     "name": "stdout",
     "output_type": "stream",
     "text": [
      "Hello durga good morning\n",
      "How are you\n"
     ]
    }
   ],
   "source": [
    "name=\"durga\"\n",
    "if name == \"durga\":\n",
    "    print(\"Hello durga good morning\")\n",
    "print(\"How are you\")"
   ]
  },
  {
   "cell_type": "markdown",
   "id": "4e29218e",
   "metadata": {},
   "source": [
    "# String"
   ]
  },
  {
   "cell_type": "code",
   "execution_count": 231,
   "id": "3fb9a32f",
   "metadata": {},
   "outputs": [
    {
     "name": "stdout",
     "output_type": "stream",
     "text": [
      "the word d have positive index 0 and negative index of -5\n",
      "the word u have positive index 1 and negative index of -4\n",
      "the word r have positive index 2 and negative index of -3\n",
      "the word g have positive index 3 and negative index of -2\n",
      "the word a have positive index 4 and negative index of -1\n"
     ]
    }
   ],
   "source": [
    "s= \"durga\"\n",
    "i=0\n",
    "for x in s:\n",
    "    print(\"the word\",x,\"have positive index\",i,\"and negative index of\",i-len(s))\n",
    "    i+=1\n",
    "    "
   ]
  },
  {
   "cell_type": "code",
   "execution_count": 233,
   "id": "e02de2a8",
   "metadata": {},
   "outputs": [
    {
     "data": {
      "text/plain": [
       "'earnin'"
      ]
     },
     "execution_count": 233,
     "metadata": {},
     "output_type": "execute_result"
    }
   ],
   "source": [
    "s=\"Learning python is very easy\"\n",
    "s[1:7]"
   ]
  },
  {
   "cell_type": "code",
   "execution_count": 237,
   "id": "a0f66279",
   "metadata": {},
   "outputs": [
    {
     "data": {
      "text/plain": [
       "'ysae yrev si nohtyp gninrae'"
      ]
     },
     "execution_count": 237,
     "metadata": {},
     "output_type": "execute_result"
    }
   ],
   "source": [
    "s[-1:0:-1]"
   ]
  },
  {
   "cell_type": "code",
   "execution_count": 239,
   "id": "7f97fd1d",
   "metadata": {},
   "outputs": [
    {
     "data": {
      "text/plain": [
       "'sy nyn'"
      ]
     },
     "execution_count": 239,
     "metadata": {},
     "output_type": "execute_result"
    }
   ],
   "source": [
    "s[-2:4:-4]"
   ]
  },
  {
   "cell_type": "code",
   "execution_count": 240,
   "id": "8025b5b3",
   "metadata": {},
   "outputs": [
    {
     "data": {
      "text/plain": [
       "'rning python is very easy'"
      ]
     },
     "execution_count": 240,
     "metadata": {},
     "output_type": "execute_result"
    }
   ],
   "source": [
    "s[3:]"
   ]
  },
  {
   "cell_type": "code",
   "execution_count": 241,
   "id": "0c91cf27",
   "metadata": {},
   "outputs": [
    {
     "data": {
      "text/plain": [
       "'Learning p'"
      ]
     },
     "execution_count": 241,
     "metadata": {},
     "output_type": "execute_result"
    }
   ],
   "source": [
    "s[:10]"
   ]
  },
  {
   "cell_type": "code",
   "execution_count": 243,
   "id": "163e9147",
   "metadata": {},
   "outputs": [
    {
     "name": "stdout",
     "output_type": "stream",
     "text": [
      "durga soft\n",
      "durga durga durga \n"
     ]
    }
   ],
   "source": [
    "# Mathematical operation used with String that is \n",
    "# + for concetanation\n",
    "# * for repitation\n",
    "print(\"durga \"+\"soft\")\n",
    "print(\"durga \"*3)"
   ]
  },
  {
   "cell_type": "code",
   "execution_count": 254,
   "id": "9ffe6650",
   "metadata": {},
   "outputs": [
    {
     "name": "stdout",
     "output_type": "stream",
     "text": [
      "Learning python is very easy\n",
      "ysae yrev si nohtyp gninraeL"
     ]
    }
   ],
   "source": [
    "s=\"Learning python is very easy\"\n",
    "n=len(s)\n",
    "i=0\n",
    "j=0\n",
    "while i<n:\n",
    "    print(s[i],end='')\n",
    "    i+=1    \n",
    "print()\n",
    "while j<n:\n",
    "    print(s[n-j-1],end='')\n",
    "    j+=1"
   ]
  },
  {
   "cell_type": "markdown",
   "id": "9af9f3af",
   "metadata": {},
   "source": [
    "# Finding Substrings:\n",
    "We can use the following 4 methods\n",
    "\n",
    "For forward direction:\n",
    "\n",
    "find()\n",
    "\n",
    "index()\n",
    "\n",
    "For backward direction:\n",
    "\n",
    "rfind()\n",
    "\n",
    "rindex()"
   ]
  },
  {
   "cell_type": "code",
   "execution_count": 258,
   "id": "8a119441",
   "metadata": {},
   "outputs": [
    {
     "data": {
      "text/plain": [
       "24"
      ]
     },
     "execution_count": 258,
     "metadata": {},
     "output_type": "execute_result"
    }
   ],
   "source": [
    "s=\"Learning python is very easy\"\n",
    "s.find(\"eas\")"
   ]
  },
  {
   "cell_type": "code",
   "execution_count": 259,
   "id": "b4b6b4f8",
   "metadata": {},
   "outputs": [
    {
     "data": {
      "text/plain": [
       "9"
      ]
     },
     "execution_count": 259,
     "metadata": {},
     "output_type": "execute_result"
    }
   ],
   "source": [
    "s.find(\"pyt\")"
   ]
  },
  {
   "cell_type": "code",
   "execution_count": 261,
   "id": "57713540",
   "metadata": {},
   "outputs": [
    {
     "data": {
      "text/plain": [
       "24"
      ]
     },
     "execution_count": 261,
     "metadata": {},
     "output_type": "execute_result"
    }
   ],
   "source": [
    "s.rfind(\"e\")"
   ]
  },
  {
   "cell_type": "code",
   "execution_count": 262,
   "id": "b9d52728",
   "metadata": {},
   "outputs": [
    {
     "data": {
      "text/plain": [
       "1"
      ]
     },
     "execution_count": 262,
     "metadata": {},
     "output_type": "execute_result"
    }
   ],
   "source": [
    "s.find(\"e\")"
   ]
  },
  {
   "cell_type": "code",
   "execution_count": 264,
   "id": "9218ea47",
   "metadata": {},
   "outputs": [
    {
     "data": {
      "text/plain": [
       "3"
      ]
     },
     "execution_count": 264,
     "metadata": {},
     "output_type": "execute_result"
    }
   ],
   "source": [
    "s.index(\"r\")"
   ]
  },
  {
   "cell_type": "code",
   "execution_count": 265,
   "id": "26d9a2a9",
   "metadata": {},
   "outputs": [
    {
     "data": {
      "text/plain": [
       "21"
      ]
     },
     "execution_count": 265,
     "metadata": {},
     "output_type": "execute_result"
    }
   ],
   "source": [
    "s.rindex(\"r\")"
   ]
  },
  {
   "cell_type": "markdown",
   "id": "61ad5b06",
   "metadata": {},
   "source": [
    "# #List Data Structure\n",
    "1. Insertion Order preserved\n",
    "2. Duplicates allowed\n",
    "3. Heterogenous data allowed\n",
    "4. Growable in nature"
   ]
  },
  {
   "cell_type": "code",
   "execution_count": 6,
   "id": "6dfbaec3",
   "metadata": {},
   "outputs": [
    {
     "name": "stdout",
     "output_type": "stream",
     "text": [
      "[]\n",
      "<class 'list'>\n"
     ]
    }
   ],
   "source": [
    "# Creation of List\n",
    "li=[]\n",
    "print(li)\n",
    "print(type(li))"
   ]
  },
  {
   "cell_type": "code",
   "execution_count": 7,
   "id": "7ac52e09",
   "metadata": {},
   "outputs": [
    {
     "name": "stdout",
     "output_type": "stream",
     "text": [
      "[10, 20, 30, 'durga', 'Milan']\n",
      "<class 'list'>\n"
     ]
    }
   ],
   "source": [
    "li=[10,20,30,\"durga\",\"Milan\"]\n",
    "print(li)\n",
    "print(type(li))"
   ]
  },
  {
   "cell_type": "code",
   "execution_count": 11,
   "id": "8ec188df",
   "metadata": {},
   "outputs": [
    {
     "name": "stdout",
     "output_type": "stream",
     "text": [
      "[0, 2, 4, 6, 8]\n",
      "<class 'list'>\n"
     ]
    }
   ],
   "source": [
    "l=list(range(0,10,2))\n",
    "print(l)\n",
    "print(type(l)) "
   ]
  },
  {
   "cell_type": "code",
   "execution_count": 14,
   "id": "91dc4c71",
   "metadata": {},
   "outputs": [
    {
     "name": "stdout",
     "output_type": "stream",
     "text": [
      "['Learning', 'Python', 'is', 'very', 'easy']\n",
      "<class 'list'>\n"
     ]
    }
   ],
   "source": [
    "s=\"Learning Python is very easy\"\n",
    "l=s.split()\n",
    "print(l)\n",
    "print(type(l)) "
   ]
  },
  {
   "cell_type": "code",
   "execution_count": 18,
   "id": "90dbbcde",
   "metadata": {},
   "outputs": [
    {
     "name": "stdout",
     "output_type": "stream",
     "text": [
      "10\n",
      "20\n",
      "40\n",
      "30\n"
     ]
    }
   ],
   "source": [
    "# Accessing elements of List\n",
    "li=[10,20,30,40]\n",
    "print(li[0])\n",
    "print(li[1])\n",
    "print(li[-1])\n",
    "print(li[-2])"
   ]
  },
  {
   "cell_type": "code",
   "execution_count": 21,
   "id": "882e48f6",
   "metadata": {},
   "outputs": [
    {
     "name": "stdout",
     "output_type": "stream",
     "text": [
      "[10, 20, 30, 40]\n"
     ]
    }
   ],
   "source": [
    "li1=li[:]\n",
    "print(li1)"
   ]
  },
  {
   "cell_type": "code",
   "execution_count": 23,
   "id": "df922105",
   "metadata": {},
   "outputs": [
    {
     "name": "stdout",
     "output_type": "stream",
     "text": [
      "[1, 2, 3, 4, 5, 6, 7, 8, 9, 10, 11, 12, 13, 14, 15, 16, 17, 18, 19]\n",
      "[1, 3, 5, 7, 9, 11, 13, 15, 17, 19]\n"
     ]
    }
   ],
   "source": [
    "li1=list(range(1,20))\n",
    "print(li1)\n",
    "print(li1[::2])"
   ]
  },
  {
   "cell_type": "code",
   "execution_count": 25,
   "id": "df1b8b91",
   "metadata": {},
   "outputs": [
    {
     "name": "stdout",
     "output_type": "stream",
     "text": [
      "5\n",
      "4\n",
      "3\n"
     ]
    }
   ],
   "source": [
    "li1=[1,2,2,6,5,3,1,1,3,3,1,1,2,2,9]\n",
    "print(li1.count(1))\n",
    "print(li1.count(2))\n",
    "print(li1.count(3))"
   ]
  },
  {
   "cell_type": "code",
   "execution_count": 27,
   "id": "81cb14ca",
   "metadata": {},
   "outputs": [
    {
     "name": "stdout",
     "output_type": "stream",
     "text": [
      "0\n",
      "4\n"
     ]
    }
   ],
   "source": [
    "li1=[1,2,2,6,5,3,1,1,3,3,1,1,2,2,9]\n",
    "print(li1.index(1))\n",
    "print(li1.index(5))"
   ]
  },
  {
   "cell_type": "code",
   "execution_count": 28,
   "id": "b0d33302",
   "metadata": {},
   "outputs": [
    {
     "data": {
      "text/plain": [
       "True"
      ]
     },
     "execution_count": 28,
     "metadata": {},
     "output_type": "execute_result"
    }
   ],
   "source": [
    "2 in li1"
   ]
  },
  {
   "cell_type": "code",
   "execution_count": 29,
   "id": "5f916170",
   "metadata": {},
   "outputs": [
    {
     "data": {
      "text/plain": [
       "True"
      ]
     },
     "execution_count": 29,
     "metadata": {},
     "output_type": "execute_result"
    }
   ],
   "source": [
    "6 in li1"
   ]
  },
  {
   "cell_type": "code",
   "execution_count": 30,
   "id": "7f54d2b8",
   "metadata": {},
   "outputs": [
    {
     "data": {
      "text/plain": [
       "False"
      ]
     },
     "execution_count": 30,
     "metadata": {},
     "output_type": "execute_result"
    }
   ],
   "source": [
    "56 in li1 "
   ]
  },
  {
   "cell_type": "code",
   "execution_count": 32,
   "id": "8268924f",
   "metadata": {},
   "outputs": [
    {
     "name": "stdout",
     "output_type": "stream",
     "text": [
      "[10, 20, 30, 10]\n"
     ]
    }
   ],
   "source": [
    "li1=[10,20,30]\n",
    "li1.append(10)\n",
    "print(li1)"
   ]
  },
  {
   "cell_type": "code",
   "execution_count": 34,
   "id": "50ed2d65",
   "metadata": {},
   "outputs": [
    {
     "name": "stdout",
     "output_type": "stream",
     "text": [
      "[0, 10, 20, 30, 40, 50, 60, 70, 80, 90, 100]\n"
     ]
    }
   ],
   "source": [
    "li1=[]\n",
    "for i in range(101):\n",
    "    if(i%10==0):\n",
    "        li1.append(i)\n",
    "print(li1)\n",
    "        "
   ]
  },
  {
   "cell_type": "code",
   "execution_count": 39,
   "id": "cfd4270b",
   "metadata": {},
   "outputs": [
    {
     "name": "stdout",
     "output_type": "stream",
     "text": [
      "[2]\n",
      "[2, 140]\n",
      "[40, 2, 140]\n"
     ]
    }
   ],
   "source": [
    "n=[]\n",
    "n.insert(1,2)\n",
    "print(n)\n",
    "n.insert(1,140)\n",
    "print(n)\n",
    "n.insert(0,40)\n",
    "print(n)"
   ]
  },
  {
   "cell_type": "code",
   "execution_count": 40,
   "id": "a2332105",
   "metadata": {},
   "outputs": [
    {
     "name": "stdout",
     "output_type": "stream",
     "text": [
      "[1, 2, 5] [9, 8, 7]\n",
      "[1, 2, 5, 9, 8, 7]\n"
     ]
    }
   ],
   "source": [
    "li1=[1,2,5]\n",
    "li2=[9,8,7]\n",
    "print(li1,li2)\n",
    "li1.extend(li2)\n",
    "print(li1)"
   ]
  },
  {
   "cell_type": "code",
   "execution_count": 41,
   "id": "4a956fb2",
   "metadata": {},
   "outputs": [
    {
     "name": "stdout",
     "output_type": "stream",
     "text": [
      "['Durga', 'Milan', 'Harsh', 'dog', 'cat', 'bekku']\n"
     ]
    }
   ],
   "source": [
    "li1=[\"Durga\",'Milan',\"Harsh\"]\n",
    "li2=[\"dog\",'cat',\"bekku\"]\n",
    "li1.extend(li2)\n",
    "print(li1)"
   ]
  },
  {
   "cell_type": "code",
   "execution_count": 42,
   "id": "145c4179",
   "metadata": {},
   "outputs": [
    {
     "name": "stdout",
     "output_type": "stream",
     "text": [
      "['kanaka', 'Menaka', 'Deepika', 'b', 'e', 'v', 'e', 'r', 's', 'i']\n"
     ]
    }
   ],
   "source": [
    "li1=[\"kanaka\",\"Menaka\",\"Deepika\"]\n",
    "li1.extend(\"beversi\")\n",
    "print(li1)"
   ]
  },
  {
   "cell_type": "code",
   "execution_count": 43,
   "id": "be7f5b77",
   "metadata": {},
   "outputs": [
    {
     "name": "stdout",
     "output_type": "stream",
     "text": [
      "[1, 2, 6, 5, 4]\n"
     ]
    }
   ],
   "source": [
    "# remove function\n",
    "li1=[1,2,3,6,5,4]\n",
    "li1.remove(3)\n",
    "print(li1)"
   ]
  },
  {
   "cell_type": "code",
   "execution_count": 47,
   "id": "96f2766a",
   "metadata": {},
   "outputs": [
    {
     "name": "stdout",
     "output_type": "stream",
     "text": [
      "40\n",
      "[10, 20, 30]\n",
      "10\n",
      "[20, 30]\n"
     ]
    }
   ],
   "source": [
    "n=[10,20,30,40]\n",
    "print(n.pop())\n",
    "print(n)\n",
    "print(n.pop(0))\n",
    "print(n)\n",
    "# THe pop function takes index as argument"
   ]
  },
  {
   "cell_type": "code",
   "execution_count": 49,
   "id": "5bf5df76",
   "metadata": {},
   "outputs": [
    {
     "name": "stdout",
     "output_type": "stream",
     "text": [
      "[1, 2, 3, 6, 5, 4]\n",
      "[4, 5, 6, 3, 2, 1]\n"
     ]
    }
   ],
   "source": [
    "li1=[1,2,3,6,5,4]\n",
    "print(li1)\n",
    "li1.reverse()\n",
    "print(li1)"
   ]
  },
  {
   "cell_type": "code",
   "execution_count": 50,
   "id": "a803b7b9",
   "metadata": {},
   "outputs": [
    {
     "name": "stdout",
     "output_type": "stream",
     "text": [
      "[1, 2, 3, 6, 5, 4]\n",
      "[1, 2, 3, 4, 5, 6]\n"
     ]
    }
   ],
   "source": [
    "li1=[1,2,3,6,5,4]\n",
    "print(li1)\n",
    "li1.sort()\n",
    "print(li1)"
   ]
  },
  {
   "cell_type": "code",
   "execution_count": 51,
   "id": "3c0b02eb",
   "metadata": {},
   "outputs": [
    {
     "ename": "TypeError",
     "evalue": "'<' not supported between instances of 'str' and 'int'",
     "output_type": "error",
     "traceback": [
      "\u001b[1;31m---------------------------------------------------------------------------\u001b[0m",
      "\u001b[1;31mTypeError\u001b[0m                                 Traceback (most recent call last)",
      "\u001b[1;32m<ipython-input-51-845800d5c5b9>\u001b[0m in \u001b[0;36m<module>\u001b[1;34m\u001b[0m\n\u001b[0;32m      1\u001b[0m \u001b[0mli1\u001b[0m\u001b[1;33m=\u001b[0m\u001b[1;33m[\u001b[0m\u001b[1;36m10\u001b[0m\u001b[1;33m,\u001b[0m\u001b[1;36m20\u001b[0m\u001b[1;33m,\u001b[0m\u001b[1;34m\"a\"\u001b[0m\u001b[1;33m,\u001b[0m\u001b[1;34m\"B\"\u001b[0m\u001b[1;33m]\u001b[0m\u001b[1;33m\u001b[0m\u001b[1;33m\u001b[0m\u001b[0m\n\u001b[1;32m----> 2\u001b[1;33m \u001b[0mli1\u001b[0m\u001b[1;33m.\u001b[0m\u001b[0msort\u001b[0m\u001b[1;33m(\u001b[0m\u001b[1;33m)\u001b[0m\u001b[1;33m\u001b[0m\u001b[1;33m\u001b[0m\u001b[0m\n\u001b[0m",
      "\u001b[1;31mTypeError\u001b[0m: '<' not supported between instances of 'str' and 'int'"
     ]
    }
   ],
   "source": [
    "li1=[10,20,\"a\",\"B\"]\n",
    "li1.sort()\n",
    "# sort function is not applicable for only integers"
   ]
  },
  {
   "cell_type": "code",
   "execution_count": 52,
   "id": "bb09dd76",
   "metadata": {},
   "outputs": [
    {
     "name": "stdout",
     "output_type": "stream",
     "text": [
      "[1, 2, 3, 6, 5, 4]\n",
      "[6, 5, 4, 3, 2, 1]\n"
     ]
    }
   ],
   "source": [
    "li1=[1,2,3,6,5,4]\n",
    "print(li1)\n",
    "li1.sort(reverse=True)\n",
    "print(li1)"
   ]
  },
  {
   "cell_type": "code",
   "execution_count": 60,
   "id": "d06c768e",
   "metadata": {},
   "outputs": [
    {
     "name": "stdout",
     "output_type": "stream",
     "text": [
      "3113011716672 3113011716672\n",
      "[1, 777, 3, 4]\n",
      "True\n"
     ]
    }
   ],
   "source": [
    "x=[1,2,3,4]\n",
    "y=x\n",
    "print(id(x),id(y))\n",
    "y[1]=777\n",
    "print(x)\n",
    "print(x is y)\n",
    "# In this above code there is a problem\n",
    "# we changed the value of y but x is affected\n",
    "# To solve this we use copy function \n",
    "#  Or by using slice operator"
   ]
  },
  {
   "cell_type": "code",
   "execution_count": 64,
   "id": "5696bb6e",
   "metadata": {},
   "outputs": [
    {
     "name": "stdout",
     "output_type": "stream",
     "text": [
      "False [1, 2, 3, 4] [1, 2, 3, 4]\n",
      "False [1, 777] [1, 2, 3, 4]\n"
     ]
    }
   ],
   "source": [
    "x=[1,2,3,4]\n",
    "y=x[:]\n",
    "print(y is x , y ,x)\n",
    "# EIther you can use slice operator \n",
    "y=[1,777]\n",
    "print(y is x , y ,x)\n"
   ]
  },
  {
   "cell_type": "code",
   "execution_count": 66,
   "id": "f1fc0346",
   "metadata": {},
   "outputs": [
    {
     "name": "stdout",
     "output_type": "stream",
     "text": [
      "False [10, 20, 30] [10, 7, 30]\n"
     ]
    }
   ],
   "source": [
    "# BY using copy function\n",
    "x=[10,20,30]\n",
    "y=x.copy()\n",
    "y[1]=7\n",
    "print(x is y , x ,y)"
   ]
  },
  {
   "cell_type": "code",
   "execution_count": 69,
   "id": "1e4317e8",
   "metadata": {},
   "outputs": [
    {
     "name": "stdout",
     "output_type": "stream",
     "text": [
      "[10, 20, 30, 40, 50, 60]\n",
      "[10, 20, 30, 10, 20, 30, 10, 20, 30]\n",
      "[10, 20, 30, 40]\n"
     ]
    }
   ],
   "source": [
    "# Concetanation in list\n",
    "# We can use * and + operator to Concetanation and list repitation\n",
    "a=[10,20,30]\n",
    "b=[40,50,60]\n",
    "c=a+b\n",
    "d=a*3\n",
    "e=a+[40]\n",
    "print(c)\n",
    "print(d)\n",
    "print(e)"
   ]
  },
  {
   "cell_type": "code",
   "execution_count": 70,
   "id": "6ff43597",
   "metadata": {},
   "outputs": [
    {
     "name": "stdout",
     "output_type": "stream",
     "text": [
      "[1, 2, 3, 5, 4, 6, 77]\n",
      "[]\n"
     ]
    }
   ],
   "source": [
    "# We have another feature called clear function which clears all the elements\n",
    "a=[1,2,3,5,4,6,77]\n",
    "print(a)\n",
    "a.clear()\n",
    "print(a)\n"
   ]
  },
  {
   "cell_type": "code",
   "execution_count": 74,
   "id": "458ac34f",
   "metadata": {},
   "outputs": [
    {
     "name": "stdout",
     "output_type": "stream",
     "text": [
      "90\n",
      "[10, 20, [50, 8]]\n"
     ]
    }
   ],
   "source": [
    "# Nested list\n",
    "n=[10,20,[50,90]]\n",
    "print(n[2][1])\n",
    "n[2][1]=8\n",
    "print(n)"
   ]
  },
  {
   "cell_type": "code",
   "execution_count": 75,
   "id": "f9fd342c",
   "metadata": {},
   "outputs": [
    {
     "name": "stdout",
     "output_type": "stream",
     "text": [
      "1 2 3 \n",
      "4 5 6 \n",
      "7 8 9 \n"
     ]
    }
   ],
   "source": [
    "n=[[1,2,3],[4,5,6],[7,8,9]]\n",
    "for i in n:\n",
    "    for j in i:\n",
    "        print(j,end=\" \")\n",
    "    print(\"\")"
   ]
  },
  {
   "cell_type": "code",
   "execution_count": 77,
   "id": "906d15fa",
   "metadata": {},
   "outputs": [
    {
     "name": "stdout",
     "output_type": "stream",
     "text": [
      "[1, 4, 9, 16, 25, 36, 49, 64, 81]\n"
     ]
    }
   ],
   "source": [
    "# List Comprehension\n",
    "s=[x*x for x in range(1,10) ]\n",
    "print(s)"
   ]
  },
  {
   "cell_type": "code",
   "execution_count": 6,
   "id": "77ee65fa",
   "metadata": {},
   "outputs": [],
   "source": [
    "s=[2* x for x in range(1,21) if x %2==0 ]"
   ]
  },
  {
   "cell_type": "code",
   "execution_count": 79,
   "id": "4008d5e9",
   "metadata": {},
   "outputs": [
    {
     "name": "stdout",
     "output_type": "stream",
     "text": [
      "[4, 8, 12, 16, 20, 24, 28, 32, 36]\n"
     ]
    }
   ],
   "source": [
    "v=[2*x for x in range(1,20) if x%2==0]\n",
    "print(v)"
   ]
  },
  {
   "cell_type": "code",
   "execution_count": 100,
   "id": "8a21ca90",
   "metadata": {},
   "outputs": [
    {
     "name": "stdout",
     "output_type": "stream",
     "text": [
      "{1, 2, 3, 5}\n",
      "{0, 1, 2, 3, 4, 5, 10, 46, 56}\n",
      "{0, 1, 2, 3, 4, 5, 10, 46, 56} False True\n",
      "{1, 2, 3, 4, 5, 10, 46, 56}\n",
      "1\n",
      "{2, 3, 4, 5, 10, 46, 56}\n",
      "{2, 3, 4, 5, 10, 56}\n",
      "{2, 3, 4, 5, 10}\n",
      "{2, 3, 4, 5, 10}\n",
      "set()\n"
     ]
    }
   ],
   "source": [
    "# set\n",
    "s={1,2,5}\n",
    "s.add(3) # Adds just one element\n",
    "print(s)\n",
    "s.update([10,56,46],range(5))\n",
    "print(s)\n",
    "s1=s.copy() # copies the set into another separate object\n",
    "s2=s\n",
    "print(s1,s1 is s,s2 is s)\n",
    "s1.pop()\n",
    "print(s1)\n",
    "print(s1.pop())# Pops the element out\n",
    "print(s1)\n",
    "s1.remove(46)\n",
    "# The above line remove function removes the given element out of set but if you give element which is not present it will give you an error\n",
    "print(s1)\n",
    "s1.discard(56)\n",
    "print(s1)\n",
    "s1.discard(56)\n",
    "# Once the 56 element is deleted again it will not be there But in this case while using the discard function we wont get the value error\n",
    "print(s1)\n",
    "# the clear function just removes all the elements from the set and it just gives an empty set\n",
    "s1.clear()\n",
    "print(s1)"
   ]
  },
  {
   "cell_type": "code",
   "execution_count": 107,
   "id": "dc31ba91",
   "metadata": {},
   "outputs": [
    {
     "name": "stdout",
     "output_type": "stream",
     "text": [
      "{40, 10, 50, 20, 60, 30}\n",
      "{40, 30}\n",
      "{10, 20}\n",
      "{10, 50, 20, 60}\n"
     ]
    }
   ],
   "source": [
    "# Union concept\n",
    "s1={10,20,30,40}\n",
    "s2={30,40,50,60}\n",
    "print(s1.union(s2))\n",
    "print(s1.intersection(s2))\n",
    "print(s1.difference(s2))\n",
    "print(s1.symmetric_difference(s2))"
   ]
  },
  {
   "cell_type": "code",
   "execution_count": 108,
   "id": "1e13b1fc",
   "metadata": {},
   "outputs": [],
   "source": [
    "# SET comprehension is possible But set indexing and slicing is not possible"
   ]
  },
  {
   "cell_type": "code",
   "execution_count": 1,
   "id": "14373859",
   "metadata": {},
   "outputs": [
    {
     "data": {
      "text/plain": [
       "int"
      ]
     },
     "execution_count": 1,
     "metadata": {},
     "output_type": "execute_result"
    }
   ],
   "source": [
    "a=(10)\n",
    "type(a)"
   ]
  },
  {
   "cell_type": "code",
   "execution_count": 3,
   "id": "b4546a18",
   "metadata": {},
   "outputs": [
    {
     "data": {
      "text/plain": [
       "tuple"
      ]
     },
     "execution_count": 3,
     "metadata": {},
     "output_type": "execute_result"
    }
   ],
   "source": [
    "a=(90,)\n",
    "type(a)"
   ]
  },
  {
   "cell_type": "code",
   "execution_count": 12,
   "id": "7ab277a7",
   "metadata": {},
   "outputs": [
    {
     "name": "stdout",
     "output_type": "stream",
     "text": [
      "[20, 30, 40]\n",
      "[10, 20, 30, 40]\n",
      "[40, 30, 20, 10]\n"
     ]
    },
    {
     "ename": "IndexError",
     "evalue": "list index out of range",
     "output_type": "error",
     "traceback": [
      "\u001b[1;31m---------------------------------------------------------------------------\u001b[0m",
      "\u001b[1;31mIndexError\u001b[0m                                Traceback (most recent call last)",
      "\u001b[1;32m<ipython-input-12-396def85b5ed>\u001b[0m in \u001b[0;36m<module>\u001b[1;34m\u001b[0m\n\u001b[0;32m      3\u001b[0m \u001b[0mprint\u001b[0m\u001b[1;33m(\u001b[0m\u001b[0ma\u001b[0m\u001b[1;33m[\u001b[0m\u001b[1;33m-\u001b[0m\u001b[1;36m10\u001b[0m\u001b[1;33m:\u001b[0m\u001b[1;36m10\u001b[0m\u001b[1;33m]\u001b[0m\u001b[1;33m)\u001b[0m\u001b[1;33m\u001b[0m\u001b[1;33m\u001b[0m\u001b[0m\n\u001b[0;32m      4\u001b[0m \u001b[0mprint\u001b[0m\u001b[1;33m(\u001b[0m\u001b[0ma\u001b[0m\u001b[1;33m[\u001b[0m\u001b[1;33m:\u001b[0m\u001b[1;33m:\u001b[0m\u001b[1;33m-\u001b[0m\u001b[1;36m1\u001b[0m\u001b[1;33m]\u001b[0m\u001b[1;33m)\u001b[0m\u001b[1;33m\u001b[0m\u001b[1;33m\u001b[0m\u001b[0m\n\u001b[1;32m----> 5\u001b[1;33m \u001b[0ma\u001b[0m\u001b[1;33m[\u001b[0m\u001b[1;36m6\u001b[0m\u001b[1;33m]\u001b[0m\u001b[1;33m\u001b[0m\u001b[1;33m\u001b[0m\u001b[0m\n\u001b[0m",
      "\u001b[1;31mIndexError\u001b[0m: list index out of range"
     ]
    }
   ],
   "source": [
    "a=[10,20,30,40]\n",
    "print(a[1:10])\n",
    "print(a[-10:10])\n",
    "print(a[::-1])\n",
    "a[6]"
   ]
  },
  {
   "cell_type": "code",
   "execution_count": 13,
   "id": "0f325b6f",
   "metadata": {},
   "outputs": [
    {
     "name": "stdout",
     "output_type": "stream",
     "text": [
      "(20, 30, 40)\n",
      "(10, 20, 30, 40)\n",
      "(40, 30, 20, 10)\n"
     ]
    },
    {
     "ename": "IndexError",
     "evalue": "tuple index out of range",
     "output_type": "error",
     "traceback": [
      "\u001b[1;31m---------------------------------------------------------------------------\u001b[0m",
      "\u001b[1;31mIndexError\u001b[0m                                Traceback (most recent call last)",
      "\u001b[1;32m<ipython-input-13-f703682b82d4>\u001b[0m in \u001b[0;36m<module>\u001b[1;34m\u001b[0m\n\u001b[0;32m      3\u001b[0m \u001b[0mprint\u001b[0m\u001b[1;33m(\u001b[0m\u001b[0ma\u001b[0m\u001b[1;33m[\u001b[0m\u001b[1;33m-\u001b[0m\u001b[1;36m10\u001b[0m\u001b[1;33m:\u001b[0m\u001b[1;36m10\u001b[0m\u001b[1;33m]\u001b[0m\u001b[1;33m)\u001b[0m\u001b[1;33m\u001b[0m\u001b[1;33m\u001b[0m\u001b[0m\n\u001b[0;32m      4\u001b[0m \u001b[0mprint\u001b[0m\u001b[1;33m(\u001b[0m\u001b[0ma\u001b[0m\u001b[1;33m[\u001b[0m\u001b[1;33m:\u001b[0m\u001b[1;33m:\u001b[0m\u001b[1;33m-\u001b[0m\u001b[1;36m1\u001b[0m\u001b[1;33m]\u001b[0m\u001b[1;33m)\u001b[0m\u001b[1;33m\u001b[0m\u001b[1;33m\u001b[0m\u001b[0m\n\u001b[1;32m----> 5\u001b[1;33m \u001b[0mprint\u001b[0m\u001b[1;33m(\u001b[0m\u001b[0ma\u001b[0m\u001b[1;33m[\u001b[0m\u001b[1;36m6\u001b[0m\u001b[1;33m]\u001b[0m\u001b[1;33m)\u001b[0m\u001b[1;33m\u001b[0m\u001b[1;33m\u001b[0m\u001b[0m\n\u001b[0m",
      "\u001b[1;31mIndexError\u001b[0m: tuple index out of range"
     ]
    }
   ],
   "source": [
    "a=(10,20,30,40)\n",
    "print(a[1:10])\n",
    "print(a[-10:10])\n",
    "print(a[::-1])\n",
    "print(a[6])"
   ]
  },
  {
   "cell_type": "code",
   "execution_count": 4,
   "id": "783c2ff2",
   "metadata": {},
   "outputs": [
    {
     "name": "stdout",
     "output_type": "stream",
     "text": [
      "(1, 3, 4, 5, 6, 8, 9)\n"
     ]
    }
   ],
   "source": [
    "random_tuple=(1,6,5,8,4,3,9)\n",
    "tuplee=sorted(random_tuple)\n",
    "tuplee # This will return a list if you want tuple type cast it again\n",
    "tuplee=tuple(tuplee)\n",
    "print(tuplee)"
   ]
  },
  {
   "cell_type": "code",
   "execution_count": 8,
   "id": "c0e3a97c",
   "metadata": {},
   "outputs": [
    {
     "name": "stdout",
     "output_type": "stream",
     "text": [
      "1\n"
     ]
    }
   ],
   "source": [
    "# Tuples are immutable for example\n",
    "print(random_tuple[0])\n",
    "# random_tuple[0]=45\n",
    "#  you get an error while executing the above line"
   ]
  },
  {
   "cell_type": "code",
   "execution_count": 10,
   "id": "b65249c0",
   "metadata": {},
   "outputs": [
    {
     "data": {
      "text/plain": [
       "2"
      ]
     },
     "execution_count": 10,
     "metadata": {},
     "output_type": "execute_result"
    }
   ],
   "source": [
    "random_tuple=(1,6,5,8,7,8,5,1,3,4,3,9)\n",
    "random_tuple.index(5)"
   ]
  },
  {
   "cell_type": "code",
   "execution_count": 20,
   "id": "22780a8d",
   "metadata": {},
   "outputs": [
    {
     "ename": "TypeError",
     "evalue": "'int' object is not iterable",
     "output_type": "error",
     "traceback": [
      "\u001b[1;31m---------------------------------------------------------------------------\u001b[0m",
      "\u001b[1;31mTypeError\u001b[0m                                 Traceback (most recent call last)",
      "\u001b[1;32m<ipython-input-20-8cc33a46e90e>\u001b[0m in \u001b[0;36m<module>\u001b[1;34m\u001b[0m\n\u001b[1;32m----> 1\u001b[1;33m \u001b[0ma\u001b[0m\u001b[1;33m=\u001b[0m\u001b[0mtuple\u001b[0m\u001b[1;33m(\u001b[0m\u001b[1;36m1\u001b[0m\u001b[1;33m)\u001b[0m\u001b[1;33m\u001b[0m\u001b[1;33m\u001b[0m\u001b[0m\n\u001b[0m",
      "\u001b[1;31mTypeError\u001b[0m: 'int' object is not iterable"
     ]
    }
   ],
   "source": [
    "a=tuple(1)"
   ]
  },
  {
   "cell_type": "code",
   "execution_count": 12,
   "id": "b5035583",
   "metadata": {},
   "outputs": [
    {
     "data": {
      "text/plain": [
       "2"
      ]
     },
     "execution_count": 12,
     "metadata": {},
     "output_type": "execute_result"
    }
   ],
   "source": [
    "random_tuple.count(1)"
   ]
  },
  {
   "cell_type": "markdown",
   "id": "23bfe56d",
   "metadata": {},
   "source": [
    "# Zip"
   ]
  },
  {
   "cell_type": "code",
   "execution_count": 14,
   "id": "20d2db38",
   "metadata": {},
   "outputs": [
    {
     "data": {
      "text/plain": [
       "[('karnataka', 'bangalre'),\n",
       " ('Andhra', 'hyderabad'),\n",
       " ('Maharashtra', 'Munbai'),\n",
       " ('Tamil Nadu', 'chennai')]"
      ]
     },
     "execution_count": 14,
     "metadata": {},
     "output_type": "execute_result"
    }
   ],
   "source": [
    "state=[\"karnataka\",\"Andhra\",\"Maharashtra\",\"Tamil Nadu\"]\n",
    "capital=[\"bangalre\",\"hyderabad\",\"Munbai\",\"chennai\"]\n",
    "city_and_there_capitals=list(zip(state,capital))\n",
    "city_and_there_capitals"
   ]
  },
  {
   "cell_type": "markdown",
   "id": "5f5364d2",
   "metadata": {},
   "source": [
    "# Sets\n",
    "1. Sets are unordered collection of unique elements\n",
    "2. sets cannot have duplicates\n",
    "3. sets are mutable just like lists\n",
    "4. You can create an "
   ]
  },
  {
   "cell_type": "code",
   "execution_count": 15,
   "id": "2aa75eea",
   "metadata": {},
   "outputs": [
    {
     "ename": "TypeError",
     "evalue": "'int' object is not iterable",
     "output_type": "error",
     "traceback": [
      "\u001b[1;31m---------------------------------------------------------------------------\u001b[0m",
      "\u001b[1;31mTypeError\u001b[0m                                 Traceback (most recent call last)",
      "\u001b[1;32m<ipython-input-15-8cc33a46e90e>\u001b[0m in \u001b[0;36m<module>\u001b[1;34m\u001b[0m\n\u001b[1;32m----> 1\u001b[1;33m \u001b[0ma\u001b[0m\u001b[1;33m=\u001b[0m\u001b[0mtuple\u001b[0m\u001b[1;33m(\u001b[0m\u001b[1;36m1\u001b[0m\u001b[1;33m)\u001b[0m\u001b[1;33m\u001b[0m\u001b[1;33m\u001b[0m\u001b[0m\n\u001b[0m",
      "\u001b[1;31mTypeError\u001b[0m: 'int' object is not iterable"
     ]
    }
   ],
   "source": []
  },
  {
   "cell_type": "code",
   "execution_count": 21,
   "id": "5e0f67a7",
   "metadata": {},
   "outputs": [
    {
     "data": {
      "text/plain": [
       "set()"
      ]
     },
     "execution_count": 21,
     "metadata": {},
     "output_type": "execute_result"
    }
   ],
   "source": [
    "# How to create an empty set\n",
    "empty_set=set()\n",
    "empty_set"
   ]
  },
  {
   "cell_type": "code",
   "execution_count": 26,
   "id": "03833eea",
   "metadata": {},
   "outputs": [
    {
     "data": {
      "text/plain": [
       "{2, 3, 4, 6, 7, 9, 11}"
      ]
     },
     "execution_count": 26,
     "metadata": {},
     "output_type": "execute_result"
    }
   ],
   "source": [
    "# Non empty set\n",
    "non_empty_set={4,6,7,9,2,3,11}\n",
    "non_empty_set"
   ]
  },
  {
   "cell_type": "code",
   "execution_count": 27,
   "id": "3fefec26",
   "metadata": {},
   "outputs": [
    {
     "data": {
      "text/plain": [
       "{0, 1, 4, 5, 6, 8, 9, 32}"
      ]
     },
     "execution_count": 27,
     "metadata": {},
     "output_type": "execute_result"
    }
   ],
   "source": [
    "list1=[1,6,5,8,9,6,32,1,5,5,6,4,6,1,0]\n",
    "set1=set(list1)\n",
    "set1"
   ]
  },
  {
   "cell_type": "code",
   "execution_count": 36,
   "id": "78953e7e",
   "metadata": {},
   "outputs": [
    {
     "data": {
      "text/plain": [
       "{(3, 5), 1, 2}"
      ]
     },
     "execution_count": 36,
     "metadata": {},
     "output_type": "execute_result"
    }
   ],
   "source": [
    "s1={1,2,(3,5)}\n",
    "s1"
   ]
  },
  {
   "cell_type": "code",
   "execution_count": 37,
   "id": "48d33684",
   "metadata": {},
   "outputs": [
    {
     "data": {
      "text/plain": [
       "{(3, 5), 1, 2, 95}"
      ]
     },
     "execution_count": 37,
     "metadata": {},
     "output_type": "execute_result"
    }
   ],
   "source": [
    "s1.add(95)\n",
    "s1"
   ]
  },
  {
   "cell_type": "code",
   "execution_count": 38,
   "id": "254cd469",
   "metadata": {},
   "outputs": [
    {
     "data": {
      "text/plain": [
       "{(3, 5), 2, 95}"
      ]
     },
     "execution_count": 38,
     "metadata": {},
     "output_type": "execute_result"
    }
   ],
   "source": [
    "s1.remove(1) # removing elements by value\n",
    "s1"
   ]
  },
  {
   "cell_type": "code",
   "execution_count": 41,
   "id": "5c8f0594",
   "metadata": {},
   "outputs": [
    {
     "data": {
      "text/plain": [
       "{95}"
      ]
     },
     "execution_count": 41,
     "metadata": {},
     "output_type": "execute_result"
    }
   ],
   "source": [
    "s1.pop() # Removing by index\n",
    "s1"
   ]
  },
  {
   "cell_type": "code",
   "execution_count": 42,
   "id": "95d468a0",
   "metadata": {},
   "outputs": [
    {
     "data": {
      "text/plain": [
       "{5, 6, 8, 9, 12, 77, 95}"
      ]
     },
     "execution_count": 42,
     "metadata": {},
     "output_type": "execute_result"
    }
   ],
   "source": [
    "s1.update([5,6,9,8,77,12])\n",
    "s1"
   ]
  },
  {
   "cell_type": "code",
   "execution_count": 53,
   "id": "4195ec14",
   "metadata": {},
   "outputs": [
    {
     "data": {
      "text/plain": [
       "{10, 20, 30, 40, 50, 60}"
      ]
     },
     "execution_count": 53,
     "metadata": {},
     "output_type": "execute_result"
    }
   ],
   "source": [
    "s1={10,20,30,40}\n",
    "s2={30,40,50,60}\n",
    "s1.union(s2)"
   ]
  },
  {
   "cell_type": "code",
   "execution_count": 44,
   "id": "e578fb14",
   "metadata": {},
   "outputs": [
    {
     "data": {
      "text/plain": [
       "{30, 40}"
      ]
     },
     "execution_count": 44,
     "metadata": {},
     "output_type": "execute_result"
    }
   ],
   "source": [
    "s1.intersection(s2)"
   ]
  },
  {
   "cell_type": "code",
   "execution_count": 45,
   "id": "a24a49b4",
   "metadata": {},
   "outputs": [
    {
     "data": {
      "text/plain": [
       "{10, 20}"
      ]
     },
     "execution_count": 45,
     "metadata": {},
     "output_type": "execute_result"
    }
   ],
   "source": [
    "s1.difference(s2)"
   ]
  },
  {
   "cell_type": "code",
   "execution_count": 47,
   "id": "9de9b0a9",
   "metadata": {},
   "outputs": [
    {
     "data": {
      "text/plain": [
       "{10, 20, 30, 40, 50, 60}"
      ]
     },
     "execution_count": 47,
     "metadata": {},
     "output_type": "execute_result"
    }
   ],
   "source": [
    "s1.symmetric_difference(s2)"
   ]
  },
  {
   "cell_type": "code",
   "execution_count": 48,
   "id": "fd3bd12a",
   "metadata": {},
   "outputs": [],
   "source": [
    "s1.difference_update(s2)"
   ]
  },
  {
   "cell_type": "code",
   "execution_count": 49,
   "id": "f16aae0d",
   "metadata": {},
   "outputs": [
    {
     "data": {
      "text/plain": [
       "{10, 20}"
      ]
     },
     "execution_count": 49,
     "metadata": {},
     "output_type": "execute_result"
    }
   ],
   "source": [
    "s1-s2"
   ]
  },
  {
   "cell_type": "code",
   "execution_count": 50,
   "id": "4bb41dc1",
   "metadata": {},
   "outputs": [
    {
     "data": {
      "text/plain": [
       "{30, 40, 50, 60}"
      ]
     },
     "execution_count": 50,
     "metadata": {},
     "output_type": "execute_result"
    }
   ],
   "source": [
    "s2-s1"
   ]
  },
  {
   "cell_type": "code",
   "execution_count": 54,
   "id": "7a923f95",
   "metadata": {},
   "outputs": [
    {
     "data": {
      "text/plain": [
       "{10, 20, 50, 60}"
      ]
     },
     "execution_count": 54,
     "metadata": {},
     "output_type": "execute_result"
    }
   ],
   "source": [
    "s1.symmetric_difference(s2)"
   ]
  },
  {
   "cell_type": "code",
   "execution_count": 58,
   "id": "fcd9ece2",
   "metadata": {},
   "outputs": [
    {
     "data": {
      "text/plain": [
       "'Milan'"
      ]
     },
     "execution_count": 58,
     "metadata": {},
     "output_type": "execute_result"
    }
   ],
   "source": [
    "di1={\"name1\":\"Milan\",\"age\":25,\"school\":\"LLES\"}\n",
    "di1.get(\"name1\",\"User Not found\")"
   ]
  },
  {
   "cell_type": "code",
   "execution_count": 59,
   "id": "b0ce7f2d",
   "metadata": {},
   "outputs": [
    {
     "data": {
      "text/plain": [
       "3"
      ]
     },
     "execution_count": 59,
     "metadata": {},
     "output_type": "execute_result"
    }
   ],
   "source": [
    "len(di1)"
   ]
  },
  {
   "cell_type": "code",
   "execution_count": 62,
   "id": "b192305f",
   "metadata": {},
   "outputs": [
    {
     "data": {
      "text/plain": [
       "[('karnataka', 'bangalre'),\n",
       " ('Andhra', 'hyderabad'),\n",
       " ('Maharashtra', 'Munbai'),\n",
       " ('Tamil Nadu', 'Chennai')]"
      ]
     },
     "execution_count": 62,
     "metadata": {},
     "output_type": "execute_result"
    }
   ],
   "source": [
    "state=[(\"karnataka\",\"bangalre\"),(\"Andhra\",\"hyderabad\"),(\"Maharashtra\",\"Munbai\"),(\"Tamil Nadu\",\"Chennai\")]\n",
    "state"
   ]
  },
  {
   "cell_type": "code",
   "execution_count": 65,
   "id": "a5b5a441",
   "metadata": {},
   "outputs": [
    {
     "data": {
      "text/plain": [
       "{'karnataka': 'bangalre',\n",
       " 'Andhra': 'hyderabad',\n",
       " 'Maharashtra': 'Munbai',\n",
       " 'Tamil Nadu': 'Chennai'}"
      ]
     },
     "execution_count": 65,
     "metadata": {},
     "output_type": "execute_result"
    }
   ],
   "source": [
    "d1=dict(state)\n",
    "d1"
   ]
  },
  {
   "cell_type": "code",
   "execution_count": 66,
   "id": "45dad0f1",
   "metadata": {},
   "outputs": [
    {
     "data": {
      "text/plain": [
       "{'Andhra': 'hyderabad', 'Maharashtra': 'Munbai', 'Tamil Nadu': 'Chennai'}"
      ]
     },
     "execution_count": 66,
     "metadata": {},
     "output_type": "execute_result"
    }
   ],
   "source": [
    "d1.pop(\"karnataka\")\n",
    "d1"
   ]
  },
  {
   "cell_type": "code",
   "execution_count": 68,
   "id": "05bde36a",
   "metadata": {},
   "outputs": [
    {
     "data": {
      "text/plain": [
       "{'Andhra': 'hyderabad', 'Maharashtra': 'Munbai'}"
      ]
     },
     "execution_count": 68,
     "metadata": {},
     "output_type": "execute_result"
    }
   ],
   "source": [
    "d1.popitem()\n",
    "d1"
   ]
  },
  {
   "cell_type": "code",
   "execution_count": 71,
   "id": "0252dd51",
   "metadata": {},
   "outputs": [
    {
     "data": {
      "text/plain": [
       "[1, 2, 6, [5, 5]]"
      ]
     },
     "execution_count": 71,
     "metadata": {},
     "output_type": "execute_result"
    }
   ],
   "source": [
    "# New Immutablity trick about list\n",
    "li1=[1,2,3,[4,5]]\n",
    "li2=li1\n",
    "li1[3][0]=5\n",
    "li2\n",
    "li1[2]=6\n",
    "li2"
   ]
  },
  {
   "cell_type": "code",
   "execution_count": 73,
   "id": "3674f298",
   "metadata": {},
   "outputs": [
    {
     "ename": "TypeError",
     "evalue": "unhashable type: 'list'",
     "output_type": "error",
     "traceback": [
      "\u001b[1;31m---------------------------------------------------------------------------\u001b[0m",
      "\u001b[1;31mTypeError\u001b[0m                                 Traceback (most recent call last)",
      "\u001b[1;32m<ipython-input-73-a57902085012>\u001b[0m in \u001b[0;36m<module>\u001b[1;34m\u001b[0m\n\u001b[1;32m----> 1\u001b[1;33m \u001b[0ms\u001b[0m\u001b[1;33m=\u001b[0m\u001b[1;33m{\u001b[0m\u001b[1;36m1\u001b[0m\u001b[1;33m,\u001b[0m\u001b[1;36m2\u001b[0m\u001b[1;33m,\u001b[0m\u001b[1;36m3\u001b[0m\u001b[1;33m,\u001b[0m\u001b[1;36m4\u001b[0m\u001b[1;33m,\u001b[0m\u001b[1;33m[\u001b[0m\u001b[1;36m1\u001b[0m\u001b[1;33m,\u001b[0m\u001b[1;36m2\u001b[0m\u001b[1;33m,\u001b[0m\u001b[1;36m5\u001b[0m\u001b[1;33m]\u001b[0m\u001b[1;33m}\u001b[0m\u001b[1;33m\u001b[0m\u001b[1;33m\u001b[0m\u001b[0m\n\u001b[0m\u001b[0;32m      2\u001b[0m \u001b[1;31m# A set cannot have mutable items so we cant add things like set dict list only we can store tuple\u001b[0m\u001b[1;33m\u001b[0m\u001b[1;33m\u001b[0m\u001b[1;33m\u001b[0m\u001b[0m\n",
      "\u001b[1;31mTypeError\u001b[0m: unhashable type: 'list'"
     ]
    }
   ],
   "source": [
    "s={1,2,3,4,[1,2,5]}\n",
    "# A set cannot have mutable items so we cant add things like set dict list only we can store tuple"
   ]
  },
  {
   "cell_type": "code",
   "execution_count": null,
   "id": "2cc807d2",
   "metadata": {},
   "outputs": [],
   "source": []
  }
 ],
 "metadata": {
  "kernelspec": {
   "display_name": "Python 3",
   "language": "python",
   "name": "python3"
  },
  "language_info": {
   "codemirror_mode": {
    "name": "ipython",
    "version": 3
   },
   "file_extension": ".py",
   "mimetype": "text/x-python",
   "name": "python",
   "nbconvert_exporter": "python",
   "pygments_lexer": "ipython3",
   "version": "3.8.8"
  },
  "nbTranslate": {
   "displayLangs": [
    "*"
   ],
   "hotkey": "alt-t",
   "langInMainMenu": true,
   "sourceLang": "en",
   "targetLang": "fr",
   "useGoogleTranslate": true
  },
  "varInspector": {
   "cols": {
    "lenName": 16,
    "lenType": 16,
    "lenVar": 40
   },
   "kernels_config": {
    "python": {
     "delete_cmd_postfix": "",
     "delete_cmd_prefix": "del ",
     "library": "var_list.py",
     "varRefreshCmd": "print(var_dic_list())"
    },
    "r": {
     "delete_cmd_postfix": ") ",
     "delete_cmd_prefix": "rm(",
     "library": "var_list.r",
     "varRefreshCmd": "cat(var_dic_list()) "
    }
   },
   "types_to_exclude": [
    "module",
    "function",
    "builtin_function_or_method",
    "instance",
    "_Feature"
   ],
   "window_display": false
  }
 },
 "nbformat": 4,
 "nbformat_minor": 5
}
