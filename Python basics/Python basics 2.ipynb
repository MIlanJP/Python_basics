{
 "cells": [
  {
   "cell_type": "markdown",
   "id": "023eacd8",
   "metadata": {},
   "source": [
    "# Loops and iteration\n",
    "\n",
    "In python we have only two loops statements they are :\n",
    "1.\tfor loop\n",
    "2.\twhile loop\n",
    "Note : Switch statement is not there in python unlike java and C langauges\n",
    "\n",
    "# For Loops\n",
    "For loops acts as iterator in python  the for loop in python is used to iterate through an iterable objects like\n",
    "List,tuple,set,etc..\n",
    "# While Loops\n",
    "While loops are similar to if statements where as it executes on cycles if the conditions are true\n",
    "\n"
   ]
  },
  {
   "cell_type": "code",
   "execution_count": 1,
   "id": "9a4d85ab",
   "metadata": {},
   "outputs": [],
   "source": [
    "#  for item in object:\n",
    "#     statements to do stuff"
   ]
  },
  {
   "cell_type": "markdown",
   "id": "0863026d",
   "metadata": {},
   "source": [
    "The name item is left to the coder to use appropriate names that will make sense and will be able to understand the code while revisiting the code"
   ]
  },
  {
   "cell_type": "code",
   "execution_count": 3,
   "id": "52357c3a",
   "metadata": {},
   "outputs": [],
   "source": [
    "# Lets try some simple for loop \n",
    "got_houses=[\"stark\",\"Arryn\",\"Barathon\",\"Tuloy\",\"Grayjoy\",\"Travel\",\"Pokemon\",\"Degomon\",\"Doremon\",\"Indian\",\"National\",\"Security\"]"
   ]
  },
  {
   "cell_type": "code",
   "execution_count": 7,
   "id": "13a53e91",
   "metadata": {},
   "outputs": [
    {
     "name": "stdout",
     "output_type": "stream",
     "text": [
      "names are stark\n",
      "names are Arryn\n",
      "names are Barathon\n",
      "names are Tuloy\n",
      "names are Grayjoy\n",
      "names are Travel\n",
      "names are Pokemon\n",
      "names are Degomon\n",
      "names are Doremon\n",
      "names are Indian\n",
      "names are National\n",
      "names are Security\n"
     ]
    }
   ],
   "source": [
    "for names in got_houses:\n",
    "    print(f'names are {names}')"
   ]
  },
  {
   "cell_type": "code",
   "execution_count": 8,
   "id": "c3fd0021",
   "metadata": {},
   "outputs": [
    {
     "data": {
      "text/plain": [
       "['stark',\n",
       " 'Arryn',\n",
       " 'Barathon',\n",
       " 'Tuloy',\n",
       " 'Grayjoy',\n",
       " 'Travel',\n",
       " 'Pokemon',\n",
       " 'Degomon',\n",
       " 'Doremon',\n",
       " 'Indian',\n",
       " 'National',\n",
       " 'Security']"
      ]
     },
     "execution_count": 8,
     "metadata": {},
     "output_type": "execute_result"
    }
   ],
   "source": [
    "got_houses"
   ]
  },
  {
   "cell_type": "code",
   "execution_count": 11,
   "id": "e5af9e7b",
   "metadata": {},
   "outputs": [
    {
     "name": "stdout",
     "output_type": "stream",
     "text": [
      "The names are stark and the number are 0\n",
      "The names are Arryn and the number are 1\n",
      "The names are Barathon and the number are 2\n",
      "The names are Tuloy and the number are 3\n",
      "The names are Grayjoy and the number are 4\n",
      "The names are Travel and the number are 5\n",
      "The names are Pokemon and the number are 6\n",
      "The names are Degomon and the number are 7\n",
      "The names are Doremon and the number are 8\n",
      "The names are Indian and the number are 9\n",
      "The names are National and the number are 10\n",
      "The names are Security and the number are 11\n"
     ]
    }
   ],
   "source": [
    "# Another way of for loop\n",
    "for number,names in enumerate(got_houses):\n",
    "    print(f'The names are {names} and the number are {number}')\n",
    "# If you need to make use of index also then you need to use the enumerate function to iterate through the list"
   ]
  },
  {
   "cell_type": "code",
   "execution_count": 12,
   "id": "cab9cada",
   "metadata": {},
   "outputs": [],
   "source": [
    "x=1,2"
   ]
  },
  {
   "cell_type": "code",
   "execution_count": 13,
   "id": "fd0137ad",
   "metadata": {},
   "outputs": [
    {
     "data": {
      "text/plain": [
       "(1, 2)"
      ]
     },
     "execution_count": 13,
     "metadata": {},
     "output_type": "execute_result"
    }
   ],
   "source": [
    "x"
   ]
  },
  {
   "cell_type": "code",
   "execution_count": 14,
   "id": "7e798798",
   "metadata": {},
   "outputs": [
    {
     "data": {
      "text/plain": [
       "[(0, 1), (1, 2)]"
      ]
     },
     "execution_count": 14,
     "metadata": {},
     "output_type": "execute_result"
    }
   ],
   "source": [
    "list(enumerate(x))"
   ]
  },
  {
   "cell_type": "code",
   "execution_count": 17,
   "id": "40b55e2b",
   "metadata": {},
   "outputs": [
    {
     "data": {
      "text/plain": [
       "[(0, 'stark'),\n",
       " (1, 'Arryn'),\n",
       " (2, 'Barathon'),\n",
       " (3, 'Tuloy'),\n",
       " (4, 'Grayjoy'),\n",
       " (5, 'Travel'),\n",
       " (6, 'Pokemon'),\n",
       " (7, 'Degomon'),\n",
       " (8, 'Doremon'),\n",
       " (9, 'Indian'),\n",
       " (10, 'National'),\n",
       " (11, 'Security')]"
      ]
     },
     "execution_count": 17,
     "metadata": {},
     "output_type": "execute_result"
    }
   ],
   "source": [
    "list(enumerate(got_houses))\n",
    "# Using enumerate function you can join index to the list and store it in the tuple so that it results in lists of tuples contains key and value pair"
   ]
  },
  {
   "cell_type": "code",
   "execution_count": 18,
   "id": "492b7494",
   "metadata": {},
   "outputs": [
    {
     "data": {
      "text/plain": [
       "{0: 'stark',\n",
       " 1: 'Arryn',\n",
       " 2: 'Barathon',\n",
       " 3: 'Tuloy',\n",
       " 4: 'Grayjoy',\n",
       " 5: 'Travel',\n",
       " 6: 'Pokemon',\n",
       " 7: 'Degomon',\n",
       " 8: 'Doremon',\n",
       " 9: 'Indian',\n",
       " 10: 'National',\n",
       " 11: 'Security'}"
      ]
     },
     "execution_count": 18,
     "metadata": {},
     "output_type": "execute_result"
    }
   ],
   "source": [
    "dict(list(enumerate(got_houses)))\n",
    "# Using the enumerate function you can convert the list of tuples containing the key and value pair into dictionary"
   ]
  },
  {
   "cell_type": "markdown",
   "id": "0b81517a",
   "metadata": {},
   "source": [
    "# Example 2 (for Loop)"
   ]
  },
  {
   "cell_type": "code",
   "execution_count": 22,
   "id": "961a0fe7",
   "metadata": {},
   "outputs": [],
   "source": [
    "list_of_numbers=[1,2,3,4,5,6,7,8,9]\n",
    "list_of_numbers2=[1,2,4,6,11,14,17,20]"
   ]
  },
  {
   "cell_type": "code",
   "execution_count": 23,
   "id": "c6ec1c91",
   "metadata": {},
   "outputs": [
    {
     "name": "stdout",
     "output_type": "stream",
     "text": [
      "the square of number 1 is 1\n",
      "the square of number 2 is 4\n",
      "the square of number 4 is 16\n",
      "the square of number 6 is 36\n",
      "the square of number 11 is 121\n",
      "the square of number 14 is 196\n",
      "the square of number 17 is 289\n",
      "the square of number 20 is 400\n"
     ]
    }
   ],
   "source": [
    "# Printing the square of numbers in list using for loop\n",
    "for number in list_of_numbers2:\n",
    "    print(f'the square of number {number} is {number ** 2}')"
   ]
  },
  {
   "cell_type": "code",
   "execution_count": 24,
   "id": "b42109d6",
   "metadata": {},
   "outputs": [
    {
     "data": {
      "text/plain": [
       "[1, 4, 16, 36, 121, 196, 289, 400]"
      ]
     },
     "execution_count": 24,
     "metadata": {},
     "output_type": "execute_result"
    }
   ],
   "source": [
    "#  Suppose you dont want to print during execution of for loop and you want to just append the result to a separate list then you can try these things like code below\n",
    "squared_numbers=[]\n",
    "for number in list_of_numbers2:\n",
    "    squared_numbers.append(number**2)\n",
    "squared_numbers\n",
    "    "
   ]
  },
  {
   "cell_type": "code",
   "execution_count": 26,
   "id": "8f0898e0",
   "metadata": {},
   "outputs": [
    {
     "data": {
      "text/plain": [
       "{1: 1, 2: 4, 4: 16, 6: 36, 11: 121, 14: 196, 17: 289, 20: 400}"
      ]
     },
     "execution_count": 26,
     "metadata": {},
     "output_type": "execute_result"
    }
   ],
   "source": [
    "zipped_dict=dict(zip(list_of_numbers2,squared_numbers))\n",
    "zipped_dict"
   ]
  },
  {
   "cell_type": "code",
   "execution_count": 28,
   "id": "299e0bae",
   "metadata": {},
   "outputs": [
    {
     "name": "stdout",
     "output_type": "stream",
     "text": [
      "the odd number 1 has its squared number as 1 my master prohibits me from using odd numbers for squares but its okay\n",
      "the even number 2 has its squared number as 4\n",
      "the even number 4 has its squared number as 16\n",
      "the even number 6 has its squared number as 36\n",
      "the odd number 11 has its squared number as 121 my master prohibits me from using odd numbers for squares but its okay\n",
      "the even number 14 has its squared number as 196\n",
      "the odd number 17 has its squared number as 289 my master prohibits me from using odd numbers for squares but its okay\n",
      "the even number 20 has its squared number as 400\n"
     ]
    }
   ],
   "source": [
    "for number in list_of_numbers2:\n",
    "    if number %2 ==0:\n",
    "        squared_number=number**2\n",
    "        print(f'the even number {number} has its squared number as {squared_number}')\n",
    "    else:\n",
    "        squared_number=number**2\n",
    "        print(f'the odd number {number} has its squared number as {squared_number} my master prohibits me from using odd numbers for squares but its okay')"
   ]
  },
  {
   "cell_type": "code",
   "execution_count": 29,
   "id": "e2300b41",
   "metadata": {},
   "outputs": [
    {
     "data": {
      "text/plain": [
       "[0, 1, 2, 3, 4, 5, 6, 7, 8, 9]"
      ]
     },
     "execution_count": 29,
     "metadata": {},
     "output_type": "execute_result"
    }
   ],
   "source": [
    "# Range function\n",
    "list(range(10))"
   ]
  },
  {
   "cell_type": "code",
   "execution_count": 33,
   "id": "e75e602a",
   "metadata": {},
   "outputs": [
    {
     "data": {
      "text/plain": [
       "[10, 9, 8, 7, 6, 5, 4, 3, 2]"
      ]
     },
     "execution_count": 33,
     "metadata": {},
     "output_type": "execute_result"
    }
   ],
   "source": [
    "list(range(10,1,-1))\n",
    "# Range to get numbers in reverse direction"
   ]
  },
  {
   "cell_type": "code",
   "execution_count": 35,
   "id": "d45600df",
   "metadata": {},
   "outputs": [
    {
     "data": {
      "text/plain": [
       "[100,\n",
       " 95,\n",
       " 90,\n",
       " 85,\n",
       " 80,\n",
       " 75,\n",
       " 70,\n",
       " 65,\n",
       " 60,\n",
       " 55,\n",
       " 50,\n",
       " 45,\n",
       " 40,\n",
       " 35,\n",
       " 30,\n",
       " 25,\n",
       " 20,\n",
       " 15,\n",
       " 10,\n",
       " 5]"
      ]
     },
     "execution_count": 35,
     "metadata": {},
     "output_type": "execute_result"
    }
   ],
   "source": [
    "list(range(100,0,-5))\n",
    "# getting list in reverse from 100 to 0 in reverse in 5 step jumps"
   ]
  },
  {
   "cell_type": "code",
   "execution_count": 42,
   "id": "9158f537",
   "metadata": {},
   "outputs": [
    {
     "data": {
      "text/plain": [
       "[(0, 'a'),\n",
       " (1, 'b'),\n",
       " (2, 'c'),\n",
       " (3, 'd'),\n",
       " (4, 'e'),\n",
       " (5, 'f'),\n",
       " (6, 'g'),\n",
       " (7, 'h'),\n",
       " (8, 'i'),\n",
       " (9, 'j'),\n",
       " (10, 'k'),\n",
       " (11, 'l'),\n",
       " (12, 'm'),\n",
       " (13, 'n'),\n",
       " (14, 'o'),\n",
       " (15, 'p'),\n",
       " (16, 'q'),\n",
       " (17, 'r'),\n",
       " (18, 's'),\n",
       " (19, 't'),\n",
       " (20, 'u'),\n",
       " (21, 'v'),\n",
       " (22, 'w'),\n",
       " (23, 'x'),\n",
       " (24, 'y'),\n",
       " (25, 'z')]"
      ]
     },
     "execution_count": 42,
     "metadata": {},
     "output_type": "execute_result"
    }
   ],
   "source": [
    "import string\n",
    "list(enumerate(string.ascii_lowercase))"
   ]
  },
  {
   "cell_type": "code",
   "execution_count": 44,
   "id": "a4764479",
   "metadata": {},
   "outputs": [
    {
     "name": "stdout",
     "output_type": "stream",
     "text": [
      "The number 0 has a squared number 0\n",
      "The number 2 has a squared number 4\n",
      "The number 4 has a squared number 16\n",
      "The number 6 has a squared number 36\n",
      "The number 8 has a squared number 64\n"
     ]
    }
   ],
   "source": [
    "for number in range(0,10,2):\n",
    "    squared_number=number**2\n",
    "    print(f'The number {number} has a squared number {squared_number}')"
   ]
  },
  {
   "cell_type": "code",
   "execution_count": 46,
   "id": "76922bc8",
   "metadata": {},
   "outputs": [
    {
     "name": "stdout",
     "output_type": "stream",
     "text": [
      "2 4 6 8 10 12 14 16 18 20 "
     ]
    }
   ],
   "source": [
    "for i in range(2,21,2):\n",
    "    print(i,end=\" \")"
   ]
  },
  {
   "cell_type": "code",
   "execution_count": 47,
   "id": "525fb8a0",
   "metadata": {},
   "outputs": [
    {
     "name": "stdout",
     "output_type": "stream",
     "text": [
      "[1, 2, 4, 6, 11, 14, 17, 20]\n"
     ]
    }
   ],
   "source": [
    "print(list_of_numbers2)"
   ]
  },
  {
   "cell_type": "code",
   "execution_count": 52,
   "id": "a5870127",
   "metadata": {},
   "outputs": [
    {
     "name": "stdout",
     "output_type": "stream",
     "text": [
      "the sums of squares update 1\n",
      "the sums of squares update 5\n",
      "the sums of squares update 21\n",
      "the sums of squares update 57\n",
      "the sums of squares update 178\n",
      "the sums of squares update 374\n",
      "the sums of squares update 663\n",
      "the sums of squares update 1063\n",
      "the final squares are 1063\n",
      "the square sum update is 1\n",
      "the square sum update is 3\n",
      "the square sum update is 6\n",
      "the square sum update is 10\n",
      "the square sum update is 15\n",
      "the square sum update is 21\n",
      "the square sum update is 28\n",
      "the square sum update is 36\n",
      "the square sum update is 45\n",
      "the square sum update is 55\n",
      "the sum of squares are 55\n"
     ]
    }
   ],
   "source": [
    "# Calculate the sum of the squares\n",
    "sum=0\n",
    "for i in list_of_numbers2:\n",
    "    sum+=i**2\n",
    "    print(f'the sums of squares update {sum}')\n",
    "print(f'the final squares are {sum}')\n",
    "# Do the same for the range from 0 to 11\n",
    "sum=0\n",
    "for i in range(1,11):\n",
    "    sum+=i\n",
    "    print(f'the square sum update is {sum}')\n",
    "print(f'the sum of squares are {sum}')\n",
    "    "
   ]
  },
  {
   "cell_type": "markdown",
   "id": "8755a425",
   "metadata": {},
   "source": [
    "# Now lets try doing iteration to all the objects in python"
   ]
  },
  {
   "cell_type": "code",
   "execution_count": 2,
   "id": "5538805a",
   "metadata": {},
   "outputs": [],
   "source": [
    "# First lets start with the string\n",
    "string1=\"Iam the one who knocks\""
   ]
  },
  {
   "cell_type": "code",
   "execution_count": 5,
   "id": "185b55be",
   "metadata": {},
   "outputs": [
    {
     "name": "stdout",
     "output_type": "stream",
     "text": [
      "Iam the one who knocks"
     ]
    }
   ],
   "source": [
    "for letter in string1:\n",
    "    print(letter,end='')\n",
    "#  the print is given without going to next line"
   ]
  },
  {
   "cell_type": "code",
   "execution_count": 6,
   "id": "07ef003b",
   "metadata": {},
   "outputs": [],
   "source": [
    "string1=\"Iam the one who knocks and my name is milan and am gonna enter the almaz placement very soon\""
   ]
  },
  {
   "cell_type": "code",
   "execution_count": 7,
   "id": "2d1e16d6",
   "metadata": {},
   "outputs": [
    {
     "name": "stdout",
     "output_type": "stream",
     "text": [
      "Iam\n",
      "the\n",
      "one\n",
      "who\n",
      "knocks\n",
      "and\n",
      "my\n",
      "name\n",
      "is\n",
      "milan\n",
      "and\n",
      "am\n",
      "gonna\n",
      "enter\n",
      "the\n",
      "almaz\n",
      "placement\n",
      "very\n",
      "soon\n"
     ]
    }
   ],
   "source": [
    "for word in string1.split():\n",
    "    print(word)\n",
    "#  using the split method uses "
   ]
  },
  {
   "cell_type": "code",
   "execution_count": 8,
   "id": "a8209c17",
   "metadata": {},
   "outputs": [
    {
     "name": "stdout",
     "output_type": "stream",
     "text": [
      "monday\n",
      "tuesday\n",
      "wednesday\n",
      "thursday\n",
      "friday\n",
      "saturday\n",
      "sunday\n"
     ]
    }
   ],
   "source": [
    "# Now doing iteration with tuples\n",
    "days=(\"monday\",\"tuesday\",\"wednesday\",\"thursday\",'friday','saturday',\"sunday\")\n",
    "for day in days:\n",
    "    print(day)"
   ]
  },
  {
   "cell_type": "code",
   "execution_count": 9,
   "id": "6a2aaa0f",
   "metadata": {},
   "outputs": [
    {
     "name": "stdout",
     "output_type": "stream",
     "text": [
      "India Ganga New Delhi\n",
      "Australia Rovers Canberra\n",
      "United States Missouri Washington DC\n",
      "England Thames London\n"
     ]
    }
   ],
   "source": [
    "country_city_river_list = [('India','New Delhi','Ganga'),('Australia','Canberra','Rovers'),('United States','Washington DC','Missouri'),('England','London','Thames')]\n",
    "\n",
    "for country,city,river in country_city_river_list:\n",
    "    print(country,river,city)"
   ]
  },
  {
   "cell_type": "code",
   "execution_count": 10,
   "id": "180c91d3",
   "metadata": {},
   "outputs": [
    {
     "name": "stdout",
     "output_type": "stream",
     "text": [
      "('India', 'New Delhi', 'Ganga')\n",
      "('Australia', 'Canberra', 'Rovers')\n",
      "('United States', 'Washington DC', 'Missouri')\n",
      "('England', 'London', 'Thames')\n"
     ]
    }
   ],
   "source": [
    "country_city_river_list = [('India','New Delhi','Ganga'),('Australia','Canberra','Rovers'),('United States','Washington DC','Missouri'),('England','London','Thames')]\n",
    "\n",
    "for country in country_city_river_list:\n",
    "    print(country)"
   ]
  },
  {
   "cell_type": "code",
   "execution_count": 11,
   "id": "051454f6",
   "metadata": {},
   "outputs": [],
   "source": [
    "country_city={'India': 'New Delhi', 'Australia': 'Canberra', 'United States': 'Washington DC', 'England': 'London'}\n"
   ]
  },
  {
   "cell_type": "code",
   "execution_count": 12,
   "id": "34ee352e",
   "metadata": {},
   "outputs": [
    {
     "name": "stdout",
     "output_type": "stream",
     "text": [
      "India\n",
      "Australia\n",
      "United States\n",
      "England\n"
     ]
    }
   ],
   "source": [
    "for item in country_city:\n",
    "    print(item)"
   ]
  },
  {
   "cell_type": "code",
   "execution_count": 67,
   "id": "cd172efb",
   "metadata": {},
   "outputs": [
    {
     "data": {
      "text/plain": [
       "dict_items([('India', 'New Delhi'), ('Australia', 'Canberra'), ('United States', 'Washington DC'), ('England', 'London')])"
      ]
     },
     "execution_count": 67,
     "metadata": {},
     "output_type": "execute_result"
    }
   ],
   "source": [
    "country_city.items()"
   ]
  },
  {
   "cell_type": "code",
   "execution_count": 70,
   "id": "c2cdabb5",
   "metadata": {},
   "outputs": [
    {
     "name": "stdout",
     "output_type": "stream",
     "text": [
      "India New Delhi\n",
      "Australia Canberra\n",
      "United States Washington DC\n",
      "England London\n"
     ]
    }
   ],
   "source": [
    "for country,city in country_city.items():\n",
    "    print(country,city)"
   ]
  },
  {
   "cell_type": "code",
   "execution_count": 73,
   "id": "882c3aa5",
   "metadata": {},
   "outputs": [
    {
     "name": "stdout",
     "output_type": "stream",
     "text": [
      "1\n",
      "2\n",
      "3\n"
     ]
    }
   ],
   "source": [
    "for i in {1,2,3}:\n",
    "    print(i)"
   ]
  },
  {
   "cell_type": "markdown",
   "id": "d3f8e900",
   "metadata": {},
   "source": [
    "# While loops"
   ]
  },
  {
   "cell_type": "code",
   "execution_count": 74,
   "id": "ff072672",
   "metadata": {},
   "outputs": [
    {
     "name": "stdout",
     "output_type": "stream",
     "text": [
      " X is currently 0\n",
      "X is still less than 10\n",
      " X is currently 1\n",
      "X is still less than 10\n",
      " X is currently 2\n",
      "X is still less than 10\n",
      " X is currently 3\n",
      "X is still less than 10\n",
      " X is currently 4\n",
      "X is still less than 10\n",
      " X is currently 5\n",
      "X is still less than 10\n",
      " X is currently 6\n",
      "X is still less than 10\n",
      " X is currently 7\n",
      "X is still less than 10\n",
      " X is currently 8\n",
      "X is still less than 10\n",
      " X is currently 9\n",
      "X is still less than 10\n"
     ]
    }
   ],
   "source": [
    "x=0\n",
    "while x < 10:\n",
    "    print(\" X is currently\",x)\n",
    "    print(\"X is still less than 10\")\n",
    "    x+=1"
   ]
  },
  {
   "cell_type": "code",
   "execution_count": 84,
   "id": "005b6f06",
   "metadata": {},
   "outputs": [
    {
     "name": "stdout",
     "output_type": "stream",
     "text": [
      "x is currently  0\n",
      "x is still less than 10, adding 1 to it \n",
      "x is currently  1\n",
      "x is still less than 10, adding 1 to it \n",
      "x is currently  2\n",
      "x is still less than 10, adding 1 to it \n",
      "X == 3\n"
     ]
    }
   ],
   "source": [
    "#  Break continue pass\n",
    "x=0\n",
    "\n",
    "while x <10:\n",
    "    print(\"x is currently \",x)\n",
    "    print(\"x is still less than 10, adding 1 to it \")\n",
    "    x+=1\n",
    "    if x==3:\n",
    "        print(\"X == 3\")\n",
    "        break\n",
    "    else:\n",
    "        print(\"continueing\")\n",
    "        continue\n",
    "    "
   ]
  },
  {
   "cell_type": "code",
   "execution_count": 89,
   "id": "3abf78a7",
   "metadata": {},
   "outputs": [
    {
     "name": "stdout",
     "output_type": "stream",
     "text": [
      "x is currently  0\n",
      "x is still less than 10, adding 1 to it \n",
      "end of while\n",
      "x is currently  1\n",
      "x is still less than 10, adding 1 to it \n",
      "end of while\n",
      "x is currently  2\n",
      "x is still less than 10, adding 1 to it \n",
      "X == 3\n",
      "x is currently  3\n",
      "x is still less than 10, adding 1 to it \n",
      "end of while\n",
      "x is currently  4\n",
      "x is still less than 10, adding 1 to it \n",
      "end of while\n",
      "x is currently  5\n",
      "x is still less than 10, adding 1 to it \n",
      "end of while\n",
      "x is currently  6\n",
      "x is still less than 10, adding 1 to it \n",
      "end of while\n",
      "x is currently  7\n",
      "x is still less than 10, adding 1 to it \n",
      "end of while\n",
      "x is currently  8\n",
      "x is still less than 10, adding 1 to it \n",
      "end of while\n",
      "x is currently  9\n",
      "x is still less than 10, adding 1 to it \n",
      "end of while\n",
      "continuiing\n"
     ]
    }
   ],
   "source": [
    "#  Break continue pass\n",
    "x=0\n",
    "\n",
    "while x <10:\n",
    "    print(\"x is currently \",x)\n",
    "    print(\"x is still less than 10, adding 1 to it \")\n",
    "    x+=1\n",
    "    if x==3:\n",
    "        print(\"X == 3\")\n",
    "        continue\n",
    "        print(\"HRRYYY\")\n",
    "    if True:\n",
    "        pass\n",
    "        print(\"end of while\")  \n",
    "else:\n",
    "    print(\"continuiing\")\n"
   ]
  },
  {
   "cell_type": "code",
   "execution_count": 82,
   "id": "272f63ec",
   "metadata": {},
   "outputs": [],
   "source": [
    "#  WE use pass because if we dont want to write any code in any statements at that time if we dont write code we get error from loop or conditon statement so in this condition we use pass keyword"
   ]
  },
  {
   "cell_type": "markdown",
   "id": "38a1980b",
   "metadata": {},
   "source": [
    "# LOOPS AND ITERATIONS CONCLUSIONS\n",
    "A.\tFOR LOOP\n",
    "1.\tFor loop iterating list\n",
    "2.\tFor loop using enumerate and getting index and element from the list, In this you get the list of tuple containing the key value pair\n",
    "3.\tHaving a list of number and print its square in output using for loop\n",
    "4.\tCreating an empty list and then appending it in each iteration of for loop and finally printing the list \n",
    "5.\tFor loop with condition printing even and squares and odd and its squares separately\n",
    "6.\tRange function simple example\n",
    "7.\tReverse example in range\n",
    "8.\tRange function using steps (jump) both in forward and reverse direction\n",
    "9.\tUsing for loop to calculate the sum of the number in the list and also the squares\n",
    "10.\tTaking a string and iterating the letters in string and printing using for loop\n",
    "11.\tTaking a word in sentence and iterating through the words in sentence using for loop\n",
    "12.\tTaking a tuple of days in a week and printing the day using for loop\n",
    "13.\tTaking the list which contains a tuple consisting of country capital and rivers and printing the country city and rivers in for loop by unpacking them\n",
    "14.\tHaving a list of country and its capital as keys and values respectively and using the methods dict.items() for iterating using for loop\n",
    "\n",
    "B.\tWHILE LOOP\n",
    "1.\tSimple while loop taking x as 0 and incrementing in each iteration of while loop while loop runs until the statement x< 10 gets false\n",
    "2.\tSimple while loop taking the statement till x<10 but breaking the loop in while statement using if condition where x==3 then break this BREAK keyword stop the while loop iteration it also works for FOR loop\n",
    "3.\tElse statement can also be used with the while loop if break is used then while loop cancels and also the else part gets cancelled and doesn’t execute\n",
    "4.\tContinue makes us to skip the iteration and make us move to the next iteration\n"
   ]
  },
  {
   "cell_type": "markdown",
   "id": "a5ddaaa7",
   "metadata": {},
   "source": [
    "# List Comprehension\n",
    "1. List comprehensions are the tool  for transforming one list (any iterable object) into another list\n",
    "2. During this transformation we can apply conditions also and filter the list and store in another list \n",
    "3. List comprehension in python are great but they are little tricky they don’t solve a new problem they just solve a new problem \n",
    "4. Every list comprehension can be re-written as for loop but not all the for loops can be re-written as list comprehension\n"
   ]
  },
  {
   "cell_type": "code",
   "execution_count": 3,
   "id": "947aeee8",
   "metadata": {},
   "outputs": [],
   "source": [
    "list_of_numbers=[1,2,4,6,11,14,17,20]"
   ]
  },
  {
   "cell_type": "code",
   "execution_count": 100,
   "id": "2db31d12",
   "metadata": {},
   "outputs": [
    {
     "name": "stdout",
     "output_type": "stream",
     "text": [
      "[1, 4, 16, 36, 121, 196, 289, 400]\n"
     ]
    }
   ],
   "source": [
    "squared_number=[]\n",
    "#  first write the for loop to store the squared numbers in list squared number\n",
    "for n in list_of_numbers:\n",
    "    squared_number.append(n**2)\n",
    "\n",
    "print(squared_number)"
   ]
  },
  {
   "cell_type": "code",
   "execution_count": 101,
   "id": "76c4eb64",
   "metadata": {},
   "outputs": [
    {
     "data": {
      "text/plain": [
       "[1, 4, 16, 36, 121, 196, 289, 400]"
      ]
     },
     "execution_count": 101,
     "metadata": {},
     "output_type": "execute_result"
    }
   ],
   "source": [
    "# Wrting the above operations using list comprehension\n",
    "squared_number1=[x**2 for x in list_of_numbers]\n",
    "squared_number1"
   ]
  },
  {
   "cell_type": "code",
   "execution_count": 102,
   "id": "ebe14306",
   "metadata": {},
   "outputs": [
    {
     "name": "stdout",
     "output_type": "stream",
     "text": [
      "[1, 2, 4, 6, 11, 14, 17, 20]\n",
      "[4, 16, 36, 196, 400]\n"
     ]
    }
   ],
   "source": [
    "# Now we will try something with using conditions\n",
    "# get the squares of the numbers which are even\n",
    "even_squared_number=[x**2 for x in list_of_numbers if x %2 ==0]\n",
    "print(list_of_numbers)\n",
    "print(even_squared_number)"
   ]
  },
  {
   "cell_type": "code",
   "execution_count": 105,
   "id": "7a1d5d07",
   "metadata": {},
   "outputs": [
    {
     "name": "stdout",
     "output_type": "stream",
     "text": [
      "[1, 2, 4, 6, 11, 14, 17, 20]\n",
      "[1, 121, 289]\n"
     ]
    }
   ],
   "source": [
    "# Writing the code for storing odd number  squares\n",
    "odd_squared_numbers=[x**2 for x in list_of_numbers if x % 2 !=0]\n",
    "print(list_of_numbers)\n",
    "print(odd_squared_numbers)"
   ]
  },
  {
   "cell_type": "code",
   "execution_count": 110,
   "id": "c217472b",
   "metadata": {},
   "outputs": [
    {
     "name": "stdout",
     "output_type": "stream",
     "text": [
      "[1, 2, 4, 6, 11, 14, 17, 20]\n"
     ]
    },
    {
     "data": {
      "text/plain": [
       "[1, 4, 16, 36, 1331, 196, 4913, 400]"
      ]
     },
     "execution_count": 110,
     "metadata": {},
     "output_type": "execute_result"
    }
   ],
   "source": [
    "# writing code for to save squares of even and cube of odds\n",
    "# sqaures_and_cubes=[x**2 for x in list_of_numbers if x % 2 ==0 if x % 2 !=0 else  x=x**2]\n",
    "#  ABove one is the wrong way of writing the list comprehension you need to write the if and else before for instead of after for\n",
    "\n",
    "sqaures_and_cubes=[x**2 if x % 2 ==0 else x **3 for x in list_of_numbers]\n",
    "print(list_of_numbers)\n",
    "sqaures_and_cubes\n"
   ]
  },
  {
   "cell_type": "code",
   "execution_count": 115,
   "id": "e224556d",
   "metadata": {},
   "outputs": [
    {
     "data": {
      "text/plain": [
       "[1, 4, 16, 36, 1331, 196, 4913, 400]"
      ]
     },
     "execution_count": 115,
     "metadata": {},
     "output_type": "execute_result"
    }
   ],
   "source": [
    "# Attempt to write the only if condition in list comprehension\n",
    "li1=[x**2 if x %2  == 0 else   x**3 for x in list_of_numbers ]\n",
    "li1"
   ]
  },
  {
   "cell_type": "code",
   "execution_count": 117,
   "id": "c48453ad",
   "metadata": {},
   "outputs": [
    {
     "name": "stdout",
     "output_type": "stream",
     "text": [
      "[0, 0, 0, 1, 1, 1, 2, 2, 2, 3, 3, 3]\n"
     ]
    }
   ],
   "source": [
    "# Nested for loop\n",
    "l1=[]\n",
    "for x in range(4):\n",
    "    for y in range(3):\n",
    "        l1.append(x)\n",
    "print(l1)"
   ]
  },
  {
   "cell_type": "code",
   "execution_count": 15,
   "id": "a9ca1f93",
   "metadata": {},
   "outputs": [
    {
     "data": {
      "text/plain": [
       "[(0, 0),\n",
       " (0, 1),\n",
       " (0, 2),\n",
       " (1, 0),\n",
       " (1, 1),\n",
       " (1, 2),\n",
       " (2, 0),\n",
       " (2, 1),\n",
       " (2, 2),\n",
       " (3, 0),\n",
       " (3, 1),\n",
       " (3, 2)]"
      ]
     },
     "execution_count": 15,
     "metadata": {},
     "output_type": "execute_result"
    }
   ],
   "source": [
    "# This is how the nested for loop in list comprehension looks\n",
    "l2=[(x,y) for x in range(4) for y in range(3)]\n",
    "l2"
   ]
  },
  {
   "cell_type": "code",
   "execution_count": 18,
   "id": "e17ab610",
   "metadata": {},
   "outputs": [
    {
     "data": {
      "text/plain": [
       "[[(1, 1), (1, 2)], [(2, 1), (2, 2)], [(3, 1), (3, 2)], [(4, 1), (4, 2)]]"
      ]
     },
     "execution_count": 18,
     "metadata": {},
     "output_type": "execute_result"
    }
   ],
   "source": [
    "# It is a two dimensional lists that is it is list of lists\n",
    "l3=[[(y,x) for x in range(1,3)] for y in range(1,5)]\n",
    "l3"
   ]
  },
  {
   "cell_type": "code",
   "execution_count": 126,
   "id": "2e93d6e8",
   "metadata": {},
   "outputs": [
    {
     "data": {
      "text/plain": [
       "[[[1, 2, 3, 4], [2, 4, 6, 8], [3, 6, 9, 12], [4, 8, 12, 16]],\n",
       " [[2, 4, 6, 8], [4, 8, 12, 16], [6, 12, 18, 24], [8, 16, 24, 32]],\n",
       " [[3, 6, 9, 12], [6, 12, 18, 24], [9, 18, 27, 36], [12, 24, 36, 48]],\n",
       " [[4, 8, 12, 16], [8, 16, 24, 32], [12, 24, 36, 48], [16, 32, 48, 64]]]"
      ]
     },
     "execution_count": 126,
     "metadata": {},
     "output_type": "execute_result"
    }
   ],
   "source": [
    "# Well this is the three dimensional lists i.e its called list of list of lists\n",
    "l4=[[[x*y*z for z in range(1,5)] for y in range (1,5)] for x in range(1,5)]\n",
    "l4"
   ]
  },
  {
   "cell_type": "markdown",
   "id": "402cf8eb",
   "metadata": {},
   "source": [
    "# List comprehension for String version"
   ]
  },
  {
   "cell_type": "code",
   "execution_count": 127,
   "id": "26924fa3",
   "metadata": {},
   "outputs": [],
   "source": [
    "heisenberg_quote = \"It ceases to exist without me. No, you clearly don't know who you're talking to, so let me clue you in. I am not in danger, Skyler. I am the danger.\""
   ]
  },
  {
   "cell_type": "code",
   "execution_count": 130,
   "id": "67747a19",
   "metadata": {},
   "outputs": [
    {
     "data": {
      "text/plain": [
       "['It ceases to exist without me',\n",
       " \" No, you clearly don't know who you're talking to, so let me clue you in\",\n",
       " ' I am not in danger, Skyler',\n",
       " ' I am the danger',\n",
       " '']"
      ]
     },
     "execution_count": 130,
     "metadata": {},
     "output_type": "execute_result"
    }
   ],
   "source": [
    "words_in_sentence=heisenberg_quote.split(\".\")\n",
    "words_in_sentence"
   ]
  },
  {
   "cell_type": "code",
   "execution_count": 135,
   "id": "7e182ff7",
   "metadata": {},
   "outputs": [
    {
     "data": {
      "text/plain": [
       "['It',\n",
       " 'ceases',\n",
       " 'to',\n",
       " 'exist',\n",
       " 'without',\n",
       " 'me.',\n",
       " 'No,',\n",
       " 'you',\n",
       " 'clearly',\n",
       " \"don't\",\n",
       " 'know',\n",
       " 'who',\n",
       " \"you're\",\n",
       " 'talking',\n",
       " 'to,',\n",
       " 'so',\n",
       " 'let',\n",
       " 'me',\n",
       " 'clue',\n",
       " 'you',\n",
       " 'in.',\n",
       " 'I',\n",
       " 'am',\n",
       " 'not',\n",
       " 'in',\n",
       " 'danger,',\n",
       " 'Skyler.',\n",
       " 'I',\n",
       " 'am',\n",
       " 'the',\n",
       " 'danger.']"
      ]
     },
     "execution_count": 135,
     "metadata": {},
     "output_type": "execute_result"
    }
   ],
   "source": [
    "words_in_sentence=heisenberg_quote.split(\" \")\n",
    "words_in_sentence"
   ]
  },
  {
   "cell_type": "code",
   "execution_count": 136,
   "id": "a1996fce",
   "metadata": {},
   "outputs": [
    {
     "data": {
      "text/plain": [
       "['I',\n",
       " 'c',\n",
       " 't',\n",
       " 'e',\n",
       " 'w',\n",
       " 'm',\n",
       " 'N',\n",
       " 'y',\n",
       " 'c',\n",
       " 'd',\n",
       " 'k',\n",
       " 'w',\n",
       " 'y',\n",
       " 't',\n",
       " 't',\n",
       " 's',\n",
       " 'l',\n",
       " 'm',\n",
       " 'c',\n",
       " 'y',\n",
       " 'i',\n",
       " 'I',\n",
       " 'a',\n",
       " 'n',\n",
       " 'i',\n",
       " 'd',\n",
       " 'S',\n",
       " 'I',\n",
       " 'a',\n",
       " 't',\n",
       " 'd']"
      ]
     },
     "execution_count": 136,
     "metadata": {},
     "output_type": "execute_result"
    }
   ],
   "source": [
    "# Storing the first letter from the first word\n",
    "first_letter_list=[]\n",
    "for i in words_in_sentence:\n",
    "    first_letter_list.append(i[0])\n",
    "first_letter_list\n",
    "#  Well the above operation can be performed using list comprehension"
   ]
  },
  {
   "cell_type": "code",
   "execution_count": 142,
   "id": "2b9af2b0",
   "metadata": {},
   "outputs": [
    {
     "name": "stdout",
     "output_type": "stream",
     "text": [
      "['I', 'c', 't', 'e', 'w', 'm', 'N', 'y', 'c', 'd', 'k', 'w', 'y', 't', 't', 's', 'l', 'm', 'c', 'y', 'i', 'I', 'a', 'n', 'i', 'd', 'S', 'I', 'a', 't', 'd'] ['I', 'c', 't', 'e', 'w', 'm', 'N', 'y', 'c', 'd', 'k', 'w', 'y', 't', 't', 's', 'l', 'm', 'c', 'y', 'i', 'I', 'a', 'n', 'i', 'd', 'S', 'I', 'a', 't', 'd']\n"
     ]
    }
   ],
   "source": [
    "first_letterss=[x[0] for x in words_in_sentence]\n",
    "first_letterss\n",
    "print(first_letter_list , first_letterss)"
   ]
  },
  {
   "cell_type": "code",
   "execution_count": 144,
   "id": "f247606f",
   "metadata": {},
   "outputs": [
    {
     "data": {
      "text/plain": [
       "['A', 'l', 'p', 'h', 'a', 'b', 'e', 't', ' ', 'I', 'n', 'c', '.']"
      ]
     },
     "execution_count": 144,
     "metadata": {},
     "output_type": "execute_result"
    }
   ],
   "source": [
    "my_string = 'Alphabet Inc.'\n",
    "list_of_characters=[x  for x in my_string]\n",
    "list_of_characters"
   ]
  },
  {
   "cell_type": "markdown",
   "id": "386ccdee",
   "metadata": {},
   "source": [
    "# List comprehension for tuples\n"
   ]
  },
  {
   "cell_type": "code",
   "execution_count": 145,
   "id": "2c499264",
   "metadata": {},
   "outputs": [],
   "source": [
    "days = ('Monday' ,'Tuesday' ,'Wednesday' ,'Thursday' ,'Friday','Saturday','Sunday')"
   ]
  },
  {
   "cell_type": "code",
   "execution_count": 147,
   "id": "d9385b50",
   "metadata": {},
   "outputs": [
    {
     "name": "stdout",
     "output_type": "stream",
     "text": [
      "Monday\n",
      "Tuesday\n",
      "Wednesday\n",
      "Thursday\n",
      "Friday\n",
      "Saturday\n",
      "Sunday\n"
     ]
    }
   ],
   "source": [
    "for day in days: print (day)"
   ]
  },
  {
   "cell_type": "code",
   "execution_count": 151,
   "id": "d2204e17",
   "metadata": {},
   "outputs": [
    {
     "data": {
      "text/plain": [
       "('Monday', 'Tuesday', 'Wednesday', 'Thursday', 'Friday', 'Saturday', 'Sunday')"
      ]
     },
     "execution_count": 151,
     "metadata": {},
     "output_type": "execute_result"
    }
   ],
   "source": [
    "x=tuple(day for day in days)\n",
    "x"
   ]
  },
  {
   "cell_type": "code",
   "execution_count": 153,
   "id": "883cc248",
   "metadata": {},
   "outputs": [
    {
     "data": {
      "text/plain": [
       "('Mon', 'Tues', 'Wednes', 'Thurs', 'Fri', 'Satur', 'Sun')"
      ]
     },
     "execution_count": 153,
     "metadata": {},
     "output_type": "execute_result"
    }
   ],
   "source": [
    "# Storing days without day\n",
    "without_day=tuple(x[:-3] for x in days)\n",
    "without_day"
   ]
  },
  {
   "cell_type": "markdown",
   "id": "30e73dfb",
   "metadata": {},
   "source": [
    "# Set Comprehension"
   ]
  },
  {
   "cell_type": "code",
   "execution_count": 154,
   "id": "d7c51cc0",
   "metadata": {},
   "outputs": [
    {
     "data": {
      "text/plain": [
       "['It',\n",
       " 'ceases',\n",
       " 'to',\n",
       " 'exist',\n",
       " 'without',\n",
       " 'me.',\n",
       " 'No,',\n",
       " 'you',\n",
       " 'clearly',\n",
       " \"don't\",\n",
       " 'know',\n",
       " 'who',\n",
       " \"you're\",\n",
       " 'talking',\n",
       " 'to,',\n",
       " 'so',\n",
       " 'let',\n",
       " 'me',\n",
       " 'clue',\n",
       " 'you',\n",
       " 'in.',\n",
       " 'I',\n",
       " 'am',\n",
       " 'not',\n",
       " 'in',\n",
       " 'danger,',\n",
       " 'Skyler.',\n",
       " 'I',\n",
       " 'am',\n",
       " 'the',\n",
       " 'danger.']"
      ]
     },
     "execution_count": 154,
     "metadata": {},
     "output_type": "execute_result"
    }
   ],
   "source": [
    "words_in_sentence"
   ]
  },
  {
   "cell_type": "code",
   "execution_count": 155,
   "id": "d388a049",
   "metadata": {},
   "outputs": [
    {
     "data": {
      "text/plain": [
       "{'I',\n",
       " 'N',\n",
       " 'S',\n",
       " 'a',\n",
       " 'c',\n",
       " 'd',\n",
       " 'e',\n",
       " 'i',\n",
       " 'k',\n",
       " 'l',\n",
       " 'm',\n",
       " 'n',\n",
       " 's',\n",
       " 't',\n",
       " 'w',\n",
       " 'y'}"
      ]
     },
     "execution_count": 155,
     "metadata": {},
     "output_type": "execute_result"
    }
   ],
   "source": [
    "# first words unique letters\n",
    "set_first_letter=set()\n",
    "for word in words_in_sentence:\n",
    "    set_first_letter.add(word[0])\n",
    "set_first_letter"
   ]
  },
  {
   "cell_type": "code",
   "execution_count": 156,
   "id": "95991e13",
   "metadata": {},
   "outputs": [
    {
     "data": {
      "text/plain": [
       "{'I',\n",
       " 'N',\n",
       " 'S',\n",
       " 'a',\n",
       " 'c',\n",
       " 'd',\n",
       " 'e',\n",
       " 'i',\n",
       " 'k',\n",
       " 'l',\n",
       " 'm',\n",
       " 'n',\n",
       " 's',\n",
       " 't',\n",
       " 'w',\n",
       " 'y'}"
      ]
     },
     "execution_count": 156,
     "metadata": {},
     "output_type": "execute_result"
    }
   ],
   "source": [
    "# Same as above using set comprehension\n",
    "set_first_letter1={x[0] for x in words_in_sentence}\n",
    "set_first_letter1"
   ]
  },
  {
   "cell_type": "markdown",
   "id": "8dbddce7",
   "metadata": {},
   "source": [
    "# List Comprehension"
   ]
  },
  {
   "cell_type": "code",
   "execution_count": 1,
   "id": "493ddb4b",
   "metadata": {},
   "outputs": [],
   "source": [
    "country_city_list = [('India','New Delhi'),('Australia','Canberra'),('United States','Washington DC'),('England','London')]"
   ]
  },
  {
   "cell_type": "code",
   "execution_count": 170,
   "id": "785c9339",
   "metadata": {},
   "outputs": [
    {
     "data": {
      "text/plain": [
       "{'India': 'New Delhi',\n",
       " 'Australia': 'Canberra',\n",
       " 'United States': 'Washington DC',\n",
       " 'England': 'London'}"
      ]
     },
     "execution_count": 170,
     "metadata": {},
     "output_type": "execute_result"
    }
   ],
   "source": [
    "country_city_dict=dict(country_city_list)\n",
    "country_city_dict"
   ]
  },
  {
   "cell_type": "code",
   "execution_count": 171,
   "id": "ebff72a1",
   "metadata": {},
   "outputs": [
    {
     "data": {
      "text/plain": [
       "{'New Delhi': 'India',\n",
       " 'Canberra': 'Australia',\n",
       " 'Washington DC': 'United States',\n",
       " 'London': 'England'}"
      ]
     },
     "execution_count": 171,
     "metadata": {},
     "output_type": "execute_result"
    }
   ],
   "source": [
    "# Now lets try swaping keys and variables of dict\n",
    "flipped={}\n",
    "for country,city in country_city_dict.items():\n",
    "    flipped[city]=country\n",
    "flipped"
   ]
  },
  {
   "cell_type": "code",
   "execution_count": 172,
   "id": "f4facadf",
   "metadata": {},
   "outputs": [
    {
     "data": {
      "text/plain": [
       "{'New Delhi': 'India',\n",
       " 'Canberra': 'Australia',\n",
       " 'Washington DC': 'United States',\n",
       " 'London': 'England'}"
      ]
     },
     "execution_count": 172,
     "metadata": {},
     "output_type": "execute_result"
    }
   ],
   "source": [
    "# How to swapp the keys and lists using list comprehension\n",
    "flipped2=dict([(city,country) for country,city in country_city_dict.items()])\n",
    "flipped2"
   ]
  },
  {
   "cell_type": "code",
   "execution_count": 173,
   "id": "547beb6c",
   "metadata": {},
   "outputs": [
    {
     "data": {
      "text/plain": [
       "{'India': 'New Delhi', 'Australia': 'Canberra'}"
      ]
     },
     "execution_count": 173,
     "metadata": {},
     "output_type": "execute_result"
    }
   ],
   "source": [
    "# Lets add some conditionals for dict comprehension\n",
    "flipped3={city:country for city,country, in country_city_dict.items() if city[0] not in [\"U\",\"E\"]}\n",
    "flipped3"
   ]
  },
  {
   "cell_type": "code",
   "execution_count": 174,
   "id": "79312e2b",
   "metadata": {},
   "outputs": [
    {
     "data": {
      "text/plain": [
       "{'Ind': 'New', 'Aus': 'Can', 'Uni': 'Was', 'Eng': 'Lon'}"
      ]
     },
     "execution_count": 174,
     "metadata": {},
     "output_type": "execute_result"
    }
   ],
   "source": [
    "# Lets add only first three letters from dict and create a new dict and also swao\n",
    "flipped4={city[:3]:country[:3] for city,country in country_city_dict.items()}\n",
    "flipped4"
   ]
  },
  {
   "cell_type": "code",
   "execution_count": 175,
   "id": "9ff80d39",
   "metadata": {},
   "outputs": [
    {
     "name": "stdout",
     "output_type": "stream",
     "text": [
      "{'India': 'New Delhi', 'Australia': 'Canberra', 'United States': 'Washington DC', 'England': 'London'}\n"
     ]
    }
   ],
   "source": [
    "print(country_city_dict)"
   ]
  },
  {
   "cell_type": "code",
   "execution_count": 179,
   "id": "e693faa2",
   "metadata": {},
   "outputs": [
    {
     "name": "stdout",
     "output_type": "stream",
     "text": [
      "ab\n",
      "cd\n"
     ]
    }
   ],
   "source": [
    "x = ['ab', 'cd']\n",
    "for i in x:\n",
    "#     x.append(i.upper())\n",
    "    print(i)\n",
    "# print(x) "
   ]
  },
  {
   "cell_type": "code",
   "execution_count": 180,
   "id": "58a88eb0",
   "metadata": {},
   "outputs": [
    {
     "name": "stdout",
     "output_type": "stream",
     "text": [
      "2\n"
     ]
    }
   ],
   "source": [
    "print(2)"
   ]
  },
  {
   "cell_type": "code",
   "execution_count": 10,
   "id": "a4c3f5e3",
   "metadata": {},
   "outputs": [
    {
     "data": {
      "text/plain": [
       "[0, 1, 4, 9, 16]"
      ]
     },
     "execution_count": 10,
     "metadata": {},
     "output_type": "execute_result"
    }
   ],
   "source": [
    "list(map(lambda x :x**2 ,range(5)))"
   ]
  },
  {
   "cell_type": "code",
   "execution_count": 24,
   "id": "19e3815b",
   "metadata": {},
   "outputs": [],
   "source": [
    "#  Lambda function\n",
    "x=lambda x : x **2 if(x%2==0) else x**3"
   ]
  },
  {
   "cell_type": "code",
   "execution_count": 26,
   "id": "96bef932",
   "metadata": {},
   "outputs": [
    {
     "data": {
      "text/plain": [
       "125"
      ]
     },
     "execution_count": 26,
     "metadata": {},
     "output_type": "execute_result"
    }
   ],
   "source": [
    "x(5)"
   ]
  },
  {
   "cell_type": "code",
   "execution_count": 27,
   "id": "156e0a86",
   "metadata": {},
   "outputs": [],
   "source": [
    "y= lambda a,b:a**b;"
   ]
  },
  {
   "cell_type": "code",
   "execution_count": 28,
   "id": "eb8306ef",
   "metadata": {},
   "outputs": [
    {
     "data": {
      "text/plain": [
       "27"
      ]
     },
     "execution_count": 28,
     "metadata": {},
     "output_type": "execute_result"
    }
   ],
   "source": [
    "y(3,3)"
   ]
  },
  {
   "cell_type": "markdown",
   "id": "db3c2d01",
   "metadata": {},
   "source": [
    "# Functions and method\n",
    "Functions will be the one of our building blocks when we construct larger and larger amount of code to solve problems\n",
    "\n",
    "What is a function?\n",
    "\n",
    "1. Formally a function is a useful device that groups together a set of statements so that they can run more than once,\n",
    "2. They also can let us specify the parameters that serve as input to the functions\n",
    "3. On a more fundamental the function allows us not to write not repeated codes \n",
    "4. Function is the most basic level of using the code in python\n",
    "# <code>def</code> Statements\n"
   ]
  },
  {
   "cell_type": "code",
   "execution_count": 16,
   "id": "1f8af5a6",
   "metadata": {},
   "outputs": [
    {
     "name": "stdout",
     "output_type": "stream",
     "text": [
      "Hey This is Milan\n"
     ]
    }
   ],
   "source": [
    "#  Lets see how to build functions\n",
    "def example_functions():\n",
    "    print(\"Hey This is Milan\")\n",
    "example_functions()"
   ]
  },
  {
   "cell_type": "code",
   "execution_count": 18,
   "id": "a0aa5dc3",
   "metadata": {},
   "outputs": [
    {
     "name": "stdout",
     "output_type": "stream",
     "text": [
      "Milan is from the place Bangalore\n"
     ]
    }
   ],
   "source": [
    "def function1(arg1,arg2):\n",
    "    print(f'{arg1} is from the place {arg2}')\n",
    "\n",
    "function1(\"Milan\",\"Bangalore\")"
   ]
  },
  {
   "cell_type": "markdown",
   "id": "61f609a9",
   "metadata": {},
   "source": [
    "We begin with the name of the function len() which is used to give the length of the elements in variables\n"
   ]
  },
  {
   "cell_type": "code",
   "execution_count": 19,
   "id": "b361a89f",
   "metadata": {},
   "outputs": [],
   "source": [
    "heisenberg_quote = \"It ceases to exist without me. No, you clearly don't know who you're talking to, so let me clue you in. I am not in danger, Skyler. I am the danger.\""
   ]
  },
  {
   "cell_type": "code",
   "execution_count": 20,
   "id": "9324e003",
   "metadata": {},
   "outputs": [
    {
     "data": {
      "text/plain": [
       "['I',\n",
       " 'c',\n",
       " 't',\n",
       " 'e',\n",
       " 'w',\n",
       " 'm',\n",
       " 'N',\n",
       " 'y',\n",
       " 'c',\n",
       " 'd',\n",
       " 'k',\n",
       " 'w',\n",
       " 'y',\n",
       " 't',\n",
       " 't',\n",
       " 's',\n",
       " 'l',\n",
       " 'm',\n",
       " 'c',\n",
       " 'y',\n",
       " 'i',\n",
       " 'I',\n",
       " 'a',\n",
       " 'n',\n",
       " 'i',\n",
       " 'd',\n",
       " 'S',\n",
       " 'I',\n",
       " 'a',\n",
       " 't',\n",
       " 'd']"
      ]
     },
     "execution_count": 20,
     "metadata": {},
     "output_type": "execute_result"
    }
   ],
   "source": [
    "first_letters=[word[0] for word in heisenberg_quote.split()]\n",
    "first_letters"
   ]
  },
  {
   "cell_type": "code",
   "execution_count": 21,
   "id": "e6f5c9fb",
   "metadata": {},
   "outputs": [],
   "source": [
    "def segregate_first_letters(sentence):\n",
    "    first_letters=[word[0] for word in sentence.split()]\n",
    "    return first_letters\n",
    "# The function returning the values"
   ]
  },
  {
   "cell_type": "code",
   "execution_count": 24,
   "id": "8fe952ce",
   "metadata": {},
   "outputs": [],
   "source": [
    "list_of_first_letters=segregate_first_letters(\"Hey This is Milan\")"
   ]
  },
  {
   "cell_type": "code",
   "execution_count": 25,
   "id": "fd5d9274",
   "metadata": {},
   "outputs": [
    {
     "name": "stdout",
     "output_type": "stream",
     "text": [
      "['H', 'T', 'i', 'M']\n"
     ]
    }
   ],
   "source": [
    "print(list_of_first_letters)"
   ]
  },
  {
   "cell_type": "code",
   "execution_count": 48,
   "id": "a261ca90",
   "metadata": {},
   "outputs": [],
   "source": [
    "# Writing a function for presenting the factorial of a number with conditions handling the zero and negative number\n",
    "def factorial(number):\n",
    "    if number < 0:\n",
    "        print(\"negative number not allowed\")\n",
    "    elif number > 0:\n",
    "        result=1\n",
    "        for i in range(1,number+1):\n",
    "            result*=i\n",
    "        print(f'The factorial number for {number} is {result}')\n",
    "        return result\n",
    "    else :\n",
    "        print(\"the factorial for 0 is 1\")\n",
    "        return 1"
   ]
  },
  {
   "cell_type": "code",
   "execution_count": 49,
   "id": "eb2b1de9",
   "metadata": {},
   "outputs": [
    {
     "name": "stdout",
     "output_type": "stream",
     "text": [
      "the factorial for 0 is 1\n"
     ]
    },
    {
     "data": {
      "text/plain": [
       "1"
      ]
     },
     "execution_count": 49,
     "metadata": {},
     "output_type": "execute_result"
    }
   ],
   "source": [
    "factorial(0)"
   ]
  },
  {
   "cell_type": "code",
   "execution_count": 50,
   "id": "b9bbc325",
   "metadata": {},
   "outputs": [
    {
     "name": "stdout",
     "output_type": "stream",
     "text": [
      "The factorial number for 4 is 24\n"
     ]
    },
    {
     "data": {
      "text/plain": [
       "24"
      ]
     },
     "execution_count": 50,
     "metadata": {},
     "output_type": "execute_result"
    }
   ],
   "source": [
    "factorial(4)\n"
   ]
  },
  {
   "cell_type": "code",
   "execution_count": 51,
   "id": "8c2a3d46",
   "metadata": {},
   "outputs": [
    {
     "name": "stdout",
     "output_type": "stream",
     "text": [
      "The factorial number for 3 is 6\n",
      "The factorial number for 5 is 120\n",
      "The factorial number for 8 is 40320\n",
      "The factorial number for 12 is 479001600\n",
      "The factorial number for 4 is 24\n",
      "The factorial number for 6 is 720\n"
     ]
    },
    {
     "data": {
      "text/plain": [
       "[6, 120, 40320, 479001600, 24, 720]"
      ]
     },
     "execution_count": 51,
     "metadata": {},
     "output_type": "execute_result"
    }
   ],
   "source": [
    "list_of_numbers = [3, 5, 8, 12, 4, 6]\n",
    "fact_list=[factorial(x) for x in list_of_numbers]\n",
    "fact_list"
   ]
  },
  {
   "cell_type": "code",
   "execution_count": 53,
   "id": "82707694",
   "metadata": {},
   "outputs": [
    {
     "name": "stdout",
     "output_type": "stream",
     "text": [
      "The factorial number for 3 is 6\n",
      "The factorial number for 5 is 120\n"
     ]
    },
    {
     "data": {
      "text/plain": [
       "[6, 120]"
      ]
     },
     "execution_count": 53,
     "metadata": {},
     "output_type": "execute_result"
    }
   ],
   "source": [
    "fact_list_odd=[factorial(x) for x in list_of_numbers if x %2 !=0]\n",
    "fact_list_odd"
   ]
  },
  {
   "cell_type": "code",
   "execution_count": 57,
   "id": "ff1f784c",
   "metadata": {},
   "outputs": [],
   "source": [
    "# Writing the function to decide the quarter of the date\n",
    "def assignQuarter(date):\n",
    "    quarter=\"\"\n",
    "    date_info=date.split(\"-\")\n",
    "    year=date_info[0]\n",
    "    month=date_info[1]\n",
    "    if (\"03\" >= month >= \"01\"  ):\n",
    "        quarter=year+\"-Q1\"\n",
    "    elif \"06\" >= month >=\"04\":\n",
    "        quarter=year+\"-Q2\"\n",
    "    elif \"09\" >= month >= \"07\":\n",
    "        quarter=year+\"-Q3\"\n",
    "    else:\n",
    "        quarter=year+\"-Q4\"\n",
    "    print(f\"The corresponding quarter for the date {date} is {quarter}\")\n",
    "        \n",
    "        "
   ]
  },
  {
   "cell_type": "code",
   "execution_count": 58,
   "id": "58f21237",
   "metadata": {},
   "outputs": [
    {
     "name": "stdout",
     "output_type": "stream",
     "text": [
      "The corresponding quarter for the date 2021-05-23 is 2021-Q2\n"
     ]
    }
   ],
   "source": [
    "assignQuarter(\"2021-05-23\")"
   ]
  },
  {
   "cell_type": "code",
   "execution_count": 61,
   "id": "c2814c8b",
   "metadata": {},
   "outputs": [],
   "source": [
    "#  Write a function to decide the given number is odd or even\n",
    "def check_odd_or_even(n):\n",
    "    if n%2==0:\n",
    "        return \"even\"\n",
    "    elif n%2!=0:\n",
    "        return \"odd\"\n",
    "    else: return"
   ]
  },
  {
   "cell_type": "code",
   "execution_count": 65,
   "id": "2ba72c85",
   "metadata": {},
   "outputs": [
    {
     "data": {
      "text/plain": [
       "'even'"
      ]
     },
     "execution_count": 65,
     "metadata": {},
     "output_type": "execute_result"
    }
   ],
   "source": [
    "check_odd_or_even(10)"
   ]
  },
  {
   "cell_type": "code",
   "execution_count": 1,
   "id": "635a641d",
   "metadata": {},
   "outputs": [],
   "source": [
    "heights =  [172,175,170,168,170,200]"
   ]
  },
  {
   "cell_type": "code",
   "execution_count": 2,
   "id": "90303477",
   "metadata": {},
   "outputs": [],
   "source": [
    "def print_mean_median(list_of_numbers):\n",
    "    mean=0\n",
    "    medain=0\n",
    "    mean=sum(list_of_numbers)/len(list_of_numbers)\n",
    "    print(len(list_of_numbers)/2)\n",
    "    list_of_sorted_no=sorted(list_of_numbers)\n",
    "#     print(list_of_numbers[int(len(list_of_numbers)/2)])\n",
    "#     print(list_of_numbers[int((len(list_of_numbers)/2)-1)])\n",
    "    if len(list_of_numbers) % 2 ==0:\n",
    "        median=((list_of_sorted_no[int((len(list_of_numbers)/2)-1)]) + (list_of_sorted_no[int(len(list_of_numbers)/2)]))/2\n",
    "    else:\n",
    "        median=(list_of_sorted_no[(len(list_of_numbers)+1)/2])\n",
    "    return median,mean\n",
    "    "
   ]
  },
  {
   "cell_type": "code",
   "execution_count": 3,
   "id": "d4dd3dd8",
   "metadata": {},
   "outputs": [
    {
     "name": "stdout",
     "output_type": "stream",
     "text": [
      "3.0\n"
     ]
    },
    {
     "data": {
      "text/plain": [
       "(171.0, 175.83333333333334)"
      ]
     },
     "execution_count": 3,
     "metadata": {},
     "output_type": "execute_result"
    }
   ],
   "source": [
    "print_mean_median(heights)"
   ]
  },
  {
   "cell_type": "code",
   "execution_count": 4,
   "id": "4357738f",
   "metadata": {},
   "outputs": [
    {
     "name": "stdout",
     "output_type": "stream",
     "text": [
      "3.0\n"
     ]
    }
   ],
   "source": [
    "mean_height,median_height=print_mean_median(heights)"
   ]
  },
  {
   "cell_type": "code",
   "execution_count": 5,
   "id": "adc92c14",
   "metadata": {},
   "outputs": [
    {
     "name": "stdout",
     "output_type": "stream",
     "text": [
      "171.0 175.83333333333334\n"
     ]
    }
   ],
   "source": [
    "print(mean_height, median_height)"
   ]
  },
  {
   "cell_type": "code",
   "execution_count": 6,
   "id": "36f4842e",
   "metadata": {},
   "outputs": [],
   "source": [
    "# Now lets write a function that takes the list and adds elements to the list\n",
    "def add_element_to_list(lisst,ele):\n",
    "    new_list=lisst+[ele]\n",
    "    return new_list"
   ]
  },
  {
   "cell_type": "code",
   "execution_count": 7,
   "id": "11ec1f75",
   "metadata": {},
   "outputs": [
    {
     "data": {
      "text/plain": [
       "[172, 175, 170, 168, 170, 200, [101, 45]]"
      ]
     },
     "execution_count": 7,
     "metadata": {},
     "output_type": "execute_result"
    }
   ],
   "source": [
    "add_element_to_list(heights,[101,45])"
   ]
  },
  {
   "cell_type": "markdown",
   "id": "03cc405f",
   "metadata": {},
   "source": [
    "# Lets find out the difference between the function and methods\n",
    "\n",
    "1. Functions and methods look same as the perform operation in a same way for examples functions are independent so calling a function does not require any other elements help whereas a method can only be create under a class and it can be called using the reference of the Object or class created that means the methods are dependent on the class created where methods are present"
   ]
  },
  {
   "cell_type": "code",
   "execution_count": 8,
   "id": "3a67926a",
   "metadata": {},
   "outputs": [],
   "source": [
    "def insert_element_to_index(lisst,iindex,element):\n",
    "    first_part=lisst[:iindex]\n",
    "    first_part.append(element)\n",
    "    first_part.extend(lisst[iindex:])\n",
    "    return first_part\n",
    "    "
   ]
  },
  {
   "cell_type": "code",
   "execution_count": 9,
   "id": "499973c5",
   "metadata": {},
   "outputs": [
    {
     "data": {
      "text/plain": [
       "[1, 2, 3, 10, 4, 5, 7, 4, 1, 2, 6, 5]"
      ]
     },
     "execution_count": 9,
     "metadata": {},
     "output_type": "execute_result"
    }
   ],
   "source": [
    "insert_element_to_index([1,2,3,4,5,7,4,1,2,6,5],3,10)"
   ]
  },
  {
   "cell_type": "code",
   "execution_count": 13,
   "id": "46f483f8",
   "metadata": {},
   "outputs": [],
   "source": [
    "heights.insert(3,5)"
   ]
  },
  {
   "cell_type": "code",
   "execution_count": 14,
   "id": "c5d9bb16",
   "metadata": {},
   "outputs": [
    {
     "data": {
      "text/plain": [
       "[172, 175, 170, 5, 168, 170, 200, 5]"
      ]
     },
     "execution_count": 14,
     "metadata": {},
     "output_type": "execute_result"
    }
   ],
   "source": [
    "heights"
   ]
  },
  {
   "cell_type": "markdown",
   "id": "2d6d92d7",
   "metadata": {},
   "source": [
    "# Scope\n",
    "Now that we gone over writing our own function its important to understand that how python deals with the variables you assign When you create a variable in python the name is stored in name space, Variables names also have scope, The scope defines the visibility of the variable in the other parts of code"
   ]
  },
  {
   "cell_type": "code",
   "execution_count": 15,
   "id": "1e22d146",
   "metadata": {},
   "outputs": [],
   "source": [
    "def experiment():\n",
    "    global x\n",
    "    x=50;\n",
    "    return x\n"
   ]
  },
  {
   "cell_type": "code",
   "execution_count": 16,
   "id": "f028f617",
   "metadata": {},
   "outputs": [],
   "source": [
    "x=25"
   ]
  },
  {
   "cell_type": "code",
   "execution_count": 17,
   "id": "9add5ceb",
   "metadata": {},
   "outputs": [
    {
     "data": {
      "text/plain": [
       "50"
      ]
     },
     "execution_count": 17,
     "metadata": {},
     "output_type": "execute_result"
    }
   ],
   "source": [
    "experiment()"
   ]
  },
  {
   "cell_type": "code",
   "execution_count": 20,
   "id": "640fe8d0",
   "metadata": {},
   "outputs": [
    {
     "ename": "NameError",
     "evalue": "name 'y' is not defined",
     "output_type": "error",
     "traceback": [
      "\u001b[1;31m---------------------------------------------------------------------------\u001b[0m",
      "\u001b[1;31mNameError\u001b[0m                                 Traceback (most recent call last)",
      "\u001b[1;32m<ipython-input-20-2fd147a2675e>\u001b[0m in \u001b[0;36m<module>\u001b[1;34m\u001b[0m\n\u001b[0;32m      3\u001b[0m     \u001b[1;32mreturn\u001b[0m \u001b[0my\u001b[0m\u001b[1;33m\u001b[0m\u001b[1;33m\u001b[0m\u001b[0m\n\u001b[0;32m      4\u001b[0m \u001b[1;33m\u001b[0m\u001b[0m\n\u001b[1;32m----> 5\u001b[1;33m \u001b[0my\u001b[0m\u001b[1;33m\u001b[0m\u001b[1;33m\u001b[0m\u001b[0m\n\u001b[0m",
      "\u001b[1;31mNameError\u001b[0m: name 'y' is not defined"
     ]
    }
   ],
   "source": [
    "def experiment():\n",
    "    y=50;\n",
    "    return y\n",
    "\n",
    "y\n"
   ]
  },
  {
   "cell_type": "code",
   "execution_count": 19,
   "id": "ad5e8c08",
   "metadata": {},
   "outputs": [
    {
     "name": "stdout",
     "output_type": "stream",
     "text": [
      "5\n",
      "5\n"
     ]
    }
   ],
   "source": [
    "if True:\n",
    "    u=5\n",
    "    print(u)\n",
    "print(u)"
   ]
  },
  {
   "cell_type": "code",
   "execution_count": 22,
   "id": "0b4aa2e8",
   "metadata": {},
   "outputs": [
    {
     "data": {
      "text/plain": [
       "True"
      ]
     },
     "execution_count": 22,
     "metadata": {},
     "output_type": "execute_result"
    }
   ],
   "source": [
    "def write_func_to_check_docString():\n",
    "    '''This is the function wto check doc string'''\n",
    "    return True\n",
    "write_func_to_check_docString()"
   ]
  },
  {
   "cell_type": "markdown",
   "id": "846eb24f",
   "metadata": {},
   "source": [
    "Problem 1\n",
    "\n",
    "Write a function which takes the excel column name as an input and returns the corresponding column number. A few examples are :\n",
    "1. column name = 'J' , column number = 10\n",
    "2. column name = 'AP' , column number = 42\n",
    "3. column name = 'AAA', column number = 703"
   ]
  },
  {
   "cell_type": "code",
   "execution_count": 29,
   "id": "8ed74a79",
   "metadata": {},
   "outputs": [
    {
     "name": "stdout",
     "output_type": "stream",
     "text": [
      "abcdefghijklmnopqrstuvwxyz\n"
     ]
    },
    {
     "data": {
      "text/plain": [
       "[(1, 'a'),\n",
       " (2, 'b'),\n",
       " (3, 'c'),\n",
       " (4, 'd'),\n",
       " (5, 'e'),\n",
       " (6, 'f'),\n",
       " (7, 'g'),\n",
       " (8, 'h'),\n",
       " (9, 'i'),\n",
       " (10, 'j'),\n",
       " (11, 'k'),\n",
       " (12, 'l'),\n",
       " (13, 'm'),\n",
       " (14, 'n'),\n",
       " (15, 'o'),\n",
       " (16, 'p'),\n",
       " (17, 'q'),\n",
       " (18, 'r'),\n",
       " (19, 's'),\n",
       " (20, 't'),\n",
       " (21, 'u'),\n",
       " (22, 'v'),\n",
       " (23, 'w'),\n",
       " (24, 'x'),\n",
       " (25, 'y'),\n",
       " (26, 'z')]"
      ]
     },
     "execution_count": 29,
     "metadata": {},
     "output_type": "execute_result"
    }
   ],
   "source": [
    "import string\n",
    "print(string.ascii_lowercase)\n",
    "alphalist=[(i+1,x) for i,x in enumerate(string.ascii_lowercase)]\n",
    "alphalist\n",
    "\n",
    "\n"
   ]
  },
  {
   "cell_type": "code",
   "execution_count": 32,
   "id": "3b69c108",
   "metadata": {},
   "outputs": [
    {
     "data": {
      "text/plain": [
       "[(0, 'm'), (1, 'i'), (2, 'l'), (3, 'a'), (4, 'n')]"
      ]
     },
     "execution_count": 32,
     "metadata": {},
     "output_type": "execute_result"
    }
   ],
   "source": [
    "st=\"milan\"\n",
    "list(enumerate(\"milan\"))"
   ]
  },
  {
   "cell_type": "code",
   "execution_count": 33,
   "id": "e1e28ff0",
   "metadata": {},
   "outputs": [
    {
     "data": {
      "text/plain": [
       "'milan'"
      ]
     },
     "execution_count": 33,
     "metadata": {},
     "output_type": "execute_result"
    }
   ],
   "source": [
    "st.lower()"
   ]
  },
  {
   "cell_type": "code",
   "execution_count": 42,
   "id": "363a577f",
   "metadata": {},
   "outputs": [
    {
     "name": "stdout",
     "output_type": "stream",
     "text": [
      "<class 'dict'>\n",
      "<class 'str'>\n",
      "{'A': 1, 'B': 2, 'C': 5}\n"
     ]
    }
   ],
   "source": [
    "def fa(a,**b):\n",
    "    print(type(b))\n",
    "    print(type(a))  \n",
    "    print(b)\n",
    "fa(\"letters\",A=1,B=2,C=5)"
   ]
  },
  {
   "cell_type": "code",
   "execution_count": 51,
   "id": "3cee26fb",
   "metadata": {},
   "outputs": [
    {
     "name": "stdout",
     "output_type": "stream",
     "text": [
      "<class 'tuple'>\n",
      "(2, 3, 4)\n"
     ]
    }
   ],
   "source": [
    "def faa(a,b,*k):\n",
    "    print(type(k))\n",
    "    print(k)\n",
    "faa(9,1,2,3,4)"
   ]
  },
  {
   "cell_type": "code",
   "execution_count": 59,
   "id": "23ac912b",
   "metadata": {},
   "outputs": [
    {
     "name": "stdout",
     "output_type": "stream",
     "text": [
      "Hey am printing things\n",
      "5 Am a disco dancer\n"
     ]
    }
   ],
   "source": [
    "class Computer:\n",
    "    def __init__(self,cpu,ram):\n",
    "        self.cpu=cpu\n",
    "        self.ram=ram\n",
    "    def config(self):\n",
    "        print(\"Hey am printing things\")\n",
    "    def config4(self,nu):\n",
    "        print(nu,\"Am a disco dancer\")\n",
    "\n",
    "com1=Computer(\"i5\",16)\n",
    "com2=Computer(\"i9\",32)\n",
    "com1.config()\n",
    "com2.config4(5)"
   ]
  },
  {
   "cell_type": "code",
   "execution_count": 67,
   "id": "6a5c7971",
   "metadata": {},
   "outputs": [
    {
     "name": "stdout",
     "output_type": "stream",
     "text": [
      "10\n",
      "10\n",
      "15\n"
     ]
    },
    {
     "data": {
      "text/plain": [
       "4"
      ]
     },
     "execution_count": 67,
     "metadata": {},
     "output_type": "execute_result"
    }
   ],
   "source": [
    "# SO now we will think about a car concept that is (CAR) Object that has been manufactured and came out of factory (class)\n",
    "class Car:\n",
    "    wheels=4\n",
    "    def __init__(self):\n",
    "        self.mil=10\n",
    "        self.com=\"BMW\"\n",
    "\n",
    "c1=Car();\n",
    "c2=Car();\n",
    "print(c1.mil)\n",
    "print(c2.mil)\n",
    "c2.mil=15\n",
    "print(c2.mil)\n",
    "c1.wheels=10\n",
    "c2.wheels"
   ]
  },
  {
   "cell_type": "code",
   "execution_count": 81,
   "id": "8e9109a4",
   "metadata": {},
   "outputs": [
    {
     "name": "stdout",
     "output_type": "stream",
     "text": [
      "94.66666666666667\n",
      "Telusko\n",
      "This method is a static Method\n",
      "None\n"
     ]
    }
   ],
   "source": [
    "\n",
    "class Student:\n",
    "    school=\"Telusko\"\n",
    "    location=\"Bangalore\"\n",
    "    \n",
    "    def __init__ (self,m1,m2,m3):\n",
    "        self.m1=m1\n",
    "        self.m2=m2\n",
    "        self.m3=m3\n",
    "    \n",
    "    def avg(self):\n",
    "        return (self.m1+self.m2+self.m3)/3\n",
    "    \n",
    "    def get_m1(self):\n",
    "        return self.m1\n",
    "        \n",
    "    def get_m2(self):\n",
    "        return self.m2\n",
    "    \n",
    "    def get_m3(self):\n",
    "        return self.m3\n",
    "#     The method below is called class method\n",
    "    @classmethod\n",
    "    def info(cls):\n",
    "        return cls.school\n",
    "# Static method \n",
    "    @staticmethod\n",
    "    def location():\n",
    "        print(\"This method is a static Method\")\n",
    "s1=Student(93,95,96)\n",
    "s2=Student(90,89,95)\n",
    "\n",
    "print(s1.avg())\n",
    "s2.avg()\n",
    "print(Student.info())\n",
    "print(Student.location())\n",
    "\n",
    "#  If we want to fetch the values we use accessor method and if we want to modify the methods then we use mutators method\n",
    "#  That are something like setters and getters setters set the values that is it changes the values of attributes of the object and getters are called as accessors methods that are used for accessing the values\n",
    "#  These setters and getters are called Instance methods"
   ]
  },
  {
   "cell_type": "code",
   "execution_count": 11,
   "id": "69457f41",
   "metadata": {},
   "outputs": [
    {
     "name": "stdout",
     "output_type": "stream",
     "text": [
      "002 Navin\n",
      "007 Milan\n",
      "HP 8\n",
      "HP 8\n"
     ]
    }
   ],
   "source": [
    "# Class inside a class\n",
    "class Students:\n",
    "    \n",
    "    def __init__ (self,name,rollno):\n",
    "        self.name=name\n",
    "        self.rollno=rollno\n",
    "        self.lap=self.Laptop()\n",
    "    def show(self):\n",
    "        print(self.rollno,self.name)\n",
    "       \n",
    "    class Laptop:\n",
    "        def __init__(self):\n",
    "            self.brand=\"HP\"\n",
    "            self.ram=\"8\"\n",
    "        def show(self):\n",
    "            print(self.brand,self.ram)\n",
    "\n",
    "s1=Students(\"Navin\",\"002\")\n",
    "s2=Students(\"Milan\",\"007\")\n",
    "s1.show()\n",
    "s2.show()\n",
    "s2.lap.show()\n",
    "s2.Laptop().show()\n",
    "            \n",
    "        \n",
    "    "
   ]
  },
  {
   "cell_type": "code",
   "execution_count": 26,
   "id": "6ea2e557",
   "metadata": {},
   "outputs": [
    {
     "name": "stdout",
     "output_type": "stream",
     "text": [
      "feature 1 is working\n",
      "feature 2 is working\n",
      "feature 3 is working\n",
      "feature 1 is working\n",
      "feature 3 is working\n"
     ]
    }
   ],
   "source": [
    "# Inheritance\n",
    "class A:\n",
    "    def feature1(self):\n",
    "        print(\"feature 1 is working\")\n",
    "    def feature2(self):\n",
    "        print(\"feature 2 is working\")\n",
    "# By wrting the below line i.e B(A) B is inhertant on the features from A \n",
    "class B(A):\n",
    "    def feature3(self):\n",
    "        print(\"feature 3 is working\")\n",
    "    def feature4(self):\n",
    "        print(\"feature 4 is working\")\n",
    "# Just because B is inheriting the A it can access A class's features and if C is inheriting B then c can access B class features and as B had access to A's class features\n",
    "class C(B):\n",
    "    \n",
    "    def feature5(self):\n",
    "        print(\"feature 5 is working\")\n",
    "        \n",
    "a1=A()\n",
    "a1.feature1()\n",
    "a1.feature2()\n",
    "\n",
    "b1=B();\n",
    "b1.feature3()\n",
    "b1.feature1()\n",
    "\n",
    "c1=C()\n",
    "c1.feature3()\n",
    "# Here A is grand parent i.e parent of B and B is parent of C So children can have access to there parents and above But parents cant have access to there younger ones"
   ]
  },
  {
   "cell_type": "code",
   "execution_count": 29,
   "id": "abd75938",
   "metadata": {},
   "outputs": [
    {
     "name": "stdout",
     "output_type": "stream",
     "text": [
      "feature 1 is working\n",
      "feature 2 is working\n",
      "feature 3 is working\n",
      "feature 1 is working\n"
     ]
    }
   ],
   "source": [
    "# Inheritance\n",
    "class A:\n",
    "    def feature1(self):\n",
    "        print(\"feature 1 is working\")\n",
    "    def feature2(self):\n",
    "        print(\"feature 2 is working\")\n",
    "class B:\n",
    "    def feature3(self):\n",
    "        print(\"feature 3 is working\")\n",
    "    def feature4(self):\n",
    "        print(\"feature 4 is working\")\n",
    "\n",
    "class C(B,A):\n",
    "    \n",
    "    def feature5(self):\n",
    "        print(\"feature 5 is working\")\n",
    "        \n",
    "a1=A()\n",
    "a1.feature1()\n",
    "a1.feature2()\n",
    "\n",
    "\n",
    "c1=C()\n",
    "c1.feature3()\n",
    "c1.feature1()\n",
    "\n",
    "# Multiple and multilevel inheritance is allowed in python"
   ]
  },
  {
   "cell_type": "code",
   "execution_count": 36,
   "id": "67e374bd",
   "metadata": {},
   "outputs": [
    {
     "name": "stdout",
     "output_type": "stream",
     "text": [
      "THis is from A\n",
      "THis is from B\n"
     ]
    }
   ],
   "source": [
    "# Analysing the constructor behavoir during inheritance\n",
    "class A:\n",
    "    def __init__(self):\n",
    "        print(\"THis is from A\")\n",
    "    def feature1(self):\n",
    "        print(\"feature 1 is working\")\n",
    "    def feature2(self):\n",
    "        print(\"feature 2 is working\")\n",
    "class B(A):\n",
    "    def __init__(self):\n",
    "        super().__init__() # This calls the init method from A class \n",
    "        print(\"THis is from B\")\n",
    "    def feature3(self):\n",
    "        print(\"feature 3 is working\")\n",
    "    def feature4(self):\n",
    "        print(\"feature 4 is working\")\n",
    "class C(A,B)\n",
    "        \n",
    "a=B();"
   ]
  },
  {
   "cell_type": "code",
   "execution_count": 59,
   "id": "a9632f61",
   "metadata": {},
   "outputs": [
    {
     "name": "stdout",
     "output_type": "stream",
     "text": [
      "THis is from A\n",
      "THis is from D\n",
      "This is from C\n"
     ]
    }
   ],
   "source": [
    "# Analysing the constructor behavoir during inheritance\n",
    "class A:\n",
    "    def __init__(self):\n",
    "        print(\"THis is from A\")\n",
    "#         super().__init__()\n",
    "    def feature1(self):\n",
    "        print(\"feature 1 is working\")\n",
    "    def feature2(self):\n",
    "        print(\"feature 2 is working\")\n",
    "class B:\n",
    "    def __init__(self):\n",
    "#         super().__init__() # This calls the init method from A class \n",
    "        print(\"THis is from B\")\n",
    "    def feature3(self):\n",
    "        print(\"feature 3 is working\")\n",
    "    def feature4(self):\n",
    "        print(\"feature 4 is working\")\n",
    "        \n",
    "class D:\n",
    "    def __init__(self):\n",
    "        super().__init__() # This calls the init method from A class \n",
    "        print(\"THis is from D\")\n",
    "    def feature3(self):\n",
    "        print(\"feature 3 is working\")\n",
    "    def feature4(self):\n",
    "        print(\"feature 4 is working\")\n",
    "        \n",
    "class C(D,A,B):\n",
    "    def __init__(self):\n",
    "        super().__init__()\n",
    "        print(\"This is from C\")\n",
    "\n",
    "c=C();\n",
    "# This concept is called method resolution order"
   ]
  },
  {
   "cell_type": "markdown",
   "id": "4cf009d3",
   "metadata": {},
   "source": [
    "# Poly=morphism\n",
    "\n",
    "There are 4 types of polymorphism \n",
    "1. Duck typing\n",
    "2. Operator Overloading\n",
    "3. Method overloading\n",
    "4. Method overriding"
   ]
  },
  {
   "cell_type": "code",
   "execution_count": 67,
   "id": "7825c00e",
   "metadata": {},
   "outputs": [
    {
     "name": "stdout",
     "output_type": "stream",
     "text": [
      "Complliing\n",
      "Executing\n",
      "*********************\n",
      "Spell check\n",
      "Interpret\n",
      "Complliing\n",
      "Executing\n"
     ]
    }
   ],
   "source": [
    "# Duck typing \n",
    "class Pycharm():\n",
    "    def execute(self):\n",
    "        print(\"Complliing\")\n",
    "        print(\"Executing\")\n",
    "\n",
    "class MyIDE:\n",
    "    def execute(self):\n",
    "        print(\"Spell check\")\n",
    "        print(\"Interpret\")\n",
    "        print(\"Complliing\")\n",
    "        print(\"Executing\")\n",
    "        \n",
    "        \n",
    "class Laptop():\n",
    "    def code(self,ide):\n",
    "        ide.execute()\n",
    "l1=Laptop();\n",
    "p1=Pycharm()\n",
    "m1=MyIDE()\n",
    "l1.code(p1)\n",
    "print(\"*********************\")\n",
    "l1.code(m1)\n",
    "# Here the duck typing is something that it does not need to be the same class But it can be the any class any same feature i.e the method name"
   ]
  },
  {
   "cell_type": "code",
   "execution_count": 68,
   "id": "058a57b5",
   "metadata": {},
   "outputs": [],
   "source": [
    "# Operator Overloading\n"
   ]
  },
  {
   "cell_type": "code",
   "execution_count": 84,
   "id": "54fa6443",
   "metadata": {},
   "outputs": [
    {
     "name": "stdout",
     "output_type": "stream",
     "text": [
      "From B\n"
     ]
    }
   ],
   "source": [
    "# Method Overloading\n",
    "\n",
    "class A:\n",
    "    def __init__(self,m1,m2):\n",
    "        self.m1=m1\n",
    "        self.m2=m2\n",
    "    def sum(self,a,b):\n",
    "        return a+b\n",
    "    def feature1(self):\n",
    "        print(\"From A\")\n",
    "        \n",
    "class B(A):\n",
    "    def feature1(self):\n",
    "        print(\"From B\")\n",
    "s1=A(4,6);\n",
    "s1.sum(5,6)\n",
    "b1=B(5,6)\n",
    "b1.feature1()\n",
    "        "
   ]
  },
  {
   "cell_type": "markdown",
   "id": "42b0b73f",
   "metadata": {},
   "source": [
    " # What is production environment ?\n",
    " \n",
    "     Production environment is a term used mostly by developers to describe the settings where software and other products actually put into operations for intended uses by their end users\n",
    "     \n",
    "     Concepts that will be helpful while writing a production grade code:-\n",
    " 1. Object Oriented Programming\n",
    " 2. Handling errors and exceptions\n",
    " \n",
    " # 1. Object Oriented programming\n",
    " \n",
    " OOPS tends to be the one of the most interesting concepts in python\n",
    " For this lesson we will construct our knowledge of OOPS by building code on following topics:\n",
    " 1. Objects\n",
    " 2. class key word\n",
    " 3. creating class attribute\n",
    " 4. Creating methods in class\n",
    " 5. Poly morphism\n",
    " \n",
    " \n",
    " \n",
    " \n",
    " "
   ]
  },
  {
   "cell_type": "code",
   "execution_count": 85,
   "id": "2be81a7f",
   "metadata": {},
   "outputs": [],
   "source": [
    "empty_list=[]"
   ]
  },
  {
   "cell_type": "code",
   "execution_count": 87,
   "id": "ffdf3322",
   "metadata": {},
   "outputs": [
    {
     "data": {
      "text/plain": [
       "[]"
      ]
     },
     "execution_count": 87,
     "metadata": {},
     "output_type": "execute_result"
    }
   ],
   "source": [
    "empty_list"
   ]
  },
  {
   "cell_type": "code",
   "execution_count": 88,
   "id": "9131dd88",
   "metadata": {},
   "outputs": [],
   "source": [
    "another_empty_list=list()"
   ]
  },
  {
   "cell_type": "code",
   "execution_count": 89,
   "id": "88217d35",
   "metadata": {},
   "outputs": [
    {
     "data": {
      "text/plain": [
       "[]"
      ]
     },
     "execution_count": 89,
     "metadata": {},
     "output_type": "execute_result"
    }
   ],
   "source": [
    "another_empty_list"
   ]
  },
  {
   "cell_type": "code",
   "execution_count": 90,
   "id": "cc2e7993",
   "metadata": {},
   "outputs": [],
   "source": []
  },
  {
   "cell_type": "code",
   "execution_count": 91,
   "id": "b6bd3e21",
   "metadata": {},
   "outputs": [
    {
     "data": {
      "text/plain": [
       "float"
      ]
     },
     "execution_count": 91,
     "metadata": {},
     "output_type": "execute_result"
    }
   ],
   "source": []
  },
  {
   "cell_type": "markdown",
   "id": "dbe97162",
   "metadata": {},
   "source": [
    "# class \n",
    "User defined objects are using the class keyword the class is the blue print that defines the nature of the future object\n",
    "From classes we construct instances instances are specific objects created by particular class"
   ]
  },
  {
   "cell_type": "code",
   "execution_count": 92,
   "id": "9567752f",
   "metadata": {},
   "outputs": [],
   "source": [
    "# Create a new object type called FirstClass\n",
    "class FirstClass:\n",
    "    pass"
   ]
  },
  {
   "cell_type": "code",
   "execution_count": 93,
   "id": "920ebdd7",
   "metadata": {},
   "outputs": [
    {
     "name": "stdout",
     "output_type": "stream",
     "text": [
      "<class '__main__.FirstClass'>\n"
     ]
    }
   ],
   "source": [
    "# Instance of FirstClass\n",
    "x = FirstClass()\n",
    "print(type(x))"
   ]
  },
  {
   "cell_type": "code",
   "execution_count": 94,
   "id": "0a4322f6",
   "metadata": {},
   "outputs": [
    {
     "name": "stdout",
     "output_type": "stream",
     "text": [
      "<class '__main__.FirstClass'>\n"
     ]
    }
   ],
   "source": [
    "y = FirstClass()\n",
    "print(type(y))"
   ]
  },
  {
   "cell_type": "code",
   "execution_count": 109,
   "id": "efffa0be",
   "metadata": {},
   "outputs": [
    {
     "name": "stdout",
     "output_type": "stream",
     "text": [
      "Beedi nayi Rocky 0\n",
      "RotWh Vicky 50000\n"
     ]
    }
   ],
   "source": [
    "class Dog:\n",
    "    def __init__(self,name,breed,cost=0):\n",
    "        self.name=name\n",
    "        self.breed=breed\n",
    "        self.cost=cost\n",
    "# The above 3 lines is assigning the arguments from object and saving it into objects attribute\n",
    "\n",
    "d1=Dog(\"Rocky\",\"Beedi nayi\")\n",
    "d2=Dog(\"Vicky\",\"RotWh\",50000)\n",
    "print(d1.breed,d1.name,d1.cost)\n",
    "print(d2.breed,d2.name,d2.cost)\n"
   ]
  },
  {
   "cell_type": "code",
   "execution_count": 99,
   "id": "f0a2ca88",
   "metadata": {},
   "outputs": [
    {
     "data": {
      "text/plain": [
       "__main__.Dog"
      ]
     },
     "execution_count": 99,
     "metadata": {},
     "output_type": "execute_result"
    }
   ],
   "source": [
    "d=Dog()\n",
    "type(d)"
   ]
  },
  {
   "cell_type": "code",
   "execution_count": 118,
   "id": "2eb24ce2",
   "metadata": {},
   "outputs": [
    {
     "name": "stdout",
     "output_type": "stream",
     "text": [
      "78.675 31.47\n"
     ]
    }
   ],
   "source": [
    "class Circle:\n",
    "    def __init__(self,radius=1):\n",
    "        self.radius=radius\n",
    "        self.area=3.147*radius * radius\n",
    "    def set_radius(self,radius):\n",
    "        self.radius=radius\n",
    "        self.area=3.147*radius * radius\n",
    "    def get_circumference(self):\n",
    "        return 2 * 3.147 * self.radius\n",
    "\n",
    "\n",
    "    \n",
    "c1=Circle()\n",
    "c1.get_circumference()\n",
    "c1.set_radius(5)\n",
    "print(c1.area,c1.get_circumference())"
   ]
  },
  {
   "cell_type": "markdown",
   "id": "e9d68be9",
   "metadata": {},
   "source": [
    "# Poly morphism\n",
    "We have learned that function can take different arguments, methods belong to the objects they act on ,In Python, polymorphism refers different object classes can share the same method name and those methods can be called from same place even though variety of objects might be passed"
   ]
  },
  {
   "cell_type": "code",
   "execution_count": 119,
   "id": "ded46f5e",
   "metadata": {},
   "outputs": [],
   "source": [
    "class HouseStark:\n",
    "    def __init__(self,sigil):\n",
    "        self.sigil=sigil\n",
    "    def motto(self):\n",
    "         return \"House Stark with sigil \" + self.sigil + \" has the motto 'Winter is coming'\"\n",
    "        "
   ]
  },
  {
   "cell_type": "code",
   "execution_count": 120,
   "id": "d285742a",
   "metadata": {},
   "outputs": [],
   "source": [
    "class HouseLannister:\n",
    "    def __init__(self, sigil):\n",
    "        self.sigil = sigil\n",
    "\n",
    "    def motto(self):\n",
    "        return \"House Lannister with sigil \" + self.sigil + \" has the motto 'Hear me roar'\""
   ]
  },
  {
   "cell_type": "code",
   "execution_count": 121,
   "id": "097b507b",
   "metadata": {},
   "outputs": [],
   "source": [
    "arya=HouseStark(\"direwolf\")\n",
    "tyrion=HouseStark(\"golden lion\")"
   ]
  },
  {
   "cell_type": "code",
   "execution_count": 123,
   "id": "6393535f",
   "metadata": {},
   "outputs": [
    {
     "data": {
      "text/plain": [
       "\"House Stark with sigil direwolf has the motto 'Winter is coming'\""
      ]
     },
     "execution_count": 123,
     "metadata": {},
     "output_type": "execute_result"
    }
   ],
   "source": [
    "arya.motto()"
   ]
  },
  {
   "cell_type": "code",
   "execution_count": 124,
   "id": "cc69dc2b",
   "metadata": {},
   "outputs": [
    {
     "data": {
      "text/plain": [
       "\"House Stark with sigil golden lion has the motto 'Winter is coming'\""
      ]
     },
     "execution_count": 124,
     "metadata": {},
     "output_type": "execute_result"
    }
   ],
   "source": [
    "tyrion.motto()"
   ]
  },
  {
   "cell_type": "code",
   "execution_count": 125,
   "id": "0bdb6829",
   "metadata": {},
   "outputs": [
    {
     "name": "stdout",
     "output_type": "stream",
     "text": [
      "House Stark with sigil direwolf has the motto 'Winter is coming'\n",
      "House Stark with sigil golden lion has the motto 'Winter is coming'\n"
     ]
    }
   ],
   "source": [
    "for warrior in [arya,tyrion]:\n",
    "    print(warrior.motto())"
   ]
  },
  {
   "cell_type": "code",
   "execution_count": 126,
   "id": "2bcd38bf",
   "metadata": {},
   "outputs": [
    {
     "name": "stdout",
     "output_type": "stream",
     "text": [
      "House Stark with sigil direwolf has the motto 'Winter is coming'\n",
      "House Stark with sigil golden lion has the motto 'Winter is coming'\n"
     ]
    }
   ],
   "source": [
    "def get_motto(warrior):\n",
    "    print(warrior.motto())\n",
    "    \n",
    "get_motto(arya)\n",
    "get_motto(tyrion)"
   ]
  },
  {
   "cell_type": "markdown",
   "id": "0dfb0ce0",
   "metadata": {},
   "source": [
    "# Errors and exception handling\n",
    "\n",
    "3 types of error\n",
    " 1. Compile time error \n",
    " 2. RUn time error\n",
    " 3. logical error\n",
    " \n",
    " Compile time error is error that occurs during complilation\n",
    " example syntax error\n",
    " \n",
    " LOgical error\n",
    "\n",
    "Now we will see about Errors and exceptions "
   ]
  },
  {
   "cell_type": "code",
   "execution_count": 137,
   "id": "1e9b5c97",
   "metadata": {},
   "outputs": [
    {
     "name": "stdout",
     "output_type": "stream",
     "text": [
      "Good to go\n",
      "Oops name 'ssss' is not defined\n",
      "C\n"
     ]
    }
   ],
   "source": [
    "try:\n",
    "    print(\"Good to go\")\n",
    "    print(\"ddsd\",ssss)\n",
    "    print(\"b\")\n",
    "except Exception as e:\n",
    "    print(\"Oops\",e)\n",
    "    print(\"C\")\n",
    "else:\n",
    "    print(\"No errors encountered\")\n",
    "    "
   ]
  },
  {
   "cell_type": "code",
   "execution_count": 147,
   "id": "e2654bf8",
   "metadata": {},
   "outputs": [
    {
     "name": "stdout",
     "output_type": "stream",
     "text": [
      "0.8\n",
      "The execution was sucessful\n",
      "Dont worry i will handle this\n"
     ]
    }
   ],
   "source": [
    "try:\n",
    "    a=4\n",
    "    b=5\n",
    "    c=a/b\n",
    "    print(c)\n",
    "except Exception as e:\n",
    "    print(\"Hey you cant divide zero\")\n",
    "    print(e)\n",
    "else:\n",
    "    print(\"The execution was sucessful\")\n",
    "finally:\n",
    "    print(\"Dont worry i will handle this\")\n"
   ]
  },
  {
   "cell_type": "markdown",
   "id": "b9fc7c4a",
   "metadata": {},
   "source": [
    "# Real world use case\n",
    "Uber's simplified pricing model\n",
    "When you request an Uber, you enter the pick up location \n",
    "# This is development code below"
   ]
  },
  {
   "cell_type": "code",
   "execution_count": 8,
   "id": "eeee7599",
   "metadata": {},
   "outputs": [],
   "source": [
    "from geopy.distance import geodesic\n",
    "def get_distance(location1,location2):\n",
    "    distance=geodesic(location1,location2).km\n",
    "    return distance"
   ]
  },
  {
   "cell_type": "code",
   "execution_count": 13,
   "id": "bab8b06f",
   "metadata": {},
   "outputs": [],
   "source": [
    "def get_pricing_per_km(time):\n",
    "    if(time>8 ) and (time< 11):\n",
    "        price_per_km=20\n",
    "    elif(time>18 ) and (time< 21):\n",
    "        price_per_km=15\n",
    "    else:\n",
    "        price_per_km=10\n",
    "    return price_per_km\n"
   ]
  },
  {
   "cell_type": "code",
   "execution_count": 26,
   "id": "39b5871b",
   "metadata": {},
   "outputs": [],
   "source": [
    "def get_final_price(pickup,drop,time):\n",
    "    total_distance=get_distance(pickup,drop)\n",
    "    get_price=get_pricing_per_km(time)\n",
    "    final_price=round(total_distance * get_price,2)\n",
    "    return \"Rupees \"+str(final_price)\n",
    "    "
   ]
  },
  {
   "cell_type": "code",
   "execution_count": 27,
   "id": "e084792f",
   "metadata": {},
   "outputs": [],
   "source": [
    "\n",
    "pick_up_location = (24, 70)\n",
    "drop_location = (24.1, 70.1)\n",
    "booking_time = 19"
   ]
  },
  {
   "cell_type": "code",
   "execution_count": 28,
   "id": "e7dfe63c",
   "metadata": {},
   "outputs": [
    {
     "data": {
      "text/plain": [
       "'Rupees 225.56'"
      ]
     },
     "execution_count": 28,
     "metadata": {},
     "output_type": "execute_result"
    }
   ],
   "source": [
    "\n",
    "get_final_price(pick_up_location, drop_location, booking_time)"
   ]
  },
  {
   "cell_type": "markdown",
   "id": "c78cd444",
   "metadata": {},
   "source": [
    "# This is Production grade code\n",
    "\n",
    "Create an Object called map and Price charger and another class Called Uber"
   ]
  },
  {
   "cell_type": "code",
   "execution_count": 56,
   "id": "34d9da7a",
   "metadata": {},
   "outputs": [
    {
     "name": "stdout",
     "output_type": "stream",
     "text": [
      "20\n",
      "300.75209480706 km\n"
     ]
    },
    {
     "ename": "TypeError",
     "evalue": "__init__() should return None, not 'float'",
     "output_type": "error",
     "traceback": [
      "\u001b[1;31m---------------------------------------------------------------------------\u001b[0m",
      "\u001b[1;31mTypeError\u001b[0m                                 Traceback (most recent call last)",
      "\u001b[1;32m<ipython-input-56-3edf515334a3>\u001b[0m in \u001b[0;36m<module>\u001b[1;34m\u001b[0m\n\u001b[0;32m     35\u001b[0m \u001b[0mbooking_time\u001b[0m \u001b[1;33m=\u001b[0m \u001b[1;36m19\u001b[0m\u001b[1;33m\u001b[0m\u001b[1;33m\u001b[0m\u001b[0m\n\u001b[0;32m     36\u001b[0m \u001b[1;33m\u001b[0m\u001b[0m\n\u001b[1;32m---> 37\u001b[1;33m \u001b[0mUber\u001b[0m\u001b[1;33m(\u001b[0m\u001b[0mpick_up_location\u001b[0m\u001b[1;33m,\u001b[0m \u001b[0mdrop_location\u001b[0m\u001b[1;33m,\u001b[0m \u001b[0mbooking_time\u001b[0m\u001b[1;33m)\u001b[0m\u001b[1;33m\u001b[0m\u001b[1;33m\u001b[0m\u001b[0m\n\u001b[0m\u001b[0;32m     38\u001b[0m \u001b[1;33m\u001b[0m\u001b[0m\n",
      "\u001b[1;31mTypeError\u001b[0m: __init__() should return None, not 'float'"
     ]
    }
   ],
   "source": [
    "from geopy.distance import geodesic\n",
    "class Map:\n",
    "    def __init__(self,drop_location,pick_up_location):\n",
    "        self.drop_location=drop_location\n",
    "        self.pick_up_location=pick_up_location\n",
    "    def calculate_distance(self):\n",
    "        return geodesic(self.drop_location,self.pick_up_location)\n",
    "    \n",
    "class PriceCharger:\n",
    "    def __init__(self,time):\n",
    "        self.time=time\n",
    "    def get_price(self):\n",
    "        if self.time>8 and self.time < 11:\n",
    "            return 30\n",
    "        elif self.time > 18 and self.time < 21:\n",
    "            return 20\n",
    "        else:\n",
    "            return 10\n",
    "        \n",
    "class Uber:\n",
    "    def __init__(self,pick_up_location,drop_location,time):\n",
    "        self.price_charger=PriceCharger(time)\n",
    "        self.map=Map(pick_up_location,drop_location)\n",
    "        return self.get_final_price();\n",
    "    \n",
    "    def get_final_price(self):\n",
    "        distance=str(self.map.calculate_distance()).replace(\"km\",\"\")\n",
    "        print(self.price_charger.get_price())\n",
    "        print(self.map.calculate_distance() * self.price_charger.get_price())\n",
    "        return round(float(distance),2) * self.price_charger.get_price()\n",
    "    \n",
    "        \n",
    "pick_up_location = (24, 70)\n",
    "drop_location = (24.1, 70.1)\n",
    "booking_time = 19\n",
    "\n",
    "Uber(pick_up_location, drop_location, booking_time)\n",
    "    \n"
   ]
  },
  {
   "cell_type": "code",
   "execution_count": 1,
   "id": "76ff689a",
   "metadata": {},
   "outputs": [],
   "source": [
    "def repeatedString(s, n):\n",
    "    # Write your code here\n",
    "    count=0\n",
    "    print((s*n))\n",
    "    # for i in (s*n)[:n]:\n",
    "    #     if(i==\"a\"):\n",
    "    #         count+=1\n",
    "    return ((s*n)[:n]).count('a')"
   ]
  },
  {
   "cell_type": "code",
   "execution_count": 3,
   "id": "16f7acfe",
   "metadata": {},
   "outputs": [
    {
     "name": "stdout",
     "output_type": "stream",
     "text": [
      "aaaaaaaaaaaaaaaaaaaaaaaaaaaaaaaaaaaaaaaaaaaaaaaaaaaaaaaaaaaaaaaaaaaaaaaaaaaaaaaaaaaaaaaaaaaaaaaaaaaaaaaaaaaaaaaaaaaaaaaaaaaaaaaaaaaaaaaaaaaaaaaaaaaaaaaaaaaaaaaaaaaaaaaaaaaaaaaaaaaaaaaaaaaaaaaaaaaaaaaaaaaaaaaaaaaaaaaaaaaaaaaaaaaaaaaaaaaaaaaaaaaaaaaaaaaaaaaaaaaaaaaaaaaaaaaaaaaaaaaaaaaaaaaaaaaaaaaaaaaaaaaaaaaaaaaaaaaaaaaaaaaaaaaaaaaaaaaaaaaaaaaaaaaaaaaaaaaaaaaaaaaaaaaaaaaaaaaaaaaaaaaaaaaaaaaaaaaaaaaaaaaaaaaaaaaaaaaaaaaaaaaaaaaaaaaaaaaaaaaaaaaaaaaaaaaaaaaaaaaaaaaaaaaaaaaaaaaaaaaaaaaaaaaaaaaaaaaaaaaaaaaaaaaaaaaaaaaaaaaaaaaaaaaaaaaaaaaaaaaaaaaaaaaaaaaaaaaaaaaaaaaaaaaaaaaaaaaaaaaaaaaaaaaaaaaaaaaaaaaaaaaaaaaaaaaaaaaaaaaaaaaaaaaaaaaaaaaaaaaaaaaaaaaaaaaaaaaaaaaaaaaaaaaaaaaaaaaaaaaaaaaaaaaaaaaaaaaaaaaaaaaaaaaaaaaaaaaaaaaaaaaaaaaaaaaaaaaaaaaaaaaaaaaaaaaaaaaaaaaaaaaaaaaaaaaaaaaaaaaaaaaaaaaaaaaaaaaaaaaaaaaaaaaaaaaaaaaaaaaaaaaaaaaaaaaaaaaaaaaaaaaaaaaaaaaaaaaaaaaaaaaaaaaaaaaaaaaaaaaaaaaaaaaaaaaaaaaaaaaaaaaaaaaaaaaaaaaaaaaaaaaaaaaaaaaaaaaaaaaaaaaaaaaaaaaaaaaaaaaaaaaaaaaaaaaaaaaaaaaaaaaaaaaaaaaaaaaaaaaa\n"
     ]
    },
    {
     "data": {
      "text/plain": [
       "1000"
      ]
     },
     "execution_count": 3,
     "metadata": {},
     "output_type": "execute_result"
    }
   ],
   "source": [
    "repeatedString(\"a\",1000)\n"
   ]
  },
  {
   "cell_type": "markdown",
   "id": "4eae8895",
   "metadata": {},
   "source": [
    "# Compitative Problems"
   ]
  },
  {
   "cell_type": "code",
   "execution_count": 4,
   "id": "acd7a98d",
   "metadata": {},
   "outputs": [
    {
     "data": {
      "text/plain": [
       "True"
      ]
     },
     "execution_count": 4,
     "metadata": {},
     "output_type": "execute_result"
    }
   ],
   "source": [
    "\"1\".isdigit()"
   ]
  },
  {
   "cell_type": "code",
   "execution_count": 6,
   "id": "c78dbb98",
   "metadata": {},
   "outputs": [
    {
     "data": {
      "text/plain": [
       "210"
      ]
     },
     "execution_count": 6,
     "metadata": {},
     "output_type": "execute_result"
    }
   ],
   "source": [
    "# Your code here\n",
    "import gc\n",
    "def Primorial(no):\n",
    "  prime_no_count=0\n",
    "  result=1\n",
    "  n=2\n",
    "  cc=1\n",
    "  while no > prime_no_count and cc <10:\n",
    "    count=0\n",
    "    for x in range(1,n+1):\n",
    "      if(n % x==0):\n",
    "        count+=1\n",
    "    if(count==2):\n",
    "      result*=n\n",
    "      prime_no_count+=1\n",
    "    n+=1\n",
    "    cc+=1\n",
    "    gc.collect()\n",
    "\n",
    "  return result\n",
    "Primorial(6)\n",
    "\n"
   ]
  },
  {
   "cell_type": "code",
   "execution_count": 1,
   "id": "ff00a4bc",
   "metadata": {},
   "outputs": [
    {
     "name": "stdout",
     "output_type": "stream",
     "text": [
      "1\n",
      "2\n"
     ]
    }
   ],
   "source": [
    "def foo():\n",
    "    try:\n",
    "        print(1)\n",
    "    finally:\n",
    "        print(2)\n",
    "foo()"
   ]
  },
  {
   "cell_type": "code",
   "execution_count": null,
   "id": "f7099331",
   "metadata": {},
   "outputs": [],
   "source": []
  }
 ],
 "metadata": {
  "kernelspec": {
   "display_name": "Python 3",
   "language": "python",
   "name": "python3"
  },
  "language_info": {
   "codemirror_mode": {
    "name": "ipython",
    "version": 3
   },
   "file_extension": ".py",
   "mimetype": "text/x-python",
   "name": "python",
   "nbconvert_exporter": "python",
   "pygments_lexer": "ipython3",
   "version": "3.8.8"
  },
  "nbTranslate": {
   "displayLangs": [
    "*"
   ],
   "hotkey": "alt-t",
   "langInMainMenu": true,
   "sourceLang": "en",
   "targetLang": "fr",
   "useGoogleTranslate": true
  },
  "varInspector": {
   "cols": {
    "lenName": 16,
    "lenType": 16,
    "lenVar": 40
   },
   "kernels_config": {
    "python": {
     "delete_cmd_postfix": "",
     "delete_cmd_prefix": "del ",
     "library": "var_list.py",
     "varRefreshCmd": "print(var_dic_list())"
    },
    "r": {
     "delete_cmd_postfix": ") ",
     "delete_cmd_prefix": "rm(",
     "library": "var_list.r",
     "varRefreshCmd": "cat(var_dic_list()) "
    }
   },
   "types_to_exclude": [
    "module",
    "function",
    "builtin_function_or_method",
    "instance",
    "_Feature"
   ],
   "window_display": false
  }
 },
 "nbformat": 4,
 "nbformat_minor": 5
}
