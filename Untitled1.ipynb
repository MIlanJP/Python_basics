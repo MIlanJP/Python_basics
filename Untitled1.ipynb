{
 "cells": [
  {
   "cell_type": "code",
   "execution_count": 4,
   "id": "2199a5f3",
   "metadata": {},
   "outputs": [
    {
     "data": {
      "text/plain": [
       "'Milan'"
      ]
     },
     "execution_count": 4,
     "metadata": {},
     "output_type": "execute_result"
    }
   ],
   "source": [
    "name='Milan'\n",
    "name"
   ]
  },
  {
   "cell_type": "code",
   "execution_count": 1,
   "id": "aa0917fe",
   "metadata": {},
   "outputs": [
    {
     "data": {
      "text/plain": [
       "3"
      ]
     },
     "execution_count": 1,
     "metadata": {},
     "output_type": "execute_result"
    }
   ],
   "source": [
    "a=1\n",
    "b=2\n",
    "c=a+b\n",
    "c"
   ]
  },
  {
   "cell_type": "code",
   "execution_count": 3,
   "id": "2a75287c",
   "metadata": {},
   "outputs": [
    {
     "name": "stdout",
     "output_type": "stream",
     "text": [
      "10 4.9 milan False\n"
     ]
    }
   ],
   "source": [
    "price=10\n",
    "rating=4.9\n",
    "name=\"milan\"\n",
    "present=False\n",
    "print(price,rating,name,present)"
   ]
  },
  {
   "cell_type": "code",
   "execution_count": 6,
   "id": "5f4d64bb",
   "metadata": {},
   "outputs": [
    {
     "name": "stdout",
     "output_type": "stream",
     "text": [
      "What is your name?Milan\n",
      "What is your fav colorRed\n",
      "Milan likes Red color\n"
     ]
    }
   ],
   "source": [
    "name=input(\"What is your name?\")\n",
    "color=input(\"What is your fav color\")\n",
    "print(name +' likes ' + color +' color')\n"
   ]
  },
  {
   "cell_type": "code",
   "execution_count": 9,
   "id": "52bf3ba9",
   "metadata": {},
   "outputs": [
    {
     "name": "stdout",
     "output_type": "stream",
     "text": [
      "Your Year of Birth 1995\n",
      "<class 'str'>\n",
      "26\n"
     ]
    }
   ],
   "source": [
    "birth_year=input(\"Your Year of Birth \")\n",
    "print(type(birth_year))\n",
    "age=2021-int(birth_year)\n",
    "print(age)"
   ]
  },
  {
   "cell_type": "code",
   "execution_count": 12,
   "id": "8c7313b4",
   "metadata": {},
   "outputs": [
    {
     "name": "stdout",
     "output_type": "stream",
     "text": [
      "Enter the weight in kilogram 330\n",
      "148\n"
     ]
    }
   ],
   "source": [
    "weight_in_lbs=input(\"Enter the weight in kilogram \")\n",
    "weight_in_pounds=int(int(weight_in_lbs) * .45)\n",
    "print(weight_in_pounds)"
   ]
  },
  {
   "cell_type": "code",
   "execution_count": 25,
   "id": "64f7b4f1",
   "metadata": {},
   "outputs": [
    {
     "name": "stdout",
     "output_type": "stream",
     "text": [
      "s\n",
      "t\n",
      "python is \n",
      "python is a wonderful course\n",
      "python is \n",
      "python is a wonderful course\n",
      "ython is a wonderful cours\n",
      "\n"
     ]
    }
   ],
   "source": [
    "course=\"python is a wonderful course\"\n",
    "print(course[-2])\n",
    "print(course[2])\n",
    "print(course[0: 10])\n",
    "print(course[0: ])\n",
    "print(course[:10])\n",
    "print(course[:])\n",
    "print(course[1:-1])\n"
   ]
  },
  {
   "cell_type": "code",
   "execution_count": 1,
   "id": "3cc2c62c",
   "metadata": {},
   "outputs": [
    {
     "name": "stdout",
     "output_type": "stream",
     "text": [
      "Milan and Gowda\n",
      "5\n",
      "True\n",
      "False\n"
     ]
    }
   ],
   "source": [
    "first='Milan'\n",
    "second=\"Gowda\"\n",
    "print(f'{first} and {second}')\n",
    "print(len(first))\n",
    "first.upper()\n",
    "print(\"i\" in first)\n",
    "print(\"g\" in first)"
   ]
  },
  {
   "cell_type": "code",
   "execution_count": 6,
   "id": "09cfab42",
   "metadata": {},
   "outputs": [
    {
     "name": "stdout",
     "output_type": "stream",
     "text": [
      "Its a beautiful Day\n"
     ]
    }
   ],
   "source": [
    "its_hot=False\n",
    "its_cold=False\n",
    "if its_hot:\n",
    "    print(\"Its a hot day\")\n",
    "    print(\"Drink plenty of water\")\n",
    "elif its_cold:\n",
    "    print(\"Wear warn clothes\")\n",
    "    print(\"Its a cold day\")\n",
    "else:\n",
    "    print(\"Its a beautiful Day\")\n"
   ]
  },
  {
   "cell_type": "code",
   "execution_count": 7,
   "id": "04a6c274",
   "metadata": {},
   "outputs": [
    {
     "name": "stdout",
     "output_type": "stream",
     "text": [
      "1\n",
      "2\n",
      "3\n",
      "4\n",
      "5\n",
      "Done\n"
     ]
    }
   ],
   "source": [
    " ##While Loop\n",
    "i=1\n",
    "while i<=5:\n",
    "    print(i)\n",
    "    i+=1\n",
    "print(\"Done\")"
   ]
  },
  {
   "cell_type": "code",
   "execution_count": 15,
   "id": "96fb58e8",
   "metadata": {},
   "outputs": [
    {
     "name": "stdout",
     "output_type": "stream",
     "text": [
      "guess the number 9\n",
      "COngrats you have guessed the number\n"
     ]
    }
   ],
   "source": [
    "## guesss the secret number\n",
    "secret_number=9\n",
    "guessed_count=0\n",
    "guessed_limit=3\n",
    "while guessed_count<guessed_limit:\n",
    "    guess=int(input(\"guess the number \"))\n",
    "    guessed_count+=1\n",
    "    if guess==secret_number:\n",
    "        print(\"COngrats you have guessed the number\")\n",
    "        break;\n",
    "    if(guessed_count==guessed_limit):\n",
    "        print(\"You have exceeded the limit\")\n",
    "    "
   ]
  },
  {
   "cell_type": "code",
   "execution_count": 20,
   "id": "6135ee5f",
   "metadata": {},
   "outputs": [
    {
     "name": "stdout",
     "output_type": "stream",
     "text": [
      "The car has started\n",
      "stop\n",
      "The car has stopped\n",
      "sfdf\n",
      " I dint understand the command\n",
      "exit\n",
      "Exited\n"
     ]
    }
   ],
   "source": [
    "command=\"start\"\n",
    "exit_command=\"exit\"\n",
    "start_command=\"start\"\n",
    "stop_command=\"stop\"\n",
    "while True:\n",
    "    if command.lower() ==start_command:\n",
    "        print(\"The car has started\")\n",
    "    elif command.lower() == stop_command:\n",
    "        print(\"The car has stopped\")\n",
    "    elif command.lower()==exit_command:\n",
    "        print(\"Exited\")\n",
    "        break\n",
    "    else:\n",
    "        print(\" I dint understand the command\")\n",
    "    command=input()"
   ]
  },
  {
   "cell_type": "code",
   "execution_count": 22,
   "id": "293456aa",
   "metadata": {},
   "outputs": [
    {
     "name": "stdout",
     "output_type": "stream",
     "text": [
      "Milan\n",
      "Kiran\n",
      "Rakesh\n"
     ]
    }
   ],
   "source": [
    "for item in [\"Milan\",\"Kiran\",\"Rakesh\"]:\n",
    "    print(item)"
   ]
  },
  {
   "cell_type": "code",
   "execution_count": 24,
   "id": "e8020ed8",
   "metadata": {},
   "outputs": [
    {
     "name": "stdout",
     "output_type": "stream",
     "text": [
      "5\n",
      "8\n",
      "11\n",
      "14\n"
     ]
    }
   ],
   "source": [
    "for item in range(5,15,3):\n",
    "    print(item)"
   ]
  },
  {
   "cell_type": "code",
   "execution_count": 25,
   "id": "8a762fda",
   "metadata": {},
   "outputs": [
    {
     "name": "stdout",
     "output_type": "stream",
     "text": [
      "60\n"
     ]
    }
   ],
   "source": [
    "prices=[10,20,30]\n",
    "total=0\n",
    "for items in prices:\n",
    "    total+=items\n",
    "print(total)"
   ]
  },
  {
   "cell_type": "code",
   "execution_count": 1,
   "id": "369dc5dc",
   "metadata": {},
   "outputs": [
    {
     "data": {
      "text/plain": [
       "1"
      ]
     },
     "execution_count": 1,
     "metadata": {},
     "output_type": "execute_result"
    }
   ],
   "source": [
    "10//9\n"
   ]
  },
  {
   "cell_type": "code",
   "execution_count": 6,
   "id": "1de76e81",
   "metadata": {},
   "outputs": [
    {
     "data": {
      "text/plain": [
       "0.0"
      ]
     },
     "execution_count": 6,
     "metadata": {},
     "output_type": "execute_result"
    }
   ],
   "source": [
    "9.9//10"
   ]
  },
  {
   "cell_type": "code",
   "execution_count": 8,
   "id": "d2e5b504",
   "metadata": {},
   "outputs": [
    {
     "data": {
      "text/plain": [
       "-1"
      ]
     },
     "execution_count": 8,
     "metadata": {},
     "output_type": "execute_result"
    }
   ],
   "source": [
    "-1**5"
   ]
  },
  {
   "cell_type": "code",
   "execution_count": null,
   "id": "91ac28e0",
   "metadata": {},
   "outputs": [],
   "source": [
    "32.14+46.42+21.4"
   ]
  }
 ],
 "metadata": {
  "kernelspec": {
   "display_name": "Python 3",
   "language": "python",
   "name": "python3"
  },
  "language_info": {
   "codemirror_mode": {
    "name": "ipython",
    "version": 3
   },
   "file_extension": ".py",
   "mimetype": "text/x-python",
   "name": "python",
   "nbconvert_exporter": "python",
   "pygments_lexer": "ipython3",
   "version": "3.8.8"
  },
  "nbTranslate": {
   "displayLangs": [
    "*"
   ],
   "hotkey": "alt-t",
   "langInMainMenu": true,
   "sourceLang": "en",
   "targetLang": "fr",
   "useGoogleTranslate": true
  },
  "varInspector": {
   "cols": {
    "lenName": 16,
    "lenType": 16,
    "lenVar": 40
   },
   "kernels_config": {
    "python": {
     "delete_cmd_postfix": "",
     "delete_cmd_prefix": "del ",
     "library": "var_list.py",
     "varRefreshCmd": "print(var_dic_list())"
    },
    "r": {
     "delete_cmd_postfix": ") ",
     "delete_cmd_prefix": "rm(",
     "library": "var_list.r",
     "varRefreshCmd": "cat(var_dic_list()) "
    }
   },
   "types_to_exclude": [
    "module",
    "function",
    "builtin_function_or_method",
    "instance",
    "_Feature"
   ],
   "window_display": false
  }
 },
 "nbformat": 4,
 "nbformat_minor": 5
}
